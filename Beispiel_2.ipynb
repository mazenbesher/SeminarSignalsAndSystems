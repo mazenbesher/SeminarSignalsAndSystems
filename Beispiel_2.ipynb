{
 "cells": [
  {
   "cell_type": "code",
   "execution_count": 1,
   "metadata": {
    "collapsed": false,
    "nbpresent": {
     "id": "129a91c7-5189-44b4-b3d2-5ab5344ce83a"
    }
   },
   "outputs": [
    {
     "data": {
      "text/html": [
       "\n",
       "    <div class=\"bk-root\">\n",
       "        <a href=\"http://bokeh.pydata.org\" target=\"_blank\" class=\"bk-logo bk-logo-small bk-logo-notebook\"></a>\n",
       "        <span id=\"df2e3e53-024c-4611-9d3d-8e2c802cf492\">Loading BokehJS ...</span>\n",
       "    </div>"
      ]
     },
     "metadata": {},
     "output_type": "display_data"
    },
    {
     "data": {
      "application/javascript": [
       "\n",
       "(function(global) {\n",
       "  function now() {\n",
       "    return new Date();\n",
       "  }\n",
       "\n",
       "  var force = \"1\";\n",
       "\n",
       "  if (typeof (window._bokeh_onload_callbacks) === \"undefined\" || force !== \"\") {\n",
       "    window._bokeh_onload_callbacks = [];\n",
       "    window._bokeh_is_loading = undefined;\n",
       "  }\n",
       "\n",
       "\n",
       "  \n",
       "  if (typeof (window._bokeh_timeout) === \"undefined\" || force !== \"\") {\n",
       "    window._bokeh_timeout = Date.now() + 5000;\n",
       "    window._bokeh_failed_load = false;\n",
       "  }\n",
       "\n",
       "  var NB_LOAD_WARNING = {'data': {'text/html':\n",
       "     \"<div style='background-color: #fdd'>\\n\"+\n",
       "     \"<p>\\n\"+\n",
       "     \"BokehJS does not appear to have successfully loaded. If loading BokehJS from CDN, this \\n\"+\n",
       "     \"may be due to a slow or bad network connection. Possible fixes:\\n\"+\n",
       "     \"</p>\\n\"+\n",
       "     \"<ul>\\n\"+\n",
       "     \"<li>re-rerun `output_notebook()` to attempt to load from CDN again, or</li>\\n\"+\n",
       "     \"<li>use INLINE resources instead, as so:</li>\\n\"+\n",
       "     \"</ul>\\n\"+\n",
       "     \"<code>\\n\"+\n",
       "     \"from bokeh.resources import INLINE\\n\"+\n",
       "     \"output_notebook(resources=INLINE)\\n\"+\n",
       "     \"</code>\\n\"+\n",
       "     \"</div>\"}};\n",
       "\n",
       "  function display_loaded() {\n",
       "    if (window.Bokeh !== undefined) {\n",
       "      Bokeh.$(\"#df2e3e53-024c-4611-9d3d-8e2c802cf492\").text(\"BokehJS successfully loaded.\");\n",
       "    } else if (Date.now() < window._bokeh_timeout) {\n",
       "      setTimeout(display_loaded, 100)\n",
       "    }\n",
       "  }\n",
       "\n",
       "  function run_callbacks() {\n",
       "    window._bokeh_onload_callbacks.forEach(function(callback) { callback() });\n",
       "    delete window._bokeh_onload_callbacks\n",
       "    console.info(\"Bokeh: all callbacks have finished\");\n",
       "  }\n",
       "\n",
       "  function load_libs(js_urls, callback) {\n",
       "    window._bokeh_onload_callbacks.push(callback);\n",
       "    if (window._bokeh_is_loading > 0) {\n",
       "      console.log(\"Bokeh: BokehJS is being loaded, scheduling callback at\", now());\n",
       "      return null;\n",
       "    }\n",
       "    if (js_urls == null || js_urls.length === 0) {\n",
       "      run_callbacks();\n",
       "      return null;\n",
       "    }\n",
       "    console.log(\"Bokeh: BokehJS not loaded, scheduling load and callback at\", now());\n",
       "    window._bokeh_is_loading = js_urls.length;\n",
       "    for (var i = 0; i < js_urls.length; i++) {\n",
       "      var url = js_urls[i];\n",
       "      var s = document.createElement('script');\n",
       "      s.src = url;\n",
       "      s.async = false;\n",
       "      s.onreadystatechange = s.onload = function() {\n",
       "        window._bokeh_is_loading--;\n",
       "        if (window._bokeh_is_loading === 0) {\n",
       "          console.log(\"Bokeh: all BokehJS libraries loaded\");\n",
       "          run_callbacks()\n",
       "        }\n",
       "      };\n",
       "      s.onerror = function() {\n",
       "        console.warn(\"failed to load library \" + url);\n",
       "      };\n",
       "      console.log(\"Bokeh: injecting script tag for BokehJS library: \", url);\n",
       "      document.getElementsByTagName(\"head\")[0].appendChild(s);\n",
       "    }\n",
       "  };var element = document.getElementById(\"df2e3e53-024c-4611-9d3d-8e2c802cf492\");\n",
       "  if (element == null) {\n",
       "    console.log(\"Bokeh: ERROR: autoload.js configured with elementid 'df2e3e53-024c-4611-9d3d-8e2c802cf492' but no matching script tag was found. \")\n",
       "    return false;\n",
       "  }\n",
       "\n",
       "  var js_urls = ['https://cdn.pydata.org/bokeh/release/bokeh-0.12.2.min.js', 'https://cdn.pydata.org/bokeh/release/bokeh-widgets-0.12.2.min.js', 'https://cdn.pydata.org/bokeh/release/bokeh-compiler-0.12.2.min.js'];\n",
       "\n",
       "  var inline_js = [\n",
       "    function(Bokeh) {\n",
       "      Bokeh.set_log_level(\"info\");\n",
       "    },\n",
       "    \n",
       "    function(Bokeh) {\n",
       "      \n",
       "      Bokeh.$(\"#df2e3e53-024c-4611-9d3d-8e2c802cf492\").text(\"BokehJS is loading...\");\n",
       "    },\n",
       "    function(Bokeh) {\n",
       "      console.log(\"Bokeh: injecting CSS: https://cdn.pydata.org/bokeh/release/bokeh-0.12.2.min.css\");\n",
       "      Bokeh.embed.inject_css(\"https://cdn.pydata.org/bokeh/release/bokeh-0.12.2.min.css\");\n",
       "      console.log(\"Bokeh: injecting CSS: https://cdn.pydata.org/bokeh/release/bokeh-widgets-0.12.2.min.css\");\n",
       "      Bokeh.embed.inject_css(\"https://cdn.pydata.org/bokeh/release/bokeh-widgets-0.12.2.min.css\");\n",
       "    }\n",
       "  ];\n",
       "\n",
       "  function run_inline_js() {\n",
       "    \n",
       "    if ((window.Bokeh !== undefined) || (force === \"1\")) {\n",
       "      for (var i = 0; i < inline_js.length; i++) {\n",
       "        inline_js[i](window.Bokeh);\n",
       "      }if (force === \"1\") {\n",
       "        display_loaded();\n",
       "      }} else if (Date.now() < window._bokeh_timeout) {\n",
       "      setTimeout(run_inline_js, 100);\n",
       "    } else if (!window._bokeh_failed_load) {\n",
       "      console.log(\"Bokeh: BokehJS failed to load within specified timeout.\");\n",
       "      window._bokeh_failed_load = true;\n",
       "    } else if (!force) {\n",
       "      var cell = $(\"#df2e3e53-024c-4611-9d3d-8e2c802cf492\").parents('.cell').data().cell;\n",
       "      cell.output_area.append_execute_result(NB_LOAD_WARNING)\n",
       "    }\n",
       "\n",
       "  }\n",
       "\n",
       "  if (window._bokeh_is_loading === 0) {\n",
       "    console.log(\"Bokeh: BokehJS loaded, going straight to plotting\");\n",
       "    run_inline_js();\n",
       "  } else {\n",
       "    load_libs(js_urls, function() {\n",
       "      console.log(\"Bokeh: BokehJS plotting callback run at\", now());\n",
       "      run_inline_js();\n",
       "    });\n",
       "  }\n",
       "}(this));"
      ]
     },
     "metadata": {},
     "output_type": "display_data"
    }
   ],
   "source": [
    "from ipywidgets import interact\n",
    "\n",
    "from bokeh.plotting import figure\n",
    "from bokeh.io import push_notebook, show, output_notebook\n",
    "from bokeh.layouts import row, gridplot\n",
    "from bokeh.models import Range1d\n",
    "\n",
    "output_notebook()"
   ]
  },
  {
   "cell_type": "code",
   "execution_count": 2,
   "metadata": {
    "collapsed": false,
    "nbpresent": {
     "id": "833fc4d4-4cd6-46c4-85cd-1e7125fccccf"
    }
   },
   "outputs": [],
   "source": [
    "# Globals\n",
    "oo = float(\"inf\")\n",
    "quad_width = 0.02\n",
    "default_plot_size = (300, 250)\n",
    "default_color = \"black\"\n",
    "default_y_range = Range1d(-1.5, 1.5)\n",
    "\n",
    "def delete_toolbar(plot):\n",
    "    # remove the logo and the toolbar\n",
    "    plot.toolbar.logo = None\n",
    "    plot.toolbar_location = None"
   ]
  },
  {
   "cell_type": "markdown",
   "metadata": {
    "nbpresent": {
     "id": "fb42e5e2-c62e-4fba-8d5b-fce33a211e01"
    }
   },
   "source": [
    "# Beipsiel 2"
   ]
  },
  {
   "cell_type": "code",
   "execution_count": 3,
   "metadata": {
    "collapsed": false,
    "nbpresent": {
     "id": "6f6c1935-a97e-4343-acac-b1ebc3e20d13"
    }
   },
   "outputs": [],
   "source": [
    "alpha = 0.5\n",
    "n = range(-10,10+1)\n",
    "k = n\n",
    "default_x_range = Range1d(n[0]-1, n[-1]+1)\n",
    "u = lambda n: 0 if n < 0 else 1\n",
    "\n",
    "# -------------------------------------------------------------------------------\n",
    "# x[n]\n",
    "xk = [alpha**i * u(i) for i in k]\n",
    "xk_p = figure(width=default_plot_size[0], height=default_plot_size[1], \n",
    "              title=\"x[k] = alpha^k u[k]\", x_axis_label=\"k\", y_axis_label=\"x[k] = alpha^k u[k]\",tools=[])\n",
    "\n",
    "# input signal\n",
    "xk_color = \"black\"\n",
    "xk_quad = xk_p.quad(top=xk, bottom=0, left=[i-quad_width for i in n], right=[i+quad_width for i in n], color=xk_color)\n",
    "xk_cir = xk_p.circle(k, xk, size=5, color=xk_color, fill_color=\"white\")\n",
    "\n",
    "# -------------------------------------------------------------------------------\n",
    "# h[n-k]\n",
    "hnk = [u(0-i) for i in k]\n",
    "hnk_p = figure(width=default_plot_size[0], height=default_plot_size[1], \n",
    "              title=\"h[n-k]\", x_axis_label=\"k\", y_axis_label=\"h[n-k]\",tools=[])\n",
    "\n",
    "# input signal\n",
    "hnk_color = \"black\"\n",
    "hnk_quad = hnk_p.quad(top=hnk, bottom=0, left=[i-quad_width for i in n], right=[i+quad_width for i in n], color=hnk_color)\n",
    "hnk_cir = hnk_p.circle(k, hnk, size=5, color=hnk_color, fill_color=\"white\")\n",
    "\n",
    "# -------------------------------------------------------------------------------\n",
    "# h[k]\n",
    "hk = [u(i) for i in k]\n",
    "hk_p = figure(width=default_plot_size[0], height=default_plot_size[1], \n",
    "              title=\"h[k] = u[k]\", x_axis_label=\"k\", y_axis_label=\"h[k] = u[k]\",tools=[])\n",
    "\n",
    "# input signal\n",
    "hk_color = \"black\"\n",
    "hk_quad = hk_p.quad(top=hk, bottom=0, left=[i-quad_width for i in n], right=[i+quad_width for i in n], color=hk_color)\n",
    "hk_cir = hk_p.circle(k, hk, size=5, color=hk_color, fill_color=\"white\")\n",
    "\n",
    "# -------------------------------------------------------------------------------\n",
    "# y[n]\n",
    "yn = [0 for _ in n]\n",
    "yn_p = figure(width=default_plot_size[0], height=default_plot_size[1], \n",
    "              title=\"y[n]\", x_axis_label=\"n\", y_axis_label=\"y[n]\",tools=[])\n",
    "\n",
    "# input signal\n",
    "yn_color = \"black\"\n",
    "yn_quad = yn_p.quad(top=yn, bottom=0, left=[i-quad_width for i in n], right=[i+quad_width for i in n], color=yn_color)\n",
    "yn_cir = yn_p.circle(n, yn, size=5, color=yn_color, fill_color=\"white\")\n",
    "\n",
    "# -------------------------------------------------------------------------------\n",
    "# fixed y[n]\n",
    "ynf = [(1-alpha**(i+1))/(1-alpha) * u(i) for i in n]\n",
    "ynf_p = figure(width=default_plot_size[0], height=default_plot_size[1], \n",
    "              title=\"y[n]\", x_axis_label=\"n\", y_axis_label=\"y[n]\",tools=[])\n",
    "\n",
    "# input signal\n",
    "ynf_color = \"black\"\n",
    "ynf_quad = ynf_p.quad(top=ynf, bottom=0, left=[i-quad_width for i in n], right=[i+quad_width for i in n], color=ynf_color)\n",
    "ynf_cir = ynf_p.circle(n, ynf, size=5, color=ynf_color, fill_color=\"white\")\n",
    "\n",
    "# -------------------------------------------------------------------------------\n",
    "all_p = [xk_p, hnk_p, hk_p, yn_p, ynf_p]\n",
    "for p in all_p:\n",
    "    delete_toolbar(p)\n",
    "    \n",
    "    # ranges\n",
    "    p.x_range = default_x_range\n",
    "    p.y_range = default_y_range\n",
    "    \n",
    "    # axes\n",
    "    p.segment(x0=min(n)-1, y0=0, x1=max(n)+1, y1=0, line_width = 2,color=\"gray\", line_alpha=0.5)    # x_axis\n",
    "    p.segment(x0=0, y0=min(n)-1, x1=0, y1=max(n)+1, line_width = 2,color=\"gray\", line_alpha=0.5)    # y_axis\n",
    "\n",
    "\n",
    "# ranges\n",
    "yn_p.y_range = Range1d(-4, 4)\n",
    "ynf_p.y_range = Range1d(-4, 4)\n",
    "    \n",
    "# -------------------------------------------------------------------------------\n",
    "# update\n",
    "def update(alpha, n=-10):\n",
    "    new_xk = [alpha**i * u(i) for i in k]\n",
    "    xk_quad.data_source.data['top'] = new_xk\n",
    "    xk_cir.data_source.data['y'] = new_xk\n",
    "    xk_p.title.text = \"x[k] = {}^k u[k]\".format(alpha)\n",
    "    \n",
    "    new_hnk = [u(n-i) for i in k]\n",
    "    hnk_quad.data_source.data['top'] = new_hnk\n",
    "    hnk_cir.data_source.data['y'] = new_hnk\n",
    "    hnk_p.title.text = \"h[{}-k]]\".format(n)\n",
    "    \n",
    "    n_ls = range(-10,10+1)\n",
    "    if yn[n + 10] == 0:\n",
    "        yn[n + 10] = sum([new_xk[j] * new_hnk[j] for j in range(len(new_xk))])\n",
    "        yn_quad.data_source.data['top'] = yn\n",
    "        yn_cir.data_source.data['y'] = yn\n",
    "    \n",
    "    new_yn = [(1-alpha**(i+1))/(1-alpha) * u(i) for i in n_ls]\n",
    "    ynf_quad.data_source.data['top'] = new_yn\n",
    "    ynf_cir.data_source.data['y'] = new_yn\n",
    "    \n",
    "    push_notebook()"
   ]
  },
  {
   "cell_type": "code",
   "execution_count": 4,
   "metadata": {
    "collapsed": false,
    "nbpresent": {
     "id": "667ec1ad-d739-49a7-b3af-cb8b6f4068a1"
    },
    "scrolled": false
   },
   "outputs": [
    {
     "data": {
      "text/html": [
       "\n",
       "\n",
       "    <div class=\"bk-root\">\n",
       "        <div class=\"plotdiv\" id=\"79e914a3-ae49-41f2-8e62-0ae3dbd1f6e1\"></div>\n",
       "    </div>\n",
       "<script type=\"text/javascript\">\n",
       "  \n",
       "  (function(global) {\n",
       "    function now() {\n",
       "      return new Date();\n",
       "    }\n",
       "  \n",
       "    var force = \"\";\n",
       "  \n",
       "    if (typeof (window._bokeh_onload_callbacks) === \"undefined\" || force !== \"\") {\n",
       "      window._bokeh_onload_callbacks = [];\n",
       "      window._bokeh_is_loading = undefined;\n",
       "    }\n",
       "  \n",
       "  \n",
       "    \n",
       "    if (typeof (window._bokeh_timeout) === \"undefined\" || force !== \"\") {\n",
       "      window._bokeh_timeout = Date.now() + 0;\n",
       "      window._bokeh_failed_load = false;\n",
       "    }\n",
       "  \n",
       "    var NB_LOAD_WARNING = {'data': {'text/html':\n",
       "       \"<div style='background-color: #fdd'>\\n\"+\n",
       "       \"<p>\\n\"+\n",
       "       \"BokehJS does not appear to have successfully loaded. If loading BokehJS from CDN, this \\n\"+\n",
       "       \"may be due to a slow or bad network connection. Possible fixes:\\n\"+\n",
       "       \"</p>\\n\"+\n",
       "       \"<ul>\\n\"+\n",
       "       \"<li>re-rerun `output_notebook()` to attempt to load from CDN again, or</li>\\n\"+\n",
       "       \"<li>use INLINE resources instead, as so:</li>\\n\"+\n",
       "       \"</ul>\\n\"+\n",
       "       \"<code>\\n\"+\n",
       "       \"from bokeh.resources import INLINE\\n\"+\n",
       "       \"output_notebook(resources=INLINE)\\n\"+\n",
       "       \"</code>\\n\"+\n",
       "       \"</div>\"}};\n",
       "  \n",
       "    function display_loaded() {\n",
       "      if (window.Bokeh !== undefined) {\n",
       "        Bokeh.$(\"#79e914a3-ae49-41f2-8e62-0ae3dbd1f6e1\").text(\"BokehJS successfully loaded.\");\n",
       "      } else if (Date.now() < window._bokeh_timeout) {\n",
       "        setTimeout(display_loaded, 100)\n",
       "      }\n",
       "    }if ((window.Jupyter !== undefined) && Jupyter.notebook.kernel) {\n",
       "      comm_manager = Jupyter.notebook.kernel.comm_manager\n",
       "      comm_manager.register_target(\"35d543e0-223d-42f6-876e-4f6bc10e8b9a\", function () {});\n",
       "    }\n",
       "  \n",
       "    function run_callbacks() {\n",
       "      window._bokeh_onload_callbacks.forEach(function(callback) { callback() });\n",
       "      delete window._bokeh_onload_callbacks\n",
       "      console.info(\"Bokeh: all callbacks have finished\");\n",
       "    }\n",
       "  \n",
       "    function load_libs(js_urls, callback) {\n",
       "      window._bokeh_onload_callbacks.push(callback);\n",
       "      if (window._bokeh_is_loading > 0) {\n",
       "        console.log(\"Bokeh: BokehJS is being loaded, scheduling callback at\", now());\n",
       "        return null;\n",
       "      }\n",
       "      if (js_urls == null || js_urls.length === 0) {\n",
       "        run_callbacks();\n",
       "        return null;\n",
       "      }\n",
       "      console.log(\"Bokeh: BokehJS not loaded, scheduling load and callback at\", now());\n",
       "      window._bokeh_is_loading = js_urls.length;\n",
       "      for (var i = 0; i < js_urls.length; i++) {\n",
       "        var url = js_urls[i];\n",
       "        var s = document.createElement('script');\n",
       "        s.src = url;\n",
       "        s.async = false;\n",
       "        s.onreadystatechange = s.onload = function() {\n",
       "          window._bokeh_is_loading--;\n",
       "          if (window._bokeh_is_loading === 0) {\n",
       "            console.log(\"Bokeh: all BokehJS libraries loaded\");\n",
       "            run_callbacks()\n",
       "          }\n",
       "        };\n",
       "        s.onerror = function() {\n",
       "          console.warn(\"failed to load library \" + url);\n",
       "        };\n",
       "        console.log(\"Bokeh: injecting script tag for BokehJS library: \", url);\n",
       "        document.getElementsByTagName(\"head\")[0].appendChild(s);\n",
       "      }\n",
       "    };var element = document.getElementById(\"79e914a3-ae49-41f2-8e62-0ae3dbd1f6e1\");\n",
       "    if (element == null) {\n",
       "      console.log(\"Bokeh: ERROR: autoload.js configured with elementid '79e914a3-ae49-41f2-8e62-0ae3dbd1f6e1' but no matching script tag was found. \")\n",
       "      return false;\n",
       "    }\n",
       "  \n",
       "    var js_urls = [];\n",
       "  \n",
       "    var inline_js = [\n",
       "      function(Bokeh) {\n",
       "        Bokeh.$(function() {\n",
       "            var docs_json = {\"f86e7cac-3908-4847-8834-ba00d78f7a74\":{\"roots\":{\"references\":[{\"attributes\":{\"callback\":null},\"id\":\"6b6eb8ed-33d2-44f0-9c7b-47b4b58c09e0\",\"type\":\"ColumnDataSource\"},{\"attributes\":{\"fill_color\":{\"value\":\"white\"},\"size\":{\"units\":\"screen\",\"value\":5},\"x\":{\"field\":\"x\"},\"y\":{\"field\":\"y\"}},\"id\":\"7604a34e-da2b-4036-a54b-b2e3cf83da67\",\"type\":\"Circle\"},{\"attributes\":{\"plot\":{\"id\":\"fd846fa9-2503-4ae7-9e7b-a488520958d1\",\"subtype\":\"Figure\",\"type\":\"Plot\"},\"ticker\":{\"id\":\"fcc18e81-f046-4ca9-8a0b-79e56911b0be\",\"type\":\"BasicTicker\"}},\"id\":\"dfb4c628-0bf4-47ad-8908-68c0fb720207\",\"type\":\"Grid\"},{\"attributes\":{\"axis_label\":\"k\",\"formatter\":{\"id\":\"98d63cb5-588c-4f5b-80eb-e3c80c40fe85\",\"type\":\"BasicTickFormatter\"},\"plot\":{\"id\":\"fd846fa9-2503-4ae7-9e7b-a488520958d1\",\"subtype\":\"Figure\",\"type\":\"Plot\"},\"ticker\":{\"id\":\"fcc18e81-f046-4ca9-8a0b-79e56911b0be\",\"type\":\"BasicTicker\"}},\"id\":\"7a4f34f1-04cc-4ea4-8af4-38fbd8db17c7\",\"type\":\"LinearAxis\"},{\"attributes\":{\"data_source\":{\"id\":\"bd5bb648-e0a7-4f81-9bec-befaa3b8bd2b\",\"type\":\"ColumnDataSource\"},\"glyph\":{\"id\":\"e41dada3-b1de-4dd6-8078-b090826d724b\",\"type\":\"Segment\"},\"hover_glyph\":null,\"nonselection_glyph\":{\"id\":\"93056fbc-4c41-46cd-8a6e-10897216c205\",\"type\":\"Segment\"},\"selection_glyph\":null},\"id\":\"2d4c54a5-3b02-42dc-b83a-63dc0fc6acb8\",\"type\":\"GlyphRenderer\"},{\"attributes\":{\"children\":[{\"id\":\"fd846fa9-2503-4ae7-9e7b-a488520958d1\",\"subtype\":\"Figure\",\"type\":\"Plot\"},{\"id\":\"94348e88-8a6d-45a5-99b1-307faaebaeef\",\"type\":\"Spacer\"},{\"id\":\"205120ba-9131-46aa-a2d3-3ffcfdd7a359\",\"subtype\":\"Figure\",\"type\":\"Plot\"}]},\"id\":\"7f77fd98-72dc-4ee2-8f5c-6886b49296ac\",\"type\":\"Row\"},{\"attributes\":{\"plot\":{\"id\":\"780f42ac-14e6-4df6-b5e7-14c83c9319bc\",\"subtype\":\"Figure\",\"type\":\"Plot\"},\"ticker\":{\"id\":\"1d6e14d2-9504-446a-9eee-eef4795f1d1c\",\"type\":\"BasicTicker\"}},\"id\":\"6f596da6-bcc1-492b-9bd6-246fb6cee99c\",\"type\":\"Grid\"},{\"attributes\":{\"data_source\":{\"id\":\"b2bb17cf-dbcd-4ca6-9265-0f0db4f3d844\",\"type\":\"ColumnDataSource\"},\"glyph\":{\"id\":\"de5b3907-c472-4e4b-8668-e7a956ed4123\",\"type\":\"Quad\"},\"hover_glyph\":null,\"nonselection_glyph\":{\"id\":\"70e2eb0f-3cae-4abc-a311-5f260ed86d42\",\"type\":\"Quad\"},\"selection_glyph\":null},\"id\":\"4b360c59-ab8e-41c8-aae0-f98f07343e12\",\"type\":\"GlyphRenderer\"},{\"attributes\":{\"axis_label\":\"n\",\"formatter\":{\"id\":\"15d0012c-b638-4502-8b19-2a20a43eb7ec\",\"type\":\"BasicTickFormatter\"},\"plot\":{\"id\":\"205120ba-9131-46aa-a2d3-3ffcfdd7a359\",\"subtype\":\"Figure\",\"type\":\"Plot\"},\"ticker\":{\"id\":\"ae06c892-f7e8-4302-8e65-774984b3e43a\",\"type\":\"BasicTicker\"}},\"id\":\"d9858993-1a2c-481d-8caa-eeca6b294dfa\",\"type\":\"LinearAxis\"},{\"attributes\":{\"bottom\":{\"value\":0},\"fill_color\":{\"value\":\"black\"},\"left\":{\"field\":\"left\"},\"right\":{\"field\":\"right\"},\"top\":{\"field\":\"top\"}},\"id\":\"de5b3907-c472-4e4b-8668-e7a956ed4123\",\"type\":\"Quad\"},{\"attributes\":{\"fill_alpha\":{\"value\":0.1},\"fill_color\":{\"value\":\"#1f77b4\"},\"line_alpha\":{\"value\":0.1},\"line_color\":{\"value\":\"#1f77b4\"},\"size\":{\"units\":\"screen\",\"value\":5},\"x\":{\"field\":\"x\"},\"y\":{\"field\":\"y\"}},\"id\":\"736f371e-bb54-45c6-b4b7-66bd5f9a7d72\",\"type\":\"Circle\"},{\"attributes\":{},\"id\":\"98d63cb5-588c-4f5b-80eb-e3c80c40fe85\",\"type\":\"BasicTickFormatter\"},{\"attributes\":{\"fill_color\":{\"value\":\"white\"},\"size\":{\"units\":\"screen\",\"value\":5},\"x\":{\"field\":\"x\"},\"y\":{\"field\":\"y\"}},\"id\":\"2f45701a-1191-4648-9574-60b4084f2137\",\"type\":\"Circle\"},{\"attributes\":{\"dimension\":1,\"plot\":{\"id\":\"780f42ac-14e6-4df6-b5e7-14c83c9319bc\",\"subtype\":\"Figure\",\"type\":\"Plot\"},\"ticker\":{\"id\":\"4b678c3d-c1b0-4bdb-8c0b-5d19b4ef05b4\",\"type\":\"BasicTicker\"}},\"id\":\"886171d7-589e-43c6-8d97-1805b6c9eb2c\",\"type\":\"Grid\"},{\"attributes\":{\"callback\":null},\"id\":\"b0b7d432-9e46-44d0-b87e-f49dc6a42c65\",\"type\":\"ColumnDataSource\"},{\"attributes\":{\"data_source\":{\"id\":\"f2e77032-ea89-41c6-bffc-ae50ef255328\",\"type\":\"ColumnDataSource\"},\"glyph\":{\"id\":\"2f45701a-1191-4648-9574-60b4084f2137\",\"type\":\"Circle\"},\"hover_glyph\":null,\"nonselection_glyph\":{\"id\":\"164070ec-97b5-4df7-94e8-cb8169697ac6\",\"type\":\"Circle\"},\"selection_glyph\":null},\"id\":\"f862a4f7-8c36-4c3a-83f2-11179f73df8a\",\"type\":\"GlyphRenderer\"},{\"attributes\":{\"line_alpha\":{\"value\":0.1},\"line_color\":{\"value\":\"#1f77b4\"},\"line_width\":{\"value\":2},\"x0\":{\"value\":-11},\"x1\":{\"value\":11},\"y0\":{\"value\":0},\"y1\":{\"value\":0}},\"id\":\"b48c0381-eab5-4adf-9e13-a761bf14b1c6\",\"type\":\"Segment\"},{\"attributes\":{\"dimension\":1,\"plot\":{\"id\":\"f686d717-a250-47e0-83e0-467b5aefb87c\",\"subtype\":\"Figure\",\"type\":\"Plot\"},\"ticker\":{\"id\":\"31c1a92c-2da8-4df2-a1a3-6af6d3254342\",\"type\":\"BasicTicker\"}},\"id\":\"f5e93b74-869a-4059-b62c-e24de158af8d\",\"type\":\"Grid\"},{\"attributes\":{\"below\":[{\"id\":\"c58417cd-fe76-420d-8040-a9a1c8a94025\",\"type\":\"LinearAxis\"}],\"left\":[{\"id\":\"d60f8f5e-ca4a-4ea6-b40c-60f866dc1ee1\",\"type\":\"LinearAxis\"}],\"plot_height\":250,\"plot_width\":300,\"renderers\":[{\"id\":\"c58417cd-fe76-420d-8040-a9a1c8a94025\",\"type\":\"LinearAxis\"},{\"id\":\"b5afd563-c6ec-4474-81f2-707c7657f7fe\",\"type\":\"Grid\"},{\"id\":\"d60f8f5e-ca4a-4ea6-b40c-60f866dc1ee1\",\"type\":\"LinearAxis\"},{\"id\":\"f5e93b74-869a-4059-b62c-e24de158af8d\",\"type\":\"Grid\"},{\"id\":\"8a6051a9-ece8-4920-8282-cff98aa016c1\",\"type\":\"GlyphRenderer\"},{\"id\":\"ca59c3c1-9af3-426a-b7fd-9c6d4cce016b\",\"type\":\"GlyphRenderer\"},{\"id\":\"ae5c741c-66c3-4a6b-b355-a938f7997677\",\"type\":\"GlyphRenderer\"},{\"id\":\"8aca0566-f1a5-4aa6-83ae-8c6fd3b77b0a\",\"type\":\"GlyphRenderer\"}],\"title\":{\"id\":\"cdabd223-e7ec-4383-a8d7-10842d7d2bca\",\"type\":\"Title\"},\"tool_events\":{\"id\":\"6bd92d7d-1a0f-493b-940a-cbeda0a3276c\",\"type\":\"ToolEvents\"},\"toolbar\":{\"id\":\"f23192ab-1904-4cea-998c-022ef1b3af10\",\"type\":\"Toolbar\"},\"toolbar_location\":null,\"x_range\":{\"id\":\"c44c2d00-5441-43bc-889e-5e5841d8b209\",\"type\":\"Range1d\"},\"y_range\":{\"id\":\"ba169ec6-6a37-425a-8fbd-e6e93899c35b\",\"type\":\"Range1d\"}},\"id\":\"f686d717-a250-47e0-83e0-467b5aefb87c\",\"subtype\":\"Figure\",\"type\":\"Plot\"},{\"attributes\":{\"active_drag\":\"auto\",\"active_scroll\":\"auto\",\"active_tap\":\"auto\",\"logo\":null},\"id\":\"2d6acdfa-ff98-4658-8664-5ad0747d7b9e\",\"type\":\"Toolbar\"},{\"attributes\":{},\"id\":\"9832e1e5-fcb8-40b1-8cbb-d86f2986f820\",\"type\":\"BasicTickFormatter\"},{\"attributes\":{\"callback\":null,\"end\":1.5,\"start\":-1.5},\"id\":\"84247edb-482f-42b1-9b3b-7a95570db466\",\"type\":\"Range1d\"},{\"attributes\":{\"data_source\":{\"id\":\"3b0d9f0f-7dce-4e62-8ae1-0edba728f5dd\",\"type\":\"ColumnDataSource\"},\"glyph\":{\"id\":\"ebf64527-e44b-4e0c-a9bc-ec6a61381f4d\",\"type\":\"Quad\"},\"hover_glyph\":null,\"nonselection_glyph\":{\"id\":\"30826d81-0814-4b85-8b3a-2c7bdce64127\",\"type\":\"Quad\"},\"selection_glyph\":null},\"id\":\"c10d01ec-43b0-400b-9873-874e58c61d27\",\"type\":\"GlyphRenderer\"},{\"attributes\":{\"fill_color\":{\"value\":\"white\"},\"size\":{\"units\":\"screen\",\"value\":5},\"x\":{\"field\":\"x\"},\"y\":{\"field\":\"y\"}},\"id\":\"0f3886f4-7cb2-412b-bf53-f855596dc805\",\"type\":\"Circle\"},{\"attributes\":{\"dimension\":1,\"plot\":{\"id\":\"fd846fa9-2503-4ae7-9e7b-a488520958d1\",\"subtype\":\"Figure\",\"type\":\"Plot\"},\"ticker\":{\"id\":\"b0021c9f-866c-4167-9b57-2b8e2ca64635\",\"type\":\"BasicTicker\"}},\"id\":\"6ad6d842-f574-4b21-8eb0-015ce7fb9123\",\"type\":\"Grid\"},{\"attributes\":{\"data_source\":{\"id\":\"3cf5011c-6762-4039-a0ed-bde2b22c5b2a\",\"type\":\"ColumnDataSource\"},\"glyph\":{\"id\":\"b591ecb1-ed91-4acf-80e8-abff79b10ee2\",\"type\":\"Segment\"},\"hover_glyph\":null,\"nonselection_glyph\":{\"id\":\"b48c0381-eab5-4adf-9e13-a761bf14b1c6\",\"type\":\"Segment\"},\"selection_glyph\":null},\"id\":\"60be2940-8dab-42aa-84df-2bbc02417915\",\"type\":\"GlyphRenderer\"},{\"attributes\":{\"data_source\":{\"id\":\"fdef5213-1b39-4e24-b967-1808d5fb327c\",\"type\":\"ColumnDataSource\"},\"glyph\":{\"id\":\"5a27821a-951d-4da6-a168-a4acf747833e\",\"type\":\"Segment\"},\"hover_glyph\":null,\"nonselection_glyph\":{\"id\":\"902c8486-b58a-4e57-80c7-43ccdb8b5527\",\"type\":\"Segment\"},\"selection_glyph\":null},\"id\":\"514892b6-0ae7-493b-adfb-47fa0e46f8d2\",\"type\":\"GlyphRenderer\"},{\"attributes\":{\"plot\":null,\"text\":\"h[k] = u[k]\"},\"id\":\"1d5bc3b7-7b60-4277-b4da-791e01347252\",\"type\":\"Title\"},{\"attributes\":{\"children\":[{\"id\":\"62749d19-6276-40f6-a05e-be6adfef0aed\",\"subtype\":\"Figure\",\"type\":\"Plot\"},{\"id\":\"780f42ac-14e6-4df6-b5e7-14c83c9319bc\",\"subtype\":\"Figure\",\"type\":\"Plot\"},{\"id\":\"f686d717-a250-47e0-83e0-467b5aefb87c\",\"subtype\":\"Figure\",\"type\":\"Plot\"}]},\"id\":\"1e55fc95-e91f-42e0-a8d0-e43026b53741\",\"type\":\"Row\"},{\"attributes\":{\"plot\":null,\"text\":\"y[n]\"},\"id\":\"777e89dc-f407-477f-9da2-11648981b1a8\",\"type\":\"Title\"},{\"attributes\":{\"children\":[{\"id\":\"7f77fd98-72dc-4ee2-8f5c-6886b49296ac\",\"type\":\"Row\"},{\"id\":\"1e55fc95-e91f-42e0-a8d0-e43026b53741\",\"type\":\"Row\"}]},\"id\":\"92cafc0c-a7ab-4f95-9b26-5557131422cb\",\"type\":\"Column\"},{\"attributes\":{\"active_drag\":\"auto\",\"active_scroll\":\"auto\",\"active_tap\":\"auto\",\"logo\":null},\"id\":\"4c8b23e8-8303-4239-8fd5-ddc7eed53111\",\"type\":\"Toolbar\"},{\"attributes\":{},\"id\":\"1d6e14d2-9504-446a-9eee-eef4795f1d1c\",\"type\":\"BasicTicker\"},{\"attributes\":{\"line_alpha\":{\"value\":0.1},\"line_color\":{\"value\":\"#1f77b4\"},\"line_width\":{\"value\":2},\"x0\":{\"value\":-11},\"x1\":{\"value\":11},\"y0\":{\"value\":0},\"y1\":{\"value\":0}},\"id\":\"133a0431-ee33-4f88-90e4-10ae0bc205e1\",\"type\":\"Segment\"},{\"attributes\":{\"callback\":null,\"end\":11,\"start\":-11},\"id\":\"c44c2d00-5441-43bc-889e-5e5841d8b209\",\"type\":\"Range1d\"},{\"attributes\":{},\"id\":\"15d0012c-b638-4502-8b19-2a20a43eb7ec\",\"type\":\"BasicTickFormatter\"},{\"attributes\":{\"line_alpha\":{\"value\":0.1},\"line_color\":{\"value\":\"#1f77b4\"},\"line_width\":{\"value\":2},\"x0\":{\"value\":0},\"x1\":{\"value\":0},\"y0\":{\"value\":-11},\"y1\":{\"value\":11}},\"id\":\"902c8486-b58a-4e57-80c7-43ccdb8b5527\",\"type\":\"Segment\"},{\"attributes\":{\"data_source\":{\"id\":\"178bb4b4-64cd-40b0-9de4-f726512b156b\",\"type\":\"ColumnDataSource\"},\"glyph\":{\"id\":\"9e283f1f-247b-49e9-8768-dc3bf3146a32\",\"type\":\"Segment\"},\"hover_glyph\":null,\"nonselection_glyph\":{\"id\":\"f7e70fe7-7251-4218-9f63-12988c724a0a\",\"type\":\"Segment\"},\"selection_glyph\":null},\"id\":\"e81dd355-6814-4855-a742-466cc06e36ef\",\"type\":\"GlyphRenderer\"},{\"attributes\":{\"axis_label\":\"x[k] = alpha^k u[k]\",\"formatter\":{\"id\":\"31bf3cbe-6706-4e48-b56b-8c1e06134296\",\"type\":\"BasicTickFormatter\"},\"plot\":{\"id\":\"fd846fa9-2503-4ae7-9e7b-a488520958d1\",\"subtype\":\"Figure\",\"type\":\"Plot\"},\"ticker\":{\"id\":\"b0021c9f-866c-4167-9b57-2b8e2ca64635\",\"type\":\"BasicTicker\"}},\"id\":\"4e0e0189-885c-4e4f-b5e3-43c4eabf7278\",\"type\":\"LinearAxis\"},{\"attributes\":{\"axis_label\":\"h[n-k]\",\"formatter\":{\"id\":\"6ae058bb-d28c-4aff-95bd-0a89be7fc8a2\",\"type\":\"BasicTickFormatter\"},\"plot\":{\"id\":\"780f42ac-14e6-4df6-b5e7-14c83c9319bc\",\"subtype\":\"Figure\",\"type\":\"Plot\"},\"ticker\":{\"id\":\"4b678c3d-c1b0-4bdb-8c0b-5d19b4ef05b4\",\"type\":\"BasicTicker\"}},\"id\":\"8022c42e-0f90-4144-b63a-70a2b1e13547\",\"type\":\"LinearAxis\"},{\"attributes\":{\"data_source\":{\"id\":\"891f8200-88b4-4306-8ab6-b013e792bda5\",\"type\":\"ColumnDataSource\"},\"glyph\":{\"id\":\"5fb98859-51ea-40a4-953a-a7626faa3b18\",\"type\":\"Circle\"},\"hover_glyph\":null,\"nonselection_glyph\":{\"id\":\"736f371e-bb54-45c6-b4b7-66bd5f9a7d72\",\"type\":\"Circle\"},\"selection_glyph\":null},\"id\":\"3989db8e-ce3b-4abe-bf60-d134861924a0\",\"type\":\"GlyphRenderer\"},{\"attributes\":{\"below\":[{\"id\":\"7a4f34f1-04cc-4ea4-8af4-38fbd8db17c7\",\"type\":\"LinearAxis\"}],\"left\":[{\"id\":\"4e0e0189-885c-4e4f-b5e3-43c4eabf7278\",\"type\":\"LinearAxis\"}],\"plot_height\":250,\"plot_width\":300,\"renderers\":[{\"id\":\"7a4f34f1-04cc-4ea4-8af4-38fbd8db17c7\",\"type\":\"LinearAxis\"},{\"id\":\"dfb4c628-0bf4-47ad-8908-68c0fb720207\",\"type\":\"Grid\"},{\"id\":\"4e0e0189-885c-4e4f-b5e3-43c4eabf7278\",\"type\":\"LinearAxis\"},{\"id\":\"6ad6d842-f574-4b21-8eb0-015ce7fb9123\",\"type\":\"Grid\"},{\"id\":\"e1068608-e8ec-43ea-89f0-31de50746d22\",\"type\":\"GlyphRenderer\"},{\"id\":\"2d9540da-58a1-47f7-8325-0b3d6b08e0a9\",\"type\":\"GlyphRenderer\"},{\"id\":\"b0c882cb-b2e9-4131-926e-d3a8f75c3fcd\",\"type\":\"GlyphRenderer\"},{\"id\":\"e81dd355-6814-4855-a742-466cc06e36ef\",\"type\":\"GlyphRenderer\"}],\"title\":{\"id\":\"852d7fb0-9569-4111-98c7-271b93de5621\",\"type\":\"Title\"},\"tool_events\":{\"id\":\"6d69bd03-b2ea-4db9-9e69-b4bb80762047\",\"type\":\"ToolEvents\"},\"toolbar\":{\"id\":\"681860c1-e555-4d2d-b609-1428bc86c109\",\"type\":\"Toolbar\"},\"toolbar_location\":null,\"x_range\":{\"id\":\"c44c2d00-5441-43bc-889e-5e5841d8b209\",\"type\":\"Range1d\"},\"y_range\":{\"id\":\"84247edb-482f-42b1-9b3b-7a95570db466\",\"type\":\"Range1d\"}},\"id\":\"fd846fa9-2503-4ae7-9e7b-a488520958d1\",\"subtype\":\"Figure\",\"type\":\"Plot\"},{\"attributes\":{\"bottom\":{\"value\":0},\"fill_color\":{\"value\":\"black\"},\"left\":{\"field\":\"left\"},\"right\":{\"field\":\"right\"},\"top\":{\"field\":\"top\"}},\"id\":\"550e42ec-438c-464e-b655-cb5c659e6249\",\"type\":\"Quad\"},{\"attributes\":{\"line_alpha\":{\"value\":0.5},\"line_color\":{\"value\":\"gray\"},\"line_width\":{\"value\":2},\"x0\":{\"value\":0},\"x1\":{\"value\":0},\"y0\":{\"value\":-11},\"y1\":{\"value\":11}},\"id\":\"fef0506d-b722-4f18-924b-9d47c465b51a\",\"type\":\"Segment\"},{\"attributes\":{\"callback\":null,\"column_names\":[\"right\",\"top\",\"left\"],\"data\":{\"left\":[-10.02,-9.02,-8.02,-7.02,-6.02,-5.02,-4.02,-3.02,-2.02,-1.02,-0.02,0.98,1.98,2.98,3.98,4.98,5.98,6.98,7.98,8.98,9.98],\"right\":[-9.98,-8.98,-7.98,-6.98,-5.98,-4.98,-3.98,-2.98,-1.98,-0.98,0.02,1.02,2.02,3.02,4.02,5.02,6.02,7.02,8.02,9.02,10.02],\"top\":[0.0,0.0,0.0,0.0,0.0,0.0,0.0,0.0,0.0,0.0,1.0,0.5,0.25,0.125,0.0625,0.03125,0.015625,0.0078125,0.00390625,0.001953125,0.0009765625]}},\"id\":\"6e2576e6-3bc6-4cac-9c78-a31e4ac03620\",\"type\":\"ColumnDataSource\"},{\"attributes\":{},\"id\":\"ed3ebc02-a0a9-4b21-acdf-41410bac8a86\",\"type\":\"BasicTickFormatter\"},{\"attributes\":{},\"id\":\"ae06c892-f7e8-4302-8e65-774984b3e43a\",\"type\":\"BasicTicker\"},{\"attributes\":{},\"id\":\"1f61f8a7-31bd-416e-bc01-596bec1bbe93\",\"type\":\"ToolEvents\"},{\"attributes\":{\"active_drag\":\"auto\",\"active_scroll\":\"auto\",\"active_tap\":\"auto\",\"logo\":null},\"id\":\"f23192ab-1904-4cea-998c-022ef1b3af10\",\"type\":\"Toolbar\"},{\"attributes\":{\"callback\":null,\"column_names\":[\"right\",\"top\",\"left\"],\"data\":{\"left\":[-10.02,-9.02,-8.02,-7.02,-6.02,-5.02,-4.02,-3.02,-2.02,-1.02,-0.02,0.98,1.98,2.98,3.98,4.98,5.98,6.98,7.98,8.98,9.98],\"right\":[-9.98,-8.98,-7.98,-6.98,-5.98,-4.98,-3.98,-2.98,-1.98,-0.98,0.02,1.02,2.02,3.02,4.02,5.02,6.02,7.02,8.02,9.02,10.02],\"top\":[1,1,1,1,1,1,1,1,1,1,1,0,0,0,0,0,0,0,0,0,0]}},\"id\":\"3b0d9f0f-7dce-4e62-8ae1-0edba728f5dd\",\"type\":\"ColumnDataSource\"},{\"attributes\":{\"callback\":null},\"id\":\"3cf5011c-6762-4039-a0ed-bde2b22c5b2a\",\"type\":\"ColumnDataSource\"},{\"attributes\":{\"bottom\":{\"value\":0},\"fill_alpha\":{\"value\":0.1},\"fill_color\":{\"value\":\"#1f77b4\"},\"left\":{\"field\":\"left\"},\"line_alpha\":{\"value\":0.1},\"line_color\":{\"value\":\"#1f77b4\"},\"right\":{\"field\":\"right\"},\"top\":{\"field\":\"top\"}},\"id\":\"70e2eb0f-3cae-4abc-a311-5f260ed86d42\",\"type\":\"Quad\"},{\"attributes\":{\"bottom\":{\"value\":0},\"fill_color\":{\"value\":\"black\"},\"left\":{\"field\":\"left\"},\"right\":{\"field\":\"right\"},\"top\":{\"field\":\"top\"}},\"id\":\"b99db5c6-a4ce-4a39-a2d4-d4cc98a0a53c\",\"type\":\"Quad\"},{\"attributes\":{},\"id\":\"6d69bd03-b2ea-4db9-9e69-b4bb80762047\",\"type\":\"ToolEvents\"},{\"attributes\":{},\"id\":\"6bd92d7d-1a0f-493b-940a-cbeda0a3276c\",\"type\":\"ToolEvents\"},{\"attributes\":{\"callback\":null,\"column_names\":[\"x\",\"y\"],\"data\":{\"x\":[-10,-9,-8,-7,-6,-5,-4,-3,-2,-1,0,1,2,3,4,5,6,7,8,9,10],\"y\":[0.0,0.0,0.0,0.0,0.0,0.0,0.0,0.0,0.0,0.0,1.0,0.5,0.25,0.125,0.0625,0.03125,0.015625,0.0078125,0.00390625,0.001953125,0.0009765625]}},\"id\":\"99c878b6-aa3b-4cfb-b3b3-4a06d6502c2e\",\"type\":\"ColumnDataSource\"},{\"attributes\":{\"data_source\":{\"id\":\"9048278b-7a1e-4ce9-a263-ca86f65dd152\",\"type\":\"ColumnDataSource\"},\"glyph\":{\"id\":\"53cbcf64-6b38-4847-80ce-1e1af00ce4dd\",\"type\":\"Quad\"},\"hover_glyph\":null,\"nonselection_glyph\":{\"id\":\"4c5a1ddf-4b2b-4244-abc7-b8821999b6e5\",\"type\":\"Quad\"},\"selection_glyph\":null},\"id\":\"06a2e727-58e3-4be8-a7b4-08ef39fb1d4d\",\"type\":\"GlyphRenderer\"},{\"attributes\":{\"data_source\":{\"id\":\"99c878b6-aa3b-4cfb-b3b3-4a06d6502c2e\",\"type\":\"ColumnDataSource\"},\"glyph\":{\"id\":\"d6910f40-0d0f-4f81-9ce3-b7de822acf4c\",\"type\":\"Circle\"},\"hover_glyph\":null,\"nonselection_glyph\":{\"id\":\"bb3156fd-e032-48e0-bd25-3d1ff9d1eb12\",\"type\":\"Circle\"},\"selection_glyph\":null},\"id\":\"2d9540da-58a1-47f7-8325-0b3d6b08e0a9\",\"type\":\"GlyphRenderer\"},{\"attributes\":{\"callback\":null},\"id\":\"bd5bb648-e0a7-4f81-9bec-befaa3b8bd2b\",\"type\":\"ColumnDataSource\"},{\"attributes\":{},\"id\":\"31c1a92c-2da8-4df2-a1a3-6af6d3254342\",\"type\":\"BasicTicker\"},{\"attributes\":{},\"id\":\"69b865ae-1001-4fe1-953b-32caae52fe58\",\"type\":\"BasicTicker\"},{\"attributes\":{\"below\":[{\"id\":\"73cb8ce6-fca2-47e5-ac28-7b166e5a6709\",\"type\":\"LinearAxis\"}],\"left\":[{\"id\":\"8022c42e-0f90-4144-b63a-70a2b1e13547\",\"type\":\"LinearAxis\"}],\"plot_height\":250,\"plot_width\":300,\"renderers\":[{\"id\":\"73cb8ce6-fca2-47e5-ac28-7b166e5a6709\",\"type\":\"LinearAxis\"},{\"id\":\"6f596da6-bcc1-492b-9bd6-246fb6cee99c\",\"type\":\"Grid\"},{\"id\":\"8022c42e-0f90-4144-b63a-70a2b1e13547\",\"type\":\"LinearAxis\"},{\"id\":\"886171d7-589e-43c6-8d97-1805b6c9eb2c\",\"type\":\"Grid\"},{\"id\":\"c10d01ec-43b0-400b-9873-874e58c61d27\",\"type\":\"GlyphRenderer\"},{\"id\":\"3989db8e-ce3b-4abe-bf60-d134861924a0\",\"type\":\"GlyphRenderer\"},{\"id\":\"60be2940-8dab-42aa-84df-2bbc02417915\",\"type\":\"GlyphRenderer\"},{\"id\":\"514892b6-0ae7-493b-adfb-47fa0e46f8d2\",\"type\":\"GlyphRenderer\"}],\"title\":{\"id\":\"e11ccf02-28cc-481f-ac4d-2e4bf40cd8c3\",\"type\":\"Title\"},\"tool_events\":{\"id\":\"cc5e80fe-da82-442d-9f79-b507cec21970\",\"type\":\"ToolEvents\"},\"toolbar\":{\"id\":\"4c8b23e8-8303-4239-8fd5-ddc7eed53111\",\"type\":\"Toolbar\"},\"toolbar_location\":null,\"x_range\":{\"id\":\"c44c2d00-5441-43bc-889e-5e5841d8b209\",\"type\":\"Range1d\"},\"y_range\":{\"id\":\"84247edb-482f-42b1-9b3b-7a95570db466\",\"type\":\"Range1d\"}},\"id\":\"780f42ac-14e6-4df6-b5e7-14c83c9319bc\",\"subtype\":\"Figure\",\"type\":\"Plot\"},{\"attributes\":{\"data_source\":{\"id\":\"6e2576e6-3bc6-4cac-9c78-a31e4ac03620\",\"type\":\"ColumnDataSource\"},\"glyph\":{\"id\":\"b99db5c6-a4ce-4a39-a2d4-d4cc98a0a53c\",\"type\":\"Quad\"},\"hover_glyph\":null,\"nonselection_glyph\":{\"id\":\"141fcef9-4655-4dc6-9f37-2394659fffe2\",\"type\":\"Quad\"},\"selection_glyph\":null},\"id\":\"e1068608-e8ec-43ea-89f0-31de50746d22\",\"type\":\"GlyphRenderer\"},{\"attributes\":{\"axis_label\":\"y[n]\",\"formatter\":{\"id\":\"3624de27-3ca1-4a46-9f96-99534d1f3712\",\"type\":\"BasicTickFormatter\"},\"plot\":{\"id\":\"f686d717-a250-47e0-83e0-467b5aefb87c\",\"subtype\":\"Figure\",\"type\":\"Plot\"},\"ticker\":{\"id\":\"31c1a92c-2da8-4df2-a1a3-6af6d3254342\",\"type\":\"BasicTicker\"}},\"id\":\"d60f8f5e-ca4a-4ea6-b40c-60f866dc1ee1\",\"type\":\"LinearAxis\"},{\"attributes\":{\"data_source\":{\"id\":\"b26526f9-a153-424a-91e4-898e242bad31\",\"type\":\"ColumnDataSource\"},\"glyph\":{\"id\":\"550e42ec-438c-464e-b655-cb5c659e6249\",\"type\":\"Quad\"},\"hover_glyph\":null,\"nonselection_glyph\":{\"id\":\"f0747308-da59-45e9-9709-5f361e4920a3\",\"type\":\"Quad\"},\"selection_glyph\":null},\"id\":\"8a6051a9-ece8-4920-8282-cff98aa016c1\",\"type\":\"GlyphRenderer\"},{\"attributes\":{},\"id\":\"4b678c3d-c1b0-4bdb-8c0b-5d19b4ef05b4\",\"type\":\"BasicTicker\"},{\"attributes\":{\"line_alpha\":{\"value\":0.5},\"line_color\":{\"value\":\"gray\"},\"line_width\":{\"value\":2},\"x0\":{\"value\":-11},\"x1\":{\"value\":11},\"y0\":{\"value\":0},\"y1\":{\"value\":0}},\"id\":\"679d6be9-5757-44ed-8ce3-4ce5d4cc9632\",\"type\":\"Segment\"},{\"attributes\":{\"callback\":null,\"column_names\":[\"x\",\"y\"],\"data\":{\"x\":[-10,-9,-8,-7,-6,-5,-4,-3,-2,-1,0,1,2,3,4,5,6,7,8,9,10],\"y\":[-0.0,-0.0,-0.0,-0.0,-0.0,-0.0,-0.0,-0.0,-0.0,0.0,1.0,1.5,1.75,1.875,1.9375,1.96875,1.984375,1.9921875,1.99609375,1.998046875,1.9990234375]}},\"id\":\"f2e77032-ea89-41c6-bffc-ae50ef255328\",\"type\":\"ColumnDataSource\"},{\"attributes\":{\"bottom\":{\"value\":0},\"fill_color\":{\"value\":\"black\"},\"left\":{\"field\":\"left\"},\"right\":{\"field\":\"right\"},\"top\":{\"field\":\"top\"}},\"id\":\"ebf64527-e44b-4e0c-a9bc-ec6a61381f4d\",\"type\":\"Quad\"},{\"attributes\":{\"dimension\":1,\"plot\":{\"id\":\"62749d19-6276-40f6-a05e-be6adfef0aed\",\"subtype\":\"Figure\",\"type\":\"Plot\"},\"ticker\":{\"id\":\"69b865ae-1001-4fe1-953b-32caae52fe58\",\"type\":\"BasicTicker\"}},\"id\":\"844693e4-c24e-467c-80da-24301686b949\",\"type\":\"Grid\"},{\"attributes\":{\"callback\":null,\"column_names\":[\"right\",\"top\",\"left\"],\"data\":{\"left\":[-10.02,-9.02,-8.02,-7.02,-6.02,-5.02,-4.02,-3.02,-2.02,-1.02,-0.02,0.98,1.98,2.98,3.98,4.98,5.98,6.98,7.98,8.98,9.98],\"right\":[-9.98,-8.98,-7.98,-6.98,-5.98,-4.98,-3.98,-2.98,-1.98,-0.98,0.02,1.02,2.02,3.02,4.02,5.02,6.02,7.02,8.02,9.02,10.02],\"top\":[-0.0,-0.0,-0.0,-0.0,-0.0,-0.0,-0.0,-0.0,-0.0,0.0,1.0,1.5,1.75,1.875,1.9375,1.96875,1.984375,1.9921875,1.99609375,1.998046875,1.9990234375]}},\"id\":\"b2bb17cf-dbcd-4ca6-9265-0f0db4f3d844\",\"type\":\"ColumnDataSource\"},{\"attributes\":{\"bottom\":{\"value\":0},\"fill_alpha\":{\"value\":0.1},\"fill_color\":{\"value\":\"#1f77b4\"},\"left\":{\"field\":\"left\"},\"line_alpha\":{\"value\":0.1},\"line_color\":{\"value\":\"#1f77b4\"},\"right\":{\"field\":\"right\"},\"top\":{\"field\":\"top\"}},\"id\":\"30826d81-0814-4b85-8b3a-2c7bdce64127\",\"type\":\"Quad\"},{\"attributes\":{\"data_source\":{\"id\":\"c8d707a9-9162-4abe-95b6-08beb04526f4\",\"type\":\"ColumnDataSource\"},\"glyph\":{\"id\":\"d3938656-0bb2-4297-aea4-280498e34331\",\"type\":\"Segment\"},\"hover_glyph\":null,\"nonselection_glyph\":{\"id\":\"2e43c913-77d2-4ba8-94a3-958f3c49b644\",\"type\":\"Segment\"},\"selection_glyph\":null},\"id\":\"8aca0566-f1a5-4aa6-83ae-8c6fd3b77b0a\",\"type\":\"GlyphRenderer\"},{\"attributes\":{},\"id\":\"fcc18e81-f046-4ca9-8a0b-79e56911b0be\",\"type\":\"BasicTicker\"},{\"attributes\":{\"data_source\":{\"id\":\"d4df6e33-e6f3-45d7-8699-16e6fb04f8d1\",\"type\":\"ColumnDataSource\"},\"glyph\":{\"id\":\"7604a34e-da2b-4036-a54b-b2e3cf83da67\",\"type\":\"Circle\"},\"hover_glyph\":null,\"nonselection_glyph\":{\"id\":\"ecb8d05b-a828-4c7b-aa04-6b88eeab468e\",\"type\":\"Circle\"},\"selection_glyph\":null},\"id\":\"ca59c3c1-9af3-426a-b7fd-9c6d4cce016b\",\"type\":\"GlyphRenderer\"},{\"attributes\":{\"line_alpha\":{\"value\":0.5},\"line_color\":{\"value\":\"gray\"},\"line_width\":{\"value\":2},\"x0\":{\"value\":-11},\"x1\":{\"value\":11},\"y0\":{\"value\":0},\"y1\":{\"value\":0}},\"id\":\"9f2124ed-9c21-4685-8d67-2d6aa64fb6dc\",\"type\":\"Segment\"},{\"attributes\":{\"fill_alpha\":{\"value\":0.1},\"fill_color\":{\"value\":\"#1f77b4\"},\"line_alpha\":{\"value\":0.1},\"line_color\":{\"value\":\"#1f77b4\"},\"size\":{\"units\":\"screen\",\"value\":5},\"x\":{\"field\":\"x\"},\"y\":{\"field\":\"y\"}},\"id\":\"00b15e4c-c79e-4044-9e0f-aada1bce8f32\",\"type\":\"Circle\"},{\"attributes\":{\"line_alpha\":{\"value\":0.5},\"line_color\":{\"value\":\"gray\"},\"line_width\":{\"value\":2},\"x0\":{\"value\":-11},\"x1\":{\"value\":11},\"y0\":{\"value\":0},\"y1\":{\"value\":0}},\"id\":\"6175519c-6861-49a0-89df-aed1d6aa1dcc\",\"type\":\"Segment\"},{\"attributes\":{},\"id\":\"3624de27-3ca1-4a46-9f96-99534d1f3712\",\"type\":\"BasicTickFormatter\"},{\"attributes\":{\"fill_alpha\":{\"value\":0.1},\"fill_color\":{\"value\":\"#1f77b4\"},\"line_alpha\":{\"value\":0.1},\"line_color\":{\"value\":\"#1f77b4\"},\"size\":{\"units\":\"screen\",\"value\":5},\"x\":{\"field\":\"x\"},\"y\":{\"field\":\"y\"}},\"id\":\"bb3156fd-e032-48e0-bd25-3d1ff9d1eb12\",\"type\":\"Circle\"},{\"attributes\":{\"axis_label\":\"k\",\"formatter\":{\"id\":\"58c1b91a-fc42-4f20-a39d-bdbb0e6c7942\",\"type\":\"BasicTickFormatter\"},\"plot\":{\"id\":\"62749d19-6276-40f6-a05e-be6adfef0aed\",\"subtype\":\"Figure\",\"type\":\"Plot\"},\"ticker\":{\"id\":\"4882e7a5-9de5-42ec-8e2d-afa4c12fd273\",\"type\":\"BasicTicker\"}},\"id\":\"ba1dc654-64ad-48d2-9c83-8358ab6b2296\",\"type\":\"LinearAxis\"},{\"attributes\":{\"plot\":null,\"text\":\"x[k] = alpha^k u[k]\"},\"id\":\"852d7fb0-9569-4111-98c7-271b93de5621\",\"type\":\"Title\"},{\"attributes\":{\"line_alpha\":{\"value\":0.5},\"line_color\":{\"value\":\"gray\"},\"line_width\":{\"value\":2},\"x0\":{\"value\":0},\"x1\":{\"value\":0},\"y0\":{\"value\":-11},\"y1\":{\"value\":11}},\"id\":\"d3938656-0bb2-4297-aea4-280498e34331\",\"type\":\"Segment\"},{\"attributes\":{\"data_source\":{\"id\":\"b5ee1b22-b2fe-499b-a03d-44f0b686c234\",\"type\":\"ColumnDataSource\"},\"glyph\":{\"id\":\"4237773d-953f-4ab1-84d9-908ac8fc0fb6\",\"type\":\"Segment\"},\"hover_glyph\":null,\"nonselection_glyph\":{\"id\":\"b28f978f-10e1-4295-a7a3-e4bd1ec9b762\",\"type\":\"Segment\"},\"selection_glyph\":null},\"id\":\"b0c882cb-b2e9-4131-926e-d3a8f75c3fcd\",\"type\":\"GlyphRenderer\"},{\"attributes\":{},\"id\":\"6ae058bb-d28c-4aff-95bd-0a89be7fc8a2\",\"type\":\"BasicTickFormatter\"},{\"attributes\":{\"line_alpha\":{\"value\":0.1},\"line_color\":{\"value\":\"#1f77b4\"},\"line_width\":{\"value\":2},\"x0\":{\"value\":0},\"x1\":{\"value\":0},\"y0\":{\"value\":-11},\"y1\":{\"value\":11}},\"id\":\"93056fbc-4c41-46cd-8a6e-10897216c205\",\"type\":\"Segment\"},{\"attributes\":{\"axis_label\":\"n\",\"formatter\":{\"id\":\"53c952ad-709b-4a81-995f-0f2f26b6e154\",\"type\":\"BasicTickFormatter\"},\"plot\":{\"id\":\"f686d717-a250-47e0-83e0-467b5aefb87c\",\"subtype\":\"Figure\",\"type\":\"Plot\"},\"ticker\":{\"id\":\"c404d965-b01b-4ca9-99e9-829858e0660b\",\"type\":\"BasicTicker\"}},\"id\":\"c58417cd-fe76-420d-8040-a9a1c8a94025\",\"type\":\"LinearAxis\"},{\"attributes\":{\"active_drag\":\"auto\",\"active_scroll\":\"auto\",\"active_tap\":\"auto\",\"logo\":null},\"id\":\"f72f9eff-1c99-4be7-9a13-343b6f12a259\",\"type\":\"Toolbar\"},{\"attributes\":{\"axis_label\":\"y[n]\",\"formatter\":{\"id\":\"0e61f017-b563-4d84-b837-49c98a24dd7d\",\"type\":\"BasicTickFormatter\"},\"plot\":{\"id\":\"205120ba-9131-46aa-a2d3-3ffcfdd7a359\",\"subtype\":\"Figure\",\"type\":\"Plot\"},\"ticker\":{\"id\":\"f437eb2f-350a-424c-a78f-22c7c8ee6f43\",\"type\":\"BasicTicker\"}},\"id\":\"ab47487b-cfea-423b-9983-a01fd37a220b\",\"type\":\"LinearAxis\"},{\"attributes\":{\"below\":[{\"id\":\"d9858993-1a2c-481d-8caa-eeca6b294dfa\",\"type\":\"LinearAxis\"}],\"left\":[{\"id\":\"ab47487b-cfea-423b-9983-a01fd37a220b\",\"type\":\"LinearAxis\"}],\"plot_height\":250,\"plot_width\":300,\"renderers\":[{\"id\":\"d9858993-1a2c-481d-8caa-eeca6b294dfa\",\"type\":\"LinearAxis\"},{\"id\":\"e928655b-4c5a-4195-b9b6-51f408985a45\",\"type\":\"Grid\"},{\"id\":\"ab47487b-cfea-423b-9983-a01fd37a220b\",\"type\":\"LinearAxis\"},{\"id\":\"b0dc284e-438d-4cd2-a768-f042d8cff91d\",\"type\":\"Grid\"},{\"id\":\"4b360c59-ab8e-41c8-aae0-f98f07343e12\",\"type\":\"GlyphRenderer\"},{\"id\":\"f862a4f7-8c36-4c3a-83f2-11179f73df8a\",\"type\":\"GlyphRenderer\"},{\"id\":\"3b6cd86d-9cc5-4c7d-9f93-f2dd8bf370d8\",\"type\":\"GlyphRenderer\"},{\"id\":\"2d4c54a5-3b02-42dc-b83a-63dc0fc6acb8\",\"type\":\"GlyphRenderer\"}],\"title\":{\"id\":\"777e89dc-f407-477f-9da2-11648981b1a8\",\"type\":\"Title\"},\"tool_events\":{\"id\":\"9c995371-3e85-463e-9664-c62f29dee9d3\",\"type\":\"ToolEvents\"},\"toolbar\":{\"id\":\"f72f9eff-1c99-4be7-9a13-343b6f12a259\",\"type\":\"Toolbar\"},\"toolbar_location\":null,\"x_range\":{\"id\":\"c44c2d00-5441-43bc-889e-5e5841d8b209\",\"type\":\"Range1d\"},\"y_range\":{\"id\":\"49a34b65-61a7-42a7-a6e6-3e02a7167314\",\"type\":\"Range1d\"}},\"id\":\"205120ba-9131-46aa-a2d3-3ffcfdd7a359\",\"subtype\":\"Figure\",\"type\":\"Plot\"},{\"attributes\":{\"sizing_mode\":\"scale_width\",\"toolbar_location\":\"above\"},\"id\":\"4f11e49d-4bf0-4908-9191-7c710fda24cf\",\"type\":\"ToolbarBox\"},{\"attributes\":{},\"id\":\"58c1b91a-fc42-4f20-a39d-bdbb0e6c7942\",\"type\":\"BasicTickFormatter\"},{\"attributes\":{\"data_source\":{\"id\":\"6b6eb8ed-33d2-44f0-9c7b-47b4b58c09e0\",\"type\":\"ColumnDataSource\"},\"glyph\":{\"id\":\"9f2124ed-9c21-4685-8d67-2d6aa64fb6dc\",\"type\":\"Segment\"},\"hover_glyph\":null,\"nonselection_glyph\":{\"id\":\"bf3e3281-7616-42b6-abcc-36d1dff8d389\",\"type\":\"Segment\"},\"selection_glyph\":null},\"id\":\"e33c9bc9-9edc-457b-8d4d-7d513887344f\",\"type\":\"GlyphRenderer\"},{\"attributes\":{},\"id\":\"31bf3cbe-6706-4e48-b56b-8c1e06134296\",\"type\":\"BasicTickFormatter\"},{\"attributes\":{\"line_alpha\":{\"value\":0.1},\"line_color\":{\"value\":\"#1f77b4\"},\"line_width\":{\"value\":2},\"x0\":{\"value\":0},\"x1\":{\"value\":0},\"y0\":{\"value\":-11},\"y1\":{\"value\":11}},\"id\":\"2e43c913-77d2-4ba8-94a3-958f3c49b644\",\"type\":\"Segment\"},{\"attributes\":{},\"id\":\"f437eb2f-350a-424c-a78f-22c7c8ee6f43\",\"type\":\"BasicTicker\"},{\"attributes\":{\"dimension\":1,\"plot\":{\"id\":\"205120ba-9131-46aa-a2d3-3ffcfdd7a359\",\"subtype\":\"Figure\",\"type\":\"Plot\"},\"ticker\":{\"id\":\"f437eb2f-350a-424c-a78f-22c7c8ee6f43\",\"type\":\"BasicTicker\"}},\"id\":\"b0dc284e-438d-4cd2-a768-f042d8cff91d\",\"type\":\"Grid\"},{\"attributes\":{\"bottom\":{\"value\":0},\"fill_alpha\":{\"value\":0.1},\"fill_color\":{\"value\":\"#1f77b4\"},\"left\":{\"field\":\"left\"},\"line_alpha\":{\"value\":0.1},\"line_color\":{\"value\":\"#1f77b4\"},\"right\":{\"field\":\"right\"},\"top\":{\"field\":\"top\"}},\"id\":\"141fcef9-4655-4dc6-9f37-2394659fffe2\",\"type\":\"Quad\"},{\"attributes\":{\"height\":250,\"width\":300},\"id\":\"94348e88-8a6d-45a5-99b1-307faaebaeef\",\"type\":\"Spacer\"},{\"attributes\":{\"callback\":null,\"end\":4,\"start\":-4},\"id\":\"49a34b65-61a7-42a7-a6e6-3e02a7167314\",\"type\":\"Range1d\"},{\"attributes\":{},\"id\":\"c404d965-b01b-4ca9-99e9-829858e0660b\",\"type\":\"BasicTicker\"},{\"attributes\":{},\"id\":\"0e61f017-b563-4d84-b837-49c98a24dd7d\",\"type\":\"BasicTickFormatter\"},{\"attributes\":{\"plot\":null,\"text\":\"y[n]\"},\"id\":\"cdabd223-e7ec-4383-a8d7-10842d7d2bca\",\"type\":\"Title\"},{\"attributes\":{\"callback\":null,\"column_names\":[\"x\",\"y\"],\"data\":{\"x\":[-10,-9,-8,-7,-6,-5,-4,-3,-2,-1,0,1,2,3,4,5,6,7,8,9,10],\"y\":[1,1,1,1,1,1,1,1,1,1,1,0,0,0,0,0,0,0,0,0,0]}},\"id\":\"891f8200-88b4-4306-8ab6-b013e792bda5\",\"type\":\"ColumnDataSource\"},{\"attributes\":{\"below\":[{\"id\":\"ba1dc654-64ad-48d2-9c83-8358ab6b2296\",\"type\":\"LinearAxis\"}],\"left\":[{\"id\":\"1da38300-2727-4182-ae79-f79d84e39bc4\",\"type\":\"LinearAxis\"}],\"plot_height\":250,\"plot_width\":300,\"renderers\":[{\"id\":\"ba1dc654-64ad-48d2-9c83-8358ab6b2296\",\"type\":\"LinearAxis\"},{\"id\":\"7ebe782e-fc5f-40a9-a10b-91bb5d620dab\",\"type\":\"Grid\"},{\"id\":\"1da38300-2727-4182-ae79-f79d84e39bc4\",\"type\":\"LinearAxis\"},{\"id\":\"844693e4-c24e-467c-80da-24301686b949\",\"type\":\"Grid\"},{\"id\":\"06a2e727-58e3-4be8-a7b4-08ef39fb1d4d\",\"type\":\"GlyphRenderer\"},{\"id\":\"220b1475-8528-40da-b891-ece2a9e16c27\",\"type\":\"GlyphRenderer\"},{\"id\":\"e33c9bc9-9edc-457b-8d4d-7d513887344f\",\"type\":\"GlyphRenderer\"},{\"id\":\"8b47a8ae-7b20-4e39-8141-ef3bc37fa550\",\"type\":\"GlyphRenderer\"}],\"title\":{\"id\":\"1d5bc3b7-7b60-4277-b4da-791e01347252\",\"type\":\"Title\"},\"tool_events\":{\"id\":\"1f61f8a7-31bd-416e-bc01-596bec1bbe93\",\"type\":\"ToolEvents\"},\"toolbar\":{\"id\":\"2d6acdfa-ff98-4658-8664-5ad0747d7b9e\",\"type\":\"Toolbar\"},\"toolbar_location\":null,\"x_range\":{\"id\":\"c44c2d00-5441-43bc-889e-5e5841d8b209\",\"type\":\"Range1d\"},\"y_range\":{\"id\":\"84247edb-482f-42b1-9b3b-7a95570db466\",\"type\":\"Range1d\"}},\"id\":\"62749d19-6276-40f6-a05e-be6adfef0aed\",\"subtype\":\"Figure\",\"type\":\"Plot\"},{\"attributes\":{},\"id\":\"9c995371-3e85-463e-9664-c62f29dee9d3\",\"type\":\"ToolEvents\"},{\"attributes\":{\"line_alpha\":{\"value\":0.5},\"line_color\":{\"value\":\"gray\"},\"line_width\":{\"value\":2},\"x0\":{\"value\":0},\"x1\":{\"value\":0},\"y0\":{\"value\":-11},\"y1\":{\"value\":11}},\"id\":\"5a27821a-951d-4da6-a168-a4acf747833e\",\"type\":\"Segment\"},{\"attributes\":{\"data_source\":{\"id\":\"af7e6bb2-810b-4aed-bf1b-5d554e74afb8\",\"type\":\"ColumnDataSource\"},\"glyph\":{\"id\":\"0f3886f4-7cb2-412b-bf53-f855596dc805\",\"type\":\"Circle\"},\"hover_glyph\":null,\"nonselection_glyph\":{\"id\":\"00b15e4c-c79e-4044-9e0f-aada1bce8f32\",\"type\":\"Circle\"},\"selection_glyph\":null},\"id\":\"220b1475-8528-40da-b891-ece2a9e16c27\",\"type\":\"GlyphRenderer\"},{\"attributes\":{\"callback\":null,\"column_names\":[\"x\",\"y\"],\"data\":{\"x\":[-10,-9,-8,-7,-6,-5,-4,-3,-2,-1,0,1,2,3,4,5,6,7,8,9,10],\"y\":[0,0,0,0,0,0,0,0,0,0,0,0,0,0,0,0,0,0,0,0,0]}},\"id\":\"d4df6e33-e6f3-45d7-8699-16e6fb04f8d1\",\"type\":\"ColumnDataSource\"},{\"attributes\":{\"callback\":null},\"id\":\"178bb4b4-64cd-40b0-9de4-f726512b156b\",\"type\":\"ColumnDataSource\"},{\"attributes\":{\"callback\":null,\"column_names\":[\"right\",\"top\",\"left\"],\"data\":{\"left\":[-10.02,-9.02,-8.02,-7.02,-6.02,-5.02,-4.02,-3.02,-2.02,-1.02,-0.02,0.98,1.98,2.98,3.98,4.98,5.98,6.98,7.98,8.98,9.98],\"right\":[-9.98,-8.98,-7.98,-6.98,-5.98,-4.98,-3.98,-2.98,-1.98,-0.98,0.02,1.02,2.02,3.02,4.02,5.02,6.02,7.02,8.02,9.02,10.02],\"top\":[0,0,0,0,0,0,0,0,0,0,1,1,1,1,1,1,1,1,1,1,1]}},\"id\":\"9048278b-7a1e-4ce9-a263-ca86f65dd152\",\"type\":\"ColumnDataSource\"},{\"attributes\":{\"callback\":null},\"id\":\"2886be46-696b-4bd2-8ce5-d581fc1cd86c\",\"type\":\"ColumnDataSource\"},{\"attributes\":{\"data_source\":{\"id\":\"2886be46-696b-4bd2-8ce5-d581fc1cd86c\",\"type\":\"ColumnDataSource\"},\"glyph\":{\"id\":\"fef0506d-b722-4f18-924b-9d47c465b51a\",\"type\":\"Segment\"},\"hover_glyph\":null,\"nonselection_glyph\":{\"id\":\"1052333f-69ec-453d-b8ca-1cb513ad5bd6\",\"type\":\"Segment\"},\"selection_glyph\":null},\"id\":\"8b47a8ae-7b20-4e39-8141-ef3bc37fa550\",\"type\":\"GlyphRenderer\"},{\"attributes\":{\"children\":[{\"id\":\"4f11e49d-4bf0-4908-9191-7c710fda24cf\",\"type\":\"ToolbarBox\"},{\"id\":\"92cafc0c-a7ab-4f95-9b26-5557131422cb\",\"type\":\"Column\"}]},\"id\":\"1971bf9c-22ae-451f-b9b3-ec19aaf0a3d4\",\"type\":\"Column\"},{\"attributes\":{\"line_alpha\":{\"value\":0.1},\"line_color\":{\"value\":\"#1f77b4\"},\"line_width\":{\"value\":2},\"x0\":{\"value\":-11},\"x1\":{\"value\":11},\"y0\":{\"value\":0},\"y1\":{\"value\":0}},\"id\":\"bf3e3281-7616-42b6-abcc-36d1dff8d389\",\"type\":\"Segment\"},{\"attributes\":{\"bottom\":{\"value\":0},\"fill_alpha\":{\"value\":0.1},\"fill_color\":{\"value\":\"#1f77b4\"},\"left\":{\"field\":\"left\"},\"line_alpha\":{\"value\":0.1},\"line_color\":{\"value\":\"#1f77b4\"},\"right\":{\"field\":\"right\"},\"top\":{\"field\":\"top\"}},\"id\":\"4c5a1ddf-4b2b-4244-abc7-b8821999b6e5\",\"type\":\"Quad\"},{\"attributes\":{\"callback\":null},\"id\":\"b5ee1b22-b2fe-499b-a03d-44f0b686c234\",\"type\":\"ColumnDataSource\"},{\"attributes\":{\"data_source\":{\"id\":\"b0b7d432-9e46-44d0-b87e-f49dc6a42c65\",\"type\":\"ColumnDataSource\"},\"glyph\":{\"id\":\"679d6be9-5757-44ed-8ce3-4ce5d4cc9632\",\"type\":\"Segment\"},\"hover_glyph\":null,\"nonselection_glyph\":{\"id\":\"77ae1fca-1d6f-48d2-b4ae-4711f4dcc3b6\",\"type\":\"Segment\"},\"selection_glyph\":null},\"id\":\"ae5c741c-66c3-4a6b-b355-a938f7997677\",\"type\":\"GlyphRenderer\"},{\"attributes\":{\"fill_alpha\":{\"value\":0.1},\"fill_color\":{\"value\":\"#1f77b4\"},\"line_alpha\":{\"value\":0.1},\"line_color\":{\"value\":\"#1f77b4\"},\"size\":{\"units\":\"screen\",\"value\":5},\"x\":{\"field\":\"x\"},\"y\":{\"field\":\"y\"}},\"id\":\"164070ec-97b5-4df7-94e8-cb8169697ac6\",\"type\":\"Circle\"},{\"attributes\":{\"bottom\":{\"value\":0},\"fill_color\":{\"value\":\"black\"},\"left\":{\"field\":\"left\"},\"right\":{\"field\":\"right\"},\"top\":{\"field\":\"top\"}},\"id\":\"53cbcf64-6b38-4847-80ce-1e1af00ce4dd\",\"type\":\"Quad\"},{\"attributes\":{\"callback\":null,\"column_names\":[\"x\",\"y\"],\"data\":{\"x\":[-10,-9,-8,-7,-6,-5,-4,-3,-2,-1,0,1,2,3,4,5,6,7,8,9,10],\"y\":[0,0,0,0,0,0,0,0,0,0,1,1,1,1,1,1,1,1,1,1,1]}},\"id\":\"af7e6bb2-810b-4aed-bf1b-5d554e74afb8\",\"type\":\"ColumnDataSource\"},{\"attributes\":{\"bottom\":{\"value\":0},\"fill_alpha\":{\"value\":0.1},\"fill_color\":{\"value\":\"#1f77b4\"},\"left\":{\"field\":\"left\"},\"line_alpha\":{\"value\":0.1},\"line_color\":{\"value\":\"#1f77b4\"},\"right\":{\"field\":\"right\"},\"top\":{\"field\":\"top\"}},\"id\":\"f0747308-da59-45e9-9709-5f361e4920a3\",\"type\":\"Quad\"},{\"attributes\":{\"line_alpha\":{\"value\":0.5},\"line_color\":{\"value\":\"gray\"},\"line_width\":{\"value\":2},\"x0\":{\"value\":0},\"x1\":{\"value\":0},\"y0\":{\"value\":-11},\"y1\":{\"value\":11}},\"id\":\"e41dada3-b1de-4dd6-8078-b090826d724b\",\"type\":\"Segment\"},{\"attributes\":{},\"id\":\"53c952ad-709b-4a81-995f-0f2f26b6e154\",\"type\":\"BasicTickFormatter\"},{\"attributes\":{\"callback\":null},\"id\":\"14859133-2e4b-46b1-82a0-290f33e74996\",\"type\":\"ColumnDataSource\"},{\"attributes\":{\"callback\":null},\"id\":\"c8d707a9-9162-4abe-95b6-08beb04526f4\",\"type\":\"ColumnDataSource\"},{\"attributes\":{\"plot\":{\"id\":\"f686d717-a250-47e0-83e0-467b5aefb87c\",\"subtype\":\"Figure\",\"type\":\"Plot\"},\"ticker\":{\"id\":\"c404d965-b01b-4ca9-99e9-829858e0660b\",\"type\":\"BasicTicker\"}},\"id\":\"b5afd563-c6ec-4474-81f2-707c7657f7fe\",\"type\":\"Grid\"},{\"attributes\":{\"callback\":null,\"column_names\":[\"right\",\"top\",\"left\"],\"data\":{\"left\":[-10.02,-9.02,-8.02,-7.02,-6.02,-5.02,-4.02,-3.02,-2.02,-1.02,-0.02,0.98,1.98,2.98,3.98,4.98,5.98,6.98,7.98,8.98,9.98],\"right\":[-9.98,-8.98,-7.98,-6.98,-5.98,-4.98,-3.98,-2.98,-1.98,-0.98,0.02,1.02,2.02,3.02,4.02,5.02,6.02,7.02,8.02,9.02,10.02],\"top\":[0,0,0,0,0,0,0,0,0,0,0,0,0,0,0,0,0,0,0,0,0]}},\"id\":\"b26526f9-a153-424a-91e4-898e242bad31\",\"type\":\"ColumnDataSource\"},{\"attributes\":{\"active_drag\":\"auto\",\"active_scroll\":\"auto\",\"active_tap\":\"auto\",\"logo\":null},\"id\":\"681860c1-e555-4d2d-b609-1428bc86c109\",\"type\":\"Toolbar\"},{\"attributes\":{\"line_alpha\":{\"value\":0.1},\"line_color\":{\"value\":\"#1f77b4\"},\"line_width\":{\"value\":2},\"x0\":{\"value\":0},\"x1\":{\"value\":0},\"y0\":{\"value\":-11},\"y1\":{\"value\":11}},\"id\":\"f7e70fe7-7251-4218-9f63-12988c724a0a\",\"type\":\"Segment\"},{\"attributes\":{},\"id\":\"cc5e80fe-da82-442d-9f79-b507cec21970\",\"type\":\"ToolEvents\"},{\"attributes\":{\"line_alpha\":{\"value\":0.5},\"line_color\":{\"value\":\"gray\"},\"line_width\":{\"value\":2},\"x0\":{\"value\":0},\"x1\":{\"value\":0},\"y0\":{\"value\":-11},\"y1\":{\"value\":11}},\"id\":\"9e283f1f-247b-49e9-8768-dc3bf3146a32\",\"type\":\"Segment\"},{\"attributes\":{\"data_source\":{\"id\":\"14859133-2e4b-46b1-82a0-290f33e74996\",\"type\":\"ColumnDataSource\"},\"glyph\":{\"id\":\"6175519c-6861-49a0-89df-aed1d6aa1dcc\",\"type\":\"Segment\"},\"hover_glyph\":null,\"nonselection_glyph\":{\"id\":\"133a0431-ee33-4f88-90e4-10ae0bc205e1\",\"type\":\"Segment\"},\"selection_glyph\":null},\"id\":\"3b6cd86d-9cc5-4c7d-9f93-f2dd8bf370d8\",\"type\":\"GlyphRenderer\"},{\"attributes\":{\"axis_label\":\"k\",\"formatter\":{\"id\":\"9832e1e5-fcb8-40b1-8cbb-d86f2986f820\",\"type\":\"BasicTickFormatter\"},\"plot\":{\"id\":\"780f42ac-14e6-4df6-b5e7-14c83c9319bc\",\"subtype\":\"Figure\",\"type\":\"Plot\"},\"ticker\":{\"id\":\"1d6e14d2-9504-446a-9eee-eef4795f1d1c\",\"type\":\"BasicTicker\"}},\"id\":\"73cb8ce6-fca2-47e5-ac28-7b166e5a6709\",\"type\":\"LinearAxis\"},{\"attributes\":{},\"id\":\"4882e7a5-9de5-42ec-8e2d-afa4c12fd273\",\"type\":\"BasicTicker\"},{\"attributes\":{\"line_alpha\":{\"value\":0.1},\"line_color\":{\"value\":\"#1f77b4\"},\"line_width\":{\"value\":2},\"x0\":{\"value\":0},\"x1\":{\"value\":0},\"y0\":{\"value\":-11},\"y1\":{\"value\":11}},\"id\":\"1052333f-69ec-453d-b8ca-1cb513ad5bd6\",\"type\":\"Segment\"},{\"attributes\":{\"callback\":null},\"id\":\"fdef5213-1b39-4e24-b967-1808d5fb327c\",\"type\":\"ColumnDataSource\"},{\"attributes\":{},\"id\":\"b0021c9f-866c-4167-9b57-2b8e2ca64635\",\"type\":\"BasicTicker\"},{\"attributes\":{\"fill_color\":{\"value\":\"white\"},\"size\":{\"units\":\"screen\",\"value\":5},\"x\":{\"field\":\"x\"},\"y\":{\"field\":\"y\"}},\"id\":\"5fb98859-51ea-40a4-953a-a7626faa3b18\",\"type\":\"Circle\"},{\"attributes\":{\"plot\":{\"id\":\"205120ba-9131-46aa-a2d3-3ffcfdd7a359\",\"subtype\":\"Figure\",\"type\":\"Plot\"},\"ticker\":{\"id\":\"ae06c892-f7e8-4302-8e65-774984b3e43a\",\"type\":\"BasicTicker\"}},\"id\":\"e928655b-4c5a-4195-b9b6-51f408985a45\",\"type\":\"Grid\"},{\"attributes\":{\"line_alpha\":{\"value\":0.5},\"line_color\":{\"value\":\"gray\"},\"line_width\":{\"value\":2},\"x0\":{\"value\":-11},\"x1\":{\"value\":11},\"y0\":{\"value\":0},\"y1\":{\"value\":0}},\"id\":\"4237773d-953f-4ab1-84d9-908ac8fc0fb6\",\"type\":\"Segment\"},{\"attributes\":{\"axis_label\":\"h[k] = u[k]\",\"formatter\":{\"id\":\"ed3ebc02-a0a9-4b21-acdf-41410bac8a86\",\"type\":\"BasicTickFormatter\"},\"plot\":{\"id\":\"62749d19-6276-40f6-a05e-be6adfef0aed\",\"subtype\":\"Figure\",\"type\":\"Plot\"},\"ticker\":{\"id\":\"69b865ae-1001-4fe1-953b-32caae52fe58\",\"type\":\"BasicTicker\"}},\"id\":\"1da38300-2727-4182-ae79-f79d84e39bc4\",\"type\":\"LinearAxis\"},{\"attributes\":{\"plot\":null,\"text\":\"h[n-k]\"},\"id\":\"e11ccf02-28cc-481f-ac4d-2e4bf40cd8c3\",\"type\":\"Title\"},{\"attributes\":{\"fill_alpha\":{\"value\":0.1},\"fill_color\":{\"value\":\"#1f77b4\"},\"line_alpha\":{\"value\":0.1},\"line_color\":{\"value\":\"#1f77b4\"},\"size\":{\"units\":\"screen\",\"value\":5},\"x\":{\"field\":\"x\"},\"y\":{\"field\":\"y\"}},\"id\":\"ecb8d05b-a828-4c7b-aa04-6b88eeab468e\",\"type\":\"Circle\"},{\"attributes\":{\"line_alpha\":{\"value\":0.1},\"line_color\":{\"value\":\"#1f77b4\"},\"line_width\":{\"value\":2},\"x0\":{\"value\":-11},\"x1\":{\"value\":11},\"y0\":{\"value\":0},\"y1\":{\"value\":0}},\"id\":\"77ae1fca-1d6f-48d2-b4ae-4711f4dcc3b6\",\"type\":\"Segment\"},{\"attributes\":{\"fill_color\":{\"value\":\"white\"},\"size\":{\"units\":\"screen\",\"value\":5},\"x\":{\"field\":\"x\"},\"y\":{\"field\":\"y\"}},\"id\":\"d6910f40-0d0f-4f81-9ce3-b7de822acf4c\",\"type\":\"Circle\"},{\"attributes\":{\"plot\":{\"id\":\"62749d19-6276-40f6-a05e-be6adfef0aed\",\"subtype\":\"Figure\",\"type\":\"Plot\"},\"ticker\":{\"id\":\"4882e7a5-9de5-42ec-8e2d-afa4c12fd273\",\"type\":\"BasicTicker\"}},\"id\":\"7ebe782e-fc5f-40a9-a10b-91bb5d620dab\",\"type\":\"Grid\"},{\"attributes\":{\"callback\":null,\"end\":4,\"start\":-4},\"id\":\"ba169ec6-6a37-425a-8fbd-e6e93899c35b\",\"type\":\"Range1d\"},{\"attributes\":{\"line_alpha\":{\"value\":0.5},\"line_color\":{\"value\":\"gray\"},\"line_width\":{\"value\":2},\"x0\":{\"value\":-11},\"x1\":{\"value\":11},\"y0\":{\"value\":0},\"y1\":{\"value\":0}},\"id\":\"b591ecb1-ed91-4acf-80e8-abff79b10ee2\",\"type\":\"Segment\"},{\"attributes\":{\"line_alpha\":{\"value\":0.1},\"line_color\":{\"value\":\"#1f77b4\"},\"line_width\":{\"value\":2},\"x0\":{\"value\":-11},\"x1\":{\"value\":11},\"y0\":{\"value\":0},\"y1\":{\"value\":0}},\"id\":\"b28f978f-10e1-4295-a7a3-e4bd1ec9b762\",\"type\":\"Segment\"}],\"root_ids\":[\"1971bf9c-22ae-451f-b9b3-ec19aaf0a3d4\"]},\"title\":\"Bokeh Application\",\"version\":\"0.12.2\"}};\n",
       "            var render_items = [{\"docid\":\"f86e7cac-3908-4847-8834-ba00d78f7a74\",\"elementid\":\"79e914a3-ae49-41f2-8e62-0ae3dbd1f6e1\",\"modelid\":\"1971bf9c-22ae-451f-b9b3-ec19aaf0a3d4\",\"notebook_comms_target\":\"35d543e0-223d-42f6-876e-4f6bc10e8b9a\"}];\n",
       "            \n",
       "            Bokeh.embed.embed_items(docs_json, render_items);\n",
       "        });\n",
       "      },\n",
       "      function(Bokeh) {\n",
       "      }\n",
       "    ];\n",
       "  \n",
       "    function run_inline_js() {\n",
       "      \n",
       "      if ((window.Bokeh !== undefined) || (force === \"1\")) {\n",
       "        for (var i = 0; i < inline_js.length; i++) {\n",
       "          inline_js[i](window.Bokeh);\n",
       "        }if (force === \"1\") {\n",
       "          display_loaded();\n",
       "        }} else if (Date.now() < window._bokeh_timeout) {\n",
       "        setTimeout(run_inline_js, 100);\n",
       "      } else if (!window._bokeh_failed_load) {\n",
       "        console.log(\"Bokeh: BokehJS failed to load within specified timeout.\");\n",
       "        window._bokeh_failed_load = true;\n",
       "      } else if (!force) {\n",
       "        var cell = $(\"#79e914a3-ae49-41f2-8e62-0ae3dbd1f6e1\").parents('.cell').data().cell;\n",
       "        cell.output_area.append_execute_result(NB_LOAD_WARNING)\n",
       "      }\n",
       "  \n",
       "    }\n",
       "  \n",
       "    if (window._bokeh_is_loading === 0) {\n",
       "      console.log(\"Bokeh: BokehJS loaded, going straight to plotting\");\n",
       "      run_inline_js();\n",
       "    } else {\n",
       "      load_libs(js_urls, function() {\n",
       "        console.log(\"Bokeh: BokehJS plotting callback run at\", now());\n",
       "        run_inline_js();\n",
       "      });\n",
       "    }\n",
       "  }(this));\n",
       "</script>"
      ]
     },
     "metadata": {},
     "output_type": "display_data"
    },
    {
     "data": {
      "text/html": [
       "<p><code>&lt;Bokeh Notebook handle for <strong>In[5]</strong>&gt;</code></p>"
      ],
      "text/plain": [
       "<bokeh.io._CommsHandle at 0x2f75d992128>"
      ]
     },
     "execution_count": 4,
     "metadata": {},
     "output_type": "execute_result"
    }
   ],
   "source": [
    "grid = gridplot([[xk_p, None, ynf_p],\n",
    "                 [hk_p, hnk_p, yn_p]])\n",
    "\n",
    "show(grid, notebook_handle=True)"
   ]
  },
  {
   "cell_type": "code",
   "execution_count": 5,
   "metadata": {
    "collapsed": false,
    "nbpresent": {
     "id": "aa238f6b-549b-4d18-aa7b-4e9070efe9ed"
    }
   },
   "outputs": [],
   "source": [
    "interact(update, alpha=(0.1,1,0.05), n=(-10,10))"
   ]
  }
 ],
 "metadata": {
  "anaconda-cloud": {},
  "kernelspec": {
   "display_name": "Python [default]",
   "language": "python",
   "name": "python3"
  },
  "language_info": {
   "codemirror_mode": {
    "name": "ipython",
    "version": 3
   },
   "file_extension": ".py",
   "mimetype": "text/x-python",
   "name": "python",
   "nbconvert_exporter": "python",
   "pygments_lexer": "ipython3",
   "version": "3.5.2"
  },
  "nbpresent": {
   "slides": {
    "bc11fec5-a6b5-46e3-9911-77e2d2bc97f8": {
     "id": "bc11fec5-a6b5-46e3-9911-77e2d2bc97f8",
     "prev": null,
     "regions": {
      "4ea7da8a-09a2-470e-87e9-eb7789f69da2": {
       "attrs": {
        "height": 0.6,
        "width": 0.8,
        "x": 0.1,
        "y": 0.1
       },
       "content": {
        "cell": "667ec1ad-d739-49a7-b3af-cb8b6f4068a1",
        "part": "outputs"
       },
       "id": "4ea7da8a-09a2-470e-87e9-eb7789f69da2"
      },
      "7abfc0f7-09d8-4f55-925a-c7435dd07a34": {
       "attrs": {
        "height": 0.2,
        "width": 0.4,
        "x": 0.5,
        "y": 0.7
       },
       "content": {
        "cell": "aa238f6b-549b-4d18-aa7b-4e9070efe9ed",
        "part": "widgets"
       },
       "id": "7abfc0f7-09d8-4f55-925a-c7435dd07a34"
      },
      "809e3b63-cc00-4fff-8f59-cba2050fd578": {
       "attrs": {
        "height": 0.2,
        "width": 0.4,
        "x": 0.1,
        "y": 0.7
       },
       "content": {
        "cell": "fb42e5e2-c62e-4fba-8d5b-fce33a211e01",
        "part": "source"
       },
       "id": "809e3b63-cc00-4fff-8f59-cba2050fd578"
      }
     }
    }
   },
   "themes": {}
  },
  "widgets": {
   "state": {
    "5e81f5a0cd0f44b88dcf24b69c99d7be": {
     "views": [
      {
       "cell_index": 5
      }
     ]
    }
   },
   "version": "1.2.0"
  }
 },
 "nbformat": 4,
 "nbformat_minor": 1
}
