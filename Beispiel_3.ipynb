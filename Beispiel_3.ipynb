{
 "cells": [
  {
   "cell_type": "code",
   "execution_count": 6,
   "metadata": {
    "collapsed": false,
    "nbpresent": {
     "id": "2962b6eb-68a7-4ce4-ab9d-c4ea505b803f"
    }
   },
   "outputs": [
    {
     "data": {
      "text/html": [
       "\n",
       "    <div class=\"bk-root\">\n",
       "        <a href=\"http://bokeh.pydata.org\" target=\"_blank\" class=\"bk-logo bk-logo-small bk-logo-notebook\"></a>\n",
       "        <span id=\"393ec4c2-8303-4ff6-a075-5e720cb9ddc1\">Loading BokehJS ...</span>\n",
       "    </div>"
      ]
     },
     "metadata": {},
     "output_type": "display_data"
    },
    {
     "data": {
      "application/javascript": [
       "\n",
       "(function(global) {\n",
       "  function now() {\n",
       "    return new Date();\n",
       "  }\n",
       "\n",
       "  var force = \"1\";\n",
       "\n",
       "  if (typeof (window._bokeh_onload_callbacks) === \"undefined\" || force !== \"\") {\n",
       "    window._bokeh_onload_callbacks = [];\n",
       "    window._bokeh_is_loading = undefined;\n",
       "  }\n",
       "\n",
       "\n",
       "  \n",
       "  if (typeof (window._bokeh_timeout) === \"undefined\" || force !== \"\") {\n",
       "    window._bokeh_timeout = Date.now() + 5000;\n",
       "    window._bokeh_failed_load = false;\n",
       "  }\n",
       "\n",
       "  var NB_LOAD_WARNING = {'data': {'text/html':\n",
       "     \"<div style='background-color: #fdd'>\\n\"+\n",
       "     \"<p>\\n\"+\n",
       "     \"BokehJS does not appear to have successfully loaded. If loading BokehJS from CDN, this \\n\"+\n",
       "     \"may be due to a slow or bad network connection. Possible fixes:\\n\"+\n",
       "     \"</p>\\n\"+\n",
       "     \"<ul>\\n\"+\n",
       "     \"<li>re-rerun `output_notebook()` to attempt to load from CDN again, or</li>\\n\"+\n",
       "     \"<li>use INLINE resources instead, as so:</li>\\n\"+\n",
       "     \"</ul>\\n\"+\n",
       "     \"<code>\\n\"+\n",
       "     \"from bokeh.resources import INLINE\\n\"+\n",
       "     \"output_notebook(resources=INLINE)\\n\"+\n",
       "     \"</code>\\n\"+\n",
       "     \"</div>\"}};\n",
       "\n",
       "  function display_loaded() {\n",
       "    if (window.Bokeh !== undefined) {\n",
       "      Bokeh.$(\"#393ec4c2-8303-4ff6-a075-5e720cb9ddc1\").text(\"BokehJS successfully loaded.\");\n",
       "    } else if (Date.now() < window._bokeh_timeout) {\n",
       "      setTimeout(display_loaded, 100)\n",
       "    }\n",
       "  }\n",
       "\n",
       "  function run_callbacks() {\n",
       "    window._bokeh_onload_callbacks.forEach(function(callback) { callback() });\n",
       "    delete window._bokeh_onload_callbacks\n",
       "    console.info(\"Bokeh: all callbacks have finished\");\n",
       "  }\n",
       "\n",
       "  function load_libs(js_urls, callback) {\n",
       "    window._bokeh_onload_callbacks.push(callback);\n",
       "    if (window._bokeh_is_loading > 0) {\n",
       "      console.log(\"Bokeh: BokehJS is being loaded, scheduling callback at\", now());\n",
       "      return null;\n",
       "    }\n",
       "    if (js_urls == null || js_urls.length === 0) {\n",
       "      run_callbacks();\n",
       "      return null;\n",
       "    }\n",
       "    console.log(\"Bokeh: BokehJS not loaded, scheduling load and callback at\", now());\n",
       "    window._bokeh_is_loading = js_urls.length;\n",
       "    for (var i = 0; i < js_urls.length; i++) {\n",
       "      var url = js_urls[i];\n",
       "      var s = document.createElement('script');\n",
       "      s.src = url;\n",
       "      s.async = false;\n",
       "      s.onreadystatechange = s.onload = function() {\n",
       "        window._bokeh_is_loading--;\n",
       "        if (window._bokeh_is_loading === 0) {\n",
       "          console.log(\"Bokeh: all BokehJS libraries loaded\");\n",
       "          run_callbacks()\n",
       "        }\n",
       "      };\n",
       "      s.onerror = function() {\n",
       "        console.warn(\"failed to load library \" + url);\n",
       "      };\n",
       "      console.log(\"Bokeh: injecting script tag for BokehJS library: \", url);\n",
       "      document.getElementsByTagName(\"head\")[0].appendChild(s);\n",
       "    }\n",
       "  };var element = document.getElementById(\"393ec4c2-8303-4ff6-a075-5e720cb9ddc1\");\n",
       "  if (element == null) {\n",
       "    console.log(\"Bokeh: ERROR: autoload.js configured with elementid '393ec4c2-8303-4ff6-a075-5e720cb9ddc1' but no matching script tag was found. \")\n",
       "    return false;\n",
       "  }\n",
       "\n",
       "  var js_urls = ['https://cdn.pydata.org/bokeh/release/bokeh-0.12.2.min.js', 'https://cdn.pydata.org/bokeh/release/bokeh-widgets-0.12.2.min.js', 'https://cdn.pydata.org/bokeh/release/bokeh-compiler-0.12.2.min.js'];\n",
       "\n",
       "  var inline_js = [\n",
       "    function(Bokeh) {\n",
       "      Bokeh.set_log_level(\"info\");\n",
       "    },\n",
       "    \n",
       "    function(Bokeh) {\n",
       "      \n",
       "      Bokeh.$(\"#393ec4c2-8303-4ff6-a075-5e720cb9ddc1\").text(\"BokehJS is loading...\");\n",
       "    },\n",
       "    function(Bokeh) {\n",
       "      console.log(\"Bokeh: injecting CSS: https://cdn.pydata.org/bokeh/release/bokeh-0.12.2.min.css\");\n",
       "      Bokeh.embed.inject_css(\"https://cdn.pydata.org/bokeh/release/bokeh-0.12.2.min.css\");\n",
       "      console.log(\"Bokeh: injecting CSS: https://cdn.pydata.org/bokeh/release/bokeh-widgets-0.12.2.min.css\");\n",
       "      Bokeh.embed.inject_css(\"https://cdn.pydata.org/bokeh/release/bokeh-widgets-0.12.2.min.css\");\n",
       "    }\n",
       "  ];\n",
       "\n",
       "  function run_inline_js() {\n",
       "    \n",
       "    if ((window.Bokeh !== undefined) || (force === \"1\")) {\n",
       "      for (var i = 0; i < inline_js.length; i++) {\n",
       "        inline_js[i](window.Bokeh);\n",
       "      }if (force === \"1\") {\n",
       "        display_loaded();\n",
       "      }} else if (Date.now() < window._bokeh_timeout) {\n",
       "      setTimeout(run_inline_js, 100);\n",
       "    } else if (!window._bokeh_failed_load) {\n",
       "      console.log(\"Bokeh: BokehJS failed to load within specified timeout.\");\n",
       "      window._bokeh_failed_load = true;\n",
       "    } else if (!force) {\n",
       "      var cell = $(\"#393ec4c2-8303-4ff6-a075-5e720cb9ddc1\").parents('.cell').data().cell;\n",
       "      cell.output_area.append_execute_result(NB_LOAD_WARNING)\n",
       "    }\n",
       "\n",
       "  }\n",
       "\n",
       "  if (window._bokeh_is_loading === 0) {\n",
       "    console.log(\"Bokeh: BokehJS loaded, going straight to plotting\");\n",
       "    run_inline_js();\n",
       "  } else {\n",
       "    load_libs(js_urls, function() {\n",
       "      console.log(\"Bokeh: BokehJS plotting callback run at\", now());\n",
       "      run_inline_js();\n",
       "    });\n",
       "  }\n",
       "}(this));"
      ]
     },
     "metadata": {},
     "output_type": "display_data"
    }
   ],
   "source": [
    "from ipywidgets import interact\n",
    "\n",
    "from bokeh.plotting import figure\n",
    "from bokeh.io import push_notebook, show, output_notebook\n",
    "from bokeh.layouts import row, gridplot\n",
    "from bokeh.models import Range1d\n",
    "\n",
    "output_notebook()"
   ]
  },
  {
   "cell_type": "code",
   "execution_count": 7,
   "metadata": {
    "collapsed": true,
    "nbpresent": {
     "id": "c5048f60-0f0b-4c5a-9d81-34a5b62a140c"
    }
   },
   "outputs": [],
   "source": [
    "# Globals\n",
    "oo = float(\"inf\")\n",
    "quad_width = 0.02\n",
    "default_plot_size = (300, 250)\n",
    "default_color = \"black\"\n",
    "default_y_range = Range1d(-1.5, 1.5)\n",
    "\n",
    "def delete_toolbar(plot):\n",
    "    # remove the logo and the toolbar\n",
    "    plot.toolbar.logo = None\n",
    "    plot.toolbar_location = None"
   ]
  },
  {
   "cell_type": "markdown",
   "metadata": {
    "nbpresent": {
     "id": "5bf1931f-89f1-4cde-bad1-2b6900381950"
    }
   },
   "source": [
    "# Beipsiel 3"
   ]
  },
  {
   "cell_type": "code",
   "execution_count": 8,
   "metadata": {
    "collapsed": false,
    "nbpresent": {
     "id": "0f98063a-e896-483c-bd6d-f8627f90925a"
    }
   },
   "outputs": [],
   "source": [
    "alpha = 0.5\n",
    "n = range(-10,15+1)\n",
    "k = n\n",
    "default_x_range = Range1d(n[0]-1, n[-1]+1)\n",
    "yn_range = 12\n",
    "\n",
    "# -------------------------------------------------------------------------------\n",
    "# x[n]\n",
    "xn = [1 if i in [0,1,2,3,4] else 0 for i in n]\n",
    "xn_p = figure(width=default_plot_size[0], height=default_plot_size[1], \n",
    "              title=\"x[n]\", x_axis_label=\"n\", y_axis_label=\"x[n]\",tools=[])\n",
    "\n",
    "# input signal\n",
    "xn_color = \"black\"\n",
    "xn_quad = xn_p.quad(top=xn, bottom=0, left=[i-quad_width for i in n], right=[i+quad_width for i in n], color=xn_color)\n",
    "xn_cir =xn_p.circle(n, xn, size=5, color=xn_color, fill_color=\"white\")\n",
    "\n",
    "# -------------------------------------------------------------------------------\n",
    "# h[n]\n",
    "hn = [alpha**i if i in [0,1,2,3,4,5,6] else 0 for i in n]\n",
    "hn_p = figure(width=default_plot_size[0], height=default_plot_size[1], \n",
    "              title=\"h[n]\", x_axis_label=\"n\", y_axis_label=\"h[n]\",tools=[])\n",
    "\n",
    "# input signal\n",
    "hn_color = \"black\"\n",
    "hn_quad = hn_p.quad(top=hn, bottom=0, left=[i-quad_width for i in n], right=[i+quad_width for i in n], color=hn_color)\n",
    "hn_cir = hn_p.circle(n, hn, size=5, color=hn_color, fill_color=\"white\")\n",
    "\n",
    "# -------------------------------------------------------------------------------\n",
    "# h[n-k]\n",
    "hnk = [alpha**i if i in [0,1,2,3,4,5,6] else 0 for i in k]\n",
    "hnk_p = figure(width=default_plot_size[0], height=default_plot_size[1], \n",
    "              title=\"h[n-k]\", x_axis_label=\"k\", y_axis_label=\"h[n-k]\",tools=[])\n",
    "\n",
    "# input signal\n",
    "hnk_color = \"black\"\n",
    "hnk_quad = hnk_p.quad(top=hnk, bottom=0, left=[i-quad_width for i in n], right=[i+quad_width for i in n], color=hnk_color)\n",
    "hnk_cir = hnk_p.circle(k, hnk, size=5, color=hnk_color, fill_color=\"white\")\n",
    "\n",
    "# -------------------------------------------------------------------------------\n",
    "# y[n]\n",
    "yn = [0 for _ in n]\n",
    "yn_p = figure(width=default_plot_size[0], height=default_plot_size[1], \n",
    "              title=\"y[n]\", x_axis_label=\"n\", y_axis_label=\"y[n]\",tools=[])\n",
    "\n",
    "# input signal\n",
    "yn_color = \"black\"\n",
    "yn_quad = yn_p.quad(top=yn, bottom=0, left=[i-quad_width for i in n], right=[i+quad_width for i in n], color=yn_color)\n",
    "yn_cir = yn_p.circle(n, yn, size=5, color=yn_color, fill_color=\"white\")\n",
    "\n",
    "# -------------------------------------------------------------------------------\n",
    "all_p = [xn_p, hn_p, hnk_p, yn_p]\n",
    "for p in all_p:\n",
    "    delete_toolbar(p)\n",
    "    \n",
    "    # ranges\n",
    "    p.x_range = default_x_range\n",
    "    p.y_range = default_y_range\n",
    "    \n",
    "    # axes\n",
    "    p.segment(x0=min(n)-1, y0=0, x1=max(n)+1, y1=0, line_width = 2,color=\"gray\", line_alpha=0.5)    # x_axis\n",
    "    if p != yn_p:\n",
    "        p.segment(x0=0, y0=min(n)-1, x1=0, y1=max(n)+1, line_width = 2,color=\"gray\", line_alpha=0.5)    # y_axis\n",
    "\n",
    "# ranges\n",
    "hn_p.y_range = Range1d(-2, 4)\n",
    "hnk_p.y_range = Range1d(-2, 4)\n",
    "\n",
    "# yn_p\n",
    "yn_p.y_range = Range1d(-2, yn_range)\n",
    "yn_p.segment(x0=0, y0=min(n)-1, x1=0, y1=yn_range, line_width = 2,color=\"gray\", line_alpha=0.5)    # y_axis\n",
    "\n",
    "# -------------------------------------------------------------------------------\n",
    "# update\n",
    "def update(alpha = 1.20, n = -10):\n",
    "    n_ls = range(-10,15+1)\n",
    "    \n",
    "    new_hn = [alpha**i if i in [0,1,2,3,4,5,6] else 0 for i in n_ls]\n",
    "    hn_quad.data_source.data['top'] = new_hn\n",
    "    hn_cir.data_source.data['y'] = new_hn\n",
    "    \n",
    "    new_hnk = [alpha**(n-i) if (n-i) in [0,1,2,3,4,5,6] else 0 for i in n_ls]\n",
    "    hnk_quad.data_source.data['top'] = new_hnk\n",
    "    hnk_cir.data_source.data['y'] = new_hnk\n",
    "    hnk_p.title.text = \"h[{}-k]]\".format(n)\n",
    "    \n",
    "    if yn[n + 10] == 0:\n",
    "        yn[n + 10] = sum([xn[j] * new_hnk[j] for j in k])\n",
    "        yn_quad.data_source.data['top'] = yn\n",
    "        yn_cir.data_source.data['y'] = yn\n",
    "    \n",
    "    push_notebook()"
   ]
  },
  {
   "cell_type": "code",
   "execution_count": 9,
   "metadata": {
    "collapsed": false,
    "nbpresent": {
     "id": "6e8ea0d7-e635-4105-b218-f688c8d1cc11"
    }
   },
   "outputs": [
    {
     "data": {
      "text/html": [
       "\n",
       "\n",
       "    <div class=\"bk-root\">\n",
       "        <div class=\"plotdiv\" id=\"5e1fcf47-ecf6-4e43-afa0-71c84c04257f\"></div>\n",
       "    </div>\n",
       "<script type=\"text/javascript\">\n",
       "  \n",
       "  (function(global) {\n",
       "    function now() {\n",
       "      return new Date();\n",
       "    }\n",
       "  \n",
       "    var force = \"\";\n",
       "  \n",
       "    if (typeof (window._bokeh_onload_callbacks) === \"undefined\" || force !== \"\") {\n",
       "      window._bokeh_onload_callbacks = [];\n",
       "      window._bokeh_is_loading = undefined;\n",
       "    }\n",
       "  \n",
       "  \n",
       "    \n",
       "    if (typeof (window._bokeh_timeout) === \"undefined\" || force !== \"\") {\n",
       "      window._bokeh_timeout = Date.now() + 0;\n",
       "      window._bokeh_failed_load = false;\n",
       "    }\n",
       "  \n",
       "    var NB_LOAD_WARNING = {'data': {'text/html':\n",
       "       \"<div style='background-color: #fdd'>\\n\"+\n",
       "       \"<p>\\n\"+\n",
       "       \"BokehJS does not appear to have successfully loaded. If loading BokehJS from CDN, this \\n\"+\n",
       "       \"may be due to a slow or bad network connection. Possible fixes:\\n\"+\n",
       "       \"</p>\\n\"+\n",
       "       \"<ul>\\n\"+\n",
       "       \"<li>re-rerun `output_notebook()` to attempt to load from CDN again, or</li>\\n\"+\n",
       "       \"<li>use INLINE resources instead, as so:</li>\\n\"+\n",
       "       \"</ul>\\n\"+\n",
       "       \"<code>\\n\"+\n",
       "       \"from bokeh.resources import INLINE\\n\"+\n",
       "       \"output_notebook(resources=INLINE)\\n\"+\n",
       "       \"</code>\\n\"+\n",
       "       \"</div>\"}};\n",
       "  \n",
       "    function display_loaded() {\n",
       "      if (window.Bokeh !== undefined) {\n",
       "        Bokeh.$(\"#5e1fcf47-ecf6-4e43-afa0-71c84c04257f\").text(\"BokehJS successfully loaded.\");\n",
       "      } else if (Date.now() < window._bokeh_timeout) {\n",
       "        setTimeout(display_loaded, 100)\n",
       "      }\n",
       "    }if ((window.Jupyter !== undefined) && Jupyter.notebook.kernel) {\n",
       "      comm_manager = Jupyter.notebook.kernel.comm_manager\n",
       "      comm_manager.register_target(\"9ceef500-4036-4171-81e0-7a552c4b8dbe\", function () {});\n",
       "    }\n",
       "  \n",
       "    function run_callbacks() {\n",
       "      window._bokeh_onload_callbacks.forEach(function(callback) { callback() });\n",
       "      delete window._bokeh_onload_callbacks\n",
       "      console.info(\"Bokeh: all callbacks have finished\");\n",
       "    }\n",
       "  \n",
       "    function load_libs(js_urls, callback) {\n",
       "      window._bokeh_onload_callbacks.push(callback);\n",
       "      if (window._bokeh_is_loading > 0) {\n",
       "        console.log(\"Bokeh: BokehJS is being loaded, scheduling callback at\", now());\n",
       "        return null;\n",
       "      }\n",
       "      if (js_urls == null || js_urls.length === 0) {\n",
       "        run_callbacks();\n",
       "        return null;\n",
       "      }\n",
       "      console.log(\"Bokeh: BokehJS not loaded, scheduling load and callback at\", now());\n",
       "      window._bokeh_is_loading = js_urls.length;\n",
       "      for (var i = 0; i < js_urls.length; i++) {\n",
       "        var url = js_urls[i];\n",
       "        var s = document.createElement('script');\n",
       "        s.src = url;\n",
       "        s.async = false;\n",
       "        s.onreadystatechange = s.onload = function() {\n",
       "          window._bokeh_is_loading--;\n",
       "          if (window._bokeh_is_loading === 0) {\n",
       "            console.log(\"Bokeh: all BokehJS libraries loaded\");\n",
       "            run_callbacks()\n",
       "          }\n",
       "        };\n",
       "        s.onerror = function() {\n",
       "          console.warn(\"failed to load library \" + url);\n",
       "        };\n",
       "        console.log(\"Bokeh: injecting script tag for BokehJS library: \", url);\n",
       "        document.getElementsByTagName(\"head\")[0].appendChild(s);\n",
       "      }\n",
       "    };var element = document.getElementById(\"5e1fcf47-ecf6-4e43-afa0-71c84c04257f\");\n",
       "    if (element == null) {\n",
       "      console.log(\"Bokeh: ERROR: autoload.js configured with elementid '5e1fcf47-ecf6-4e43-afa0-71c84c04257f' but no matching script tag was found. \")\n",
       "      return false;\n",
       "    }\n",
       "  \n",
       "    var js_urls = [];\n",
       "  \n",
       "    var inline_js = [\n",
       "      function(Bokeh) {\n",
       "        Bokeh.$(function() {\n",
       "            var docs_json = {\"3e6475a9-dd02-4c5b-a893-c790151f8c41\":{\"roots\":{\"references\":[{\"attributes\":{},\"id\":\"00b64715-b71a-4ea8-b199-143d720f5e2b\",\"type\":\"BasicTickFormatter\"},{\"attributes\":{\"data_source\":{\"id\":\"b4b1a9c7-85ba-404b-9592-2b1fc4b4308f\",\"type\":\"ColumnDataSource\"},\"glyph\":{\"id\":\"3ef12090-bd21-4e69-a7d5-6854b160e4c1\",\"type\":\"Segment\"},\"hover_glyph\":null,\"nonselection_glyph\":{\"id\":\"c0afe5cf-5514-45a2-a450-8d2ee37eda16\",\"type\":\"Segment\"},\"selection_glyph\":null},\"id\":\"f1459b2b-5fa2-492c-a163-2b4fe3b8c87c\",\"type\":\"GlyphRenderer\"},{\"attributes\":{\"callback\":null,\"column_names\":[\"right\",\"top\",\"left\"],\"data\":{\"left\":[-10.02,-9.02,-8.02,-7.02,-6.02,-5.02,-4.02,-3.02,-2.02,-1.02,-0.02,0.98,1.98,2.98,3.98,4.98,5.98,6.98,7.98,8.98,9.98,10.98,11.98,12.98,13.98,14.98],\"right\":[-9.98,-8.98,-7.98,-6.98,-5.98,-4.98,-3.98,-2.98,-1.98,-0.98,0.02,1.02,2.02,3.02,4.02,5.02,6.02,7.02,8.02,9.02,10.02,11.02,12.02,13.02,14.02,15.02],\"top\":[0.0,0.0,0.0,0.0,0.0,0.0,0.0,0.0,0.0,0.0,1.0,0.5,0.25,0.125,0.0625,0.03125,0.015625,0.0,0.0,0.0,0.0,0.0,0.0,0.0,0.0,0.0]}},\"id\":\"97a5a873-9075-4011-ab54-776fd4a19ab2\",\"type\":\"ColumnDataSource\"},{\"attributes\":{\"children\":[{\"id\":\"8611efaa-63b3-40e3-9c2e-e71f2e69a087\",\"subtype\":\"Figure\",\"type\":\"Plot\"},{\"id\":\"9671fba8-21a8-44a6-9f8e-09f1696cce2b\",\"type\":\"Spacer\"},{\"id\":\"6efba349-5204-4a2f-ae31-bfba956b25c8\",\"type\":\"Spacer\"}]},\"id\":\"8bd50882-768c-450f-b7fa-9aea4a8d28b0\",\"type\":\"Row\"},{\"attributes\":{\"data_source\":{\"id\":\"20157ece-b928-43cb-bf6a-e0f57ca5ec57\",\"type\":\"ColumnDataSource\"},\"glyph\":{\"id\":\"3675809a-504e-4ebc-af35-dc4801b01e73\",\"type\":\"Quad\"},\"hover_glyph\":null,\"nonselection_glyph\":{\"id\":\"9e7bffe5-e66f-46ff-9ab0-329232b7326e\",\"type\":\"Quad\"},\"selection_glyph\":null},\"id\":\"903c703c-1414-4916-a068-3497fd595c7f\",\"type\":\"GlyphRenderer\"},{\"attributes\":{\"line_alpha\":{\"value\":0.1},\"line_color\":{\"value\":\"#1f77b4\"},\"line_width\":{\"value\":2},\"x0\":{\"value\":0},\"x1\":{\"value\":0},\"y0\":{\"value\":-11},\"y1\":{\"value\":16}},\"id\":\"9b376dfb-2406-4064-ae1c-a52712b1319b\",\"type\":\"Segment\"},{\"attributes\":{\"line_alpha\":{\"value\":0.5},\"line_color\":{\"value\":\"gray\"},\"line_width\":{\"value\":2},\"x0\":{\"value\":-11},\"x1\":{\"value\":16},\"y0\":{\"value\":0},\"y1\":{\"value\":0}},\"id\":\"8eb366bd-b08d-4c57-98b1-3cf1274a5cf1\",\"type\":\"Segment\"},{\"attributes\":{\"fill_color\":{\"value\":\"white\"},\"size\":{\"units\":\"screen\",\"value\":5},\"x\":{\"field\":\"x\"},\"y\":{\"field\":\"y\"}},\"id\":\"14cdf665-a584-4f12-8114-b4a5b6ffc836\",\"type\":\"Circle\"},{\"attributes\":{\"bottom\":{\"value\":0},\"fill_alpha\":{\"value\":0.1},\"fill_color\":{\"value\":\"#1f77b4\"},\"left\":{\"field\":\"left\"},\"line_alpha\":{\"value\":0.1},\"line_color\":{\"value\":\"#1f77b4\"},\"right\":{\"field\":\"right\"},\"top\":{\"field\":\"top\"}},\"id\":\"0700fc03-97e8-4a8a-9330-5ef76594304b\",\"type\":\"Quad\"},{\"attributes\":{\"line_alpha\":{\"value\":0.5},\"line_color\":{\"value\":\"gray\"},\"line_width\":{\"value\":2},\"x0\":{\"value\":0},\"x1\":{\"value\":0},\"y0\":{\"value\":-11},\"y1\":{\"value\":12}},\"id\":\"fe39e1bd-0aae-4d67-a08b-05d060e3c3cf\",\"type\":\"Segment\"},{\"attributes\":{\"bottom\":{\"value\":0},\"fill_alpha\":{\"value\":0.1},\"fill_color\":{\"value\":\"#1f77b4\"},\"left\":{\"field\":\"left\"},\"line_alpha\":{\"value\":0.1},\"line_color\":{\"value\":\"#1f77b4\"},\"right\":{\"field\":\"right\"},\"top\":{\"field\":\"top\"}},\"id\":\"992fee44-1755-4b48-8f84-e28d6682fbb4\",\"type\":\"Quad\"},{\"attributes\":{\"data_source\":{\"id\":\"5975d9bc-fc9d-4b9e-a30a-76abf8e754fe\",\"type\":\"ColumnDataSource\"},\"glyph\":{\"id\":\"f13b0d1b-6484-4cc0-8ae8-174526211bdb\",\"type\":\"Circle\"},\"hover_glyph\":null,\"nonselection_glyph\":{\"id\":\"6f75160e-576d-4ae6-9347-133374acd838\",\"type\":\"Circle\"},\"selection_glyph\":null},\"id\":\"79f5c3ec-9eeb-47f2-ab96-684741e034c6\",\"type\":\"GlyphRenderer\"},{\"attributes\":{\"axis_label\":\"n\",\"formatter\":{\"id\":\"f5a1b69d-cc82-4c22-8e65-52eff3d9bbbd\",\"type\":\"BasicTickFormatter\"},\"plot\":{\"id\":\"8611efaa-63b3-40e3-9c2e-e71f2e69a087\",\"subtype\":\"Figure\",\"type\":\"Plot\"},\"ticker\":{\"id\":\"579c4f7d-f042-467c-8d62-52bba021021d\",\"type\":\"BasicTicker\"}},\"id\":\"519d5645-acaa-49ea-b0f1-30d761ecac72\",\"type\":\"LinearAxis\"},{\"attributes\":{\"below\":[{\"id\":\"d9e3c3a6-308e-4c25-9611-7e5468a2e196\",\"type\":\"LinearAxis\"}],\"left\":[{\"id\":\"3cc715cc-19fd-4eed-bb9a-7a5828ff807d\",\"type\":\"LinearAxis\"}],\"plot_height\":250,\"plot_width\":300,\"renderers\":[{\"id\":\"d9e3c3a6-308e-4c25-9611-7e5468a2e196\",\"type\":\"LinearAxis\"},{\"id\":\"29975f3e-5b59-4e1e-adc9-ab07131f32a1\",\"type\":\"Grid\"},{\"id\":\"3cc715cc-19fd-4eed-bb9a-7a5828ff807d\",\"type\":\"LinearAxis\"},{\"id\":\"774c7c82-12f9-4e9b-8dd8-f062d19d5626\",\"type\":\"Grid\"},{\"id\":\"29cb7e3e-7a0a-4252-99b3-112b3c522588\",\"type\":\"GlyphRenderer\"},{\"id\":\"190d1187-482f-4217-82b9-b70fe5b627e3\",\"type\":\"GlyphRenderer\"},{\"id\":\"f1459b2b-5fa2-492c-a163-2b4fe3b8c87c\",\"type\":\"GlyphRenderer\"},{\"id\":\"93f32929-34e8-4319-ab53-dc9b17408cd8\",\"type\":\"GlyphRenderer\"}],\"title\":{\"id\":\"8fdfe227-f692-48a8-ac2a-6bb5b8ff8333\",\"type\":\"Title\"},\"tool_events\":{\"id\":\"78baac6a-0d95-4962-8b53-8fc8a99d41e9\",\"type\":\"ToolEvents\"},\"toolbar\":{\"id\":\"545c910f-406e-4e17-81e1-be2239263b9a\",\"type\":\"Toolbar\"},\"toolbar_location\":null,\"x_range\":{\"id\":\"46598bf1-5290-4fe6-951d-727cc8ad2f9d\",\"type\":\"Range1d\"},\"y_range\":{\"id\":\"6dab7641-8bd4-407a-8576-85ebf7252ac4\",\"type\":\"Range1d\"}},\"id\":\"974244a4-ffe2-4e7e-86aa-1de7924b8878\",\"subtype\":\"Figure\",\"type\":\"Plot\"},{\"attributes\":{},\"id\":\"ef366fbc-cb8b-43f6-8266-2965aad9e2e2\",\"type\":\"BasicTickFormatter\"},{\"attributes\":{\"line_alpha\":{\"value\":0.5},\"line_color\":{\"value\":\"gray\"},\"line_width\":{\"value\":2},\"x0\":{\"value\":-11},\"x1\":{\"value\":16},\"y0\":{\"value\":0},\"y1\":{\"value\":0}},\"id\":\"768b3ad8-9679-4d5b-8da6-e910361a6065\",\"type\":\"Segment\"},{\"attributes\":{\"callback\":null,\"end\":4,\"start\":-2},\"id\":\"81c82685-beef-42ca-99f2-539f95feeae8\",\"type\":\"Range1d\"},{\"attributes\":{\"plot\":{\"id\":\"8611efaa-63b3-40e3-9c2e-e71f2e69a087\",\"subtype\":\"Figure\",\"type\":\"Plot\"},\"ticker\":{\"id\":\"579c4f7d-f042-467c-8d62-52bba021021d\",\"type\":\"BasicTicker\"}},\"id\":\"ee2430fe-a0b7-4ed5-885f-ee80c3950825\",\"type\":\"Grid\"},{\"attributes\":{\"plot\":null,\"text\":\"x[n]\"},\"id\":\"b36c1835-30c2-4a02-90d6-470ea2da2ae2\",\"type\":\"Title\"},{\"attributes\":{\"callback\":null,\"column_names\":[\"x\",\"y\"],\"data\":{\"x\":[-10,-9,-8,-7,-6,-5,-4,-3,-2,-1,0,1,2,3,4,5,6,7,8,9,10,11,12,13,14,15],\"y\":[0.0,0.0,0.0,0.0,0.0,0.0,0.0,0.0,0.0,0.0,1.0,0.5,0.25,0.125,0.0625,0.03125,0.015625,0.0,0.0,0.0,0.0,0.0,0.0,0.0,0.0,0.0]}},\"id\":\"1a9eeb20-789a-4ef2-9d17-8d0c0a73f2de\",\"type\":\"ColumnDataSource\"},{\"attributes\":{},\"id\":\"62799120-3345-42f6-b828-6dda6413eb57\",\"type\":\"BasicTicker\"},{\"attributes\":{\"callback\":null,\"column_names\":[\"right\",\"top\",\"left\"],\"data\":{\"left\":[-10.02,-9.02,-8.02,-7.02,-6.02,-5.02,-4.02,-3.02,-2.02,-1.02,-0.02,0.98,1.98,2.98,3.98,4.98,5.98,6.98,7.98,8.98,9.98,10.98,11.98,12.98,13.98,14.98],\"right\":[-9.98,-8.98,-7.98,-6.98,-5.98,-4.98,-3.98,-2.98,-1.98,-0.98,0.02,1.02,2.02,3.02,4.02,5.02,6.02,7.02,8.02,9.02,10.02,11.02,12.02,13.02,14.02,15.02],\"top\":[0,0,0,0,0,0,0,0,0,0,1,1,1,1,1,0,0,0,0,0,0,0,0,0,0,0]}},\"id\":\"20157ece-b928-43cb-bf6a-e0f57ca5ec57\",\"type\":\"ColumnDataSource\"},{\"attributes\":{},\"id\":\"f008d008-1f9a-44e5-8a52-5e28a84fba8e\",\"type\":\"BasicTickFormatter\"},{\"attributes\":{\"line_alpha\":{\"value\":0.1},\"line_color\":{\"value\":\"#1f77b4\"},\"line_width\":{\"value\":2},\"x0\":{\"value\":0},\"x1\":{\"value\":0},\"y0\":{\"value\":-11},\"y1\":{\"value\":16}},\"id\":\"fe696f0e-6157-4444-9b24-5e2d905c0788\",\"type\":\"Segment\"},{\"attributes\":{\"data_source\":{\"id\":\"37f22a10-5e1d-4c6e-97b5-8c663fb2932f\",\"type\":\"ColumnDataSource\"},\"glyph\":{\"id\":\"5c8e636e-5707-4adc-a317-3428fd036345\",\"type\":\"Segment\"},\"hover_glyph\":null,\"nonselection_glyph\":{\"id\":\"42a255af-ae5e-4d0a-85b2-9f4d434c5f7e\",\"type\":\"Segment\"},\"selection_glyph\":null},\"id\":\"60309d60-4cd1-4eaf-8b19-ce87c066a514\",\"type\":\"GlyphRenderer\"},{\"attributes\":{\"plot\":null,\"text\":\"y[n]\"},\"id\":\"8fdfe227-f692-48a8-ac2a-6bb5b8ff8333\",\"type\":\"Title\"},{\"attributes\":{\"data_source\":{\"id\":\"1a85976e-da5d-4ba4-88bc-5dfaa8de063e\",\"type\":\"ColumnDataSource\"},\"glyph\":{\"id\":\"768b3ad8-9679-4d5b-8da6-e910361a6065\",\"type\":\"Segment\"},\"hover_glyph\":null,\"nonselection_glyph\":{\"id\":\"ccd7db26-27cf-4c3f-b0f1-c300c51df207\",\"type\":\"Segment\"},\"selection_glyph\":null},\"id\":\"f97499ea-7b25-4c5c-a2ae-d8b765c3699e\",\"type\":\"GlyphRenderer\"},{\"attributes\":{\"line_alpha\":{\"value\":0.5},\"line_color\":{\"value\":\"gray\"},\"line_width\":{\"value\":2},\"x0\":{\"value\":0},\"x1\":{\"value\":0},\"y0\":{\"value\":-11},\"y1\":{\"value\":16}},\"id\":\"06a2470e-48c3-4da4-a36f-e21f9fd08b34\",\"type\":\"Segment\"},{\"attributes\":{\"dimension\":1,\"plot\":{\"id\":\"2e402463-06fd-4006-893a-25f878834774\",\"subtype\":\"Figure\",\"type\":\"Plot\"},\"ticker\":{\"id\":\"815f750e-93fb-4947-9ffa-3a885024b4f8\",\"type\":\"BasicTicker\"}},\"id\":\"f57c5762-6623-4554-8403-cd1a1ef57de0\",\"type\":\"Grid\"},{\"attributes\":{\"data_source\":{\"id\":\"6dcf8030-e820-4780-b8a9-69e1603369ff\",\"type\":\"ColumnDataSource\"},\"glyph\":{\"id\":\"06a2470e-48c3-4da4-a36f-e21f9fd08b34\",\"type\":\"Segment\"},\"hover_glyph\":null,\"nonselection_glyph\":{\"id\":\"9b376dfb-2406-4064-ae1c-a52712b1319b\",\"type\":\"Segment\"},\"selection_glyph\":null},\"id\":\"f3e3771f-e7ad-49f8-a079-e0a5deef970b\",\"type\":\"GlyphRenderer\"},{\"attributes\":{},\"id\":\"fecaec38-3319-4e5c-9172-5bf4018a5a51\",\"type\":\"BasicTicker\"},{\"attributes\":{\"children\":[{\"id\":\"a79a1879-5372-4b85-8878-064099347434\",\"subtype\":\"Figure\",\"type\":\"Plot\"},{\"id\":\"2e402463-06fd-4006-893a-25f878834774\",\"subtype\":\"Figure\",\"type\":\"Plot\"},{\"id\":\"974244a4-ffe2-4e7e-86aa-1de7924b8878\",\"subtype\":\"Figure\",\"type\":\"Plot\"}]},\"id\":\"8875a87d-4997-4781-8a52-7fe8d696ef02\",\"type\":\"Row\"},{\"attributes\":{\"axis_label\":\"h[n-k]\",\"formatter\":{\"id\":\"00b64715-b71a-4ea8-b199-143d720f5e2b\",\"type\":\"BasicTickFormatter\"},\"plot\":{\"id\":\"2e402463-06fd-4006-893a-25f878834774\",\"subtype\":\"Figure\",\"type\":\"Plot\"},\"ticker\":{\"id\":\"815f750e-93fb-4947-9ffa-3a885024b4f8\",\"type\":\"BasicTicker\"}},\"id\":\"ab543c32-20a8-4c8b-a00f-043c07ab1a7e\",\"type\":\"LinearAxis\"},{\"attributes\":{\"line_alpha\":{\"value\":0.1},\"line_color\":{\"value\":\"#1f77b4\"},\"line_width\":{\"value\":2},\"x0\":{\"value\":-11},\"x1\":{\"value\":16},\"y0\":{\"value\":0},\"y1\":{\"value\":0}},\"id\":\"74c1181d-0e54-4356-a31a-37c0222b2647\",\"type\":\"Segment\"},{\"attributes\":{\"dimension\":1,\"plot\":{\"id\":\"8611efaa-63b3-40e3-9c2e-e71f2e69a087\",\"subtype\":\"Figure\",\"type\":\"Plot\"},\"ticker\":{\"id\":\"fecaec38-3319-4e5c-9172-5bf4018a5a51\",\"type\":\"BasicTicker\"}},\"id\":\"8d19937d-0796-4a81-a682-9b90d3b80fba\",\"type\":\"Grid\"},{\"attributes\":{\"fill_color\":{\"value\":\"white\"},\"size\":{\"units\":\"screen\",\"value\":5},\"x\":{\"field\":\"x\"},\"y\":{\"field\":\"y\"}},\"id\":\"a0840470-8a6c-450b-8473-329db347a04f\",\"type\":\"Circle\"},{\"attributes\":{\"callback\":null,\"column_names\":[\"right\",\"top\",\"left\"],\"data\":{\"left\":[-10.02,-9.02,-8.02,-7.02,-6.02,-5.02,-4.02,-3.02,-2.02,-1.02,-0.02,0.98,1.98,2.98,3.98,4.98,5.98,6.98,7.98,8.98,9.98,10.98,11.98,12.98,13.98,14.98],\"right\":[-9.98,-8.98,-7.98,-6.98,-5.98,-4.98,-3.98,-2.98,-1.98,-0.98,0.02,1.02,2.02,3.02,4.02,5.02,6.02,7.02,8.02,9.02,10.02,11.02,12.02,13.02,14.02,15.02],\"top\":[0.0,0.0,0.0,0.0,0.0,0.0,0.0,0.0,0.0,0.0,1.0,0.5,0.25,0.125,0.0625,0.03125,0.015625,0.0,0.0,0.0,0.0,0.0,0.0,0.0,0.0,0.0]}},\"id\":\"611cd799-ef35-44c1-b3be-367e59ef47ec\",\"type\":\"ColumnDataSource\"},{\"attributes\":{\"callback\":null,\"end\":4,\"start\":-2},\"id\":\"a1bc5a7c-f4a1-4ba3-afe7-e8bfb628167a\",\"type\":\"Range1d\"},{\"attributes\":{\"fill_color\":{\"value\":\"white\"},\"size\":{\"units\":\"screen\",\"value\":5},\"x\":{\"field\":\"x\"},\"y\":{\"field\":\"y\"}},\"id\":\"81be0f01-a9d2-47d8-9164-91440704c431\",\"type\":\"Circle\"},{\"attributes\":{\"callback\":null,\"column_names\":[\"x\",\"y\"],\"data\":{\"x\":[-10,-9,-8,-7,-6,-5,-4,-3,-2,-1,0,1,2,3,4,5,6,7,8,9,10,11,12,13,14,15],\"y\":[0,0,0,0,0,0,0,0,0,0,0,0,0,0,0,0,0,0,0,0,0,0,0,0,0,0]}},\"id\":\"50c21da7-4fa2-458c-9e4e-15e1c1168846\",\"type\":\"ColumnDataSource\"},{\"attributes\":{\"fill_alpha\":{\"value\":0.1},\"fill_color\":{\"value\":\"#1f77b4\"},\"line_alpha\":{\"value\":0.1},\"line_color\":{\"value\":\"#1f77b4\"},\"size\":{\"units\":\"screen\",\"value\":5},\"x\":{\"field\":\"x\"},\"y\":{\"field\":\"y\"}},\"id\":\"2bfd9d5e-ae5f-4c23-8fa7-78ab399344aa\",\"type\":\"Circle\"},{\"attributes\":{\"fill_alpha\":{\"value\":0.1},\"fill_color\":{\"value\":\"#1f77b4\"},\"line_alpha\":{\"value\":0.1},\"line_color\":{\"value\":\"#1f77b4\"},\"size\":{\"units\":\"screen\",\"value\":5},\"x\":{\"field\":\"x\"},\"y\":{\"field\":\"y\"}},\"id\":\"f82bbcc3-e5b0-4d28-8b0f-a2884845972e\",\"type\":\"Circle\"},{\"attributes\":{\"callback\":null,\"end\":1.5,\"start\":-1.5},\"id\":\"b46beaca-28b6-49b4-b945-4fed91df5580\",\"type\":\"Range1d\"},{\"attributes\":{},\"id\":\"579c4f7d-f042-467c-8d62-52bba021021d\",\"type\":\"BasicTicker\"},{\"attributes\":{\"data_source\":{\"id\":\"50c21da7-4fa2-458c-9e4e-15e1c1168846\",\"type\":\"ColumnDataSource\"},\"glyph\":{\"id\":\"a0840470-8a6c-450b-8473-329db347a04f\",\"type\":\"Circle\"},\"hover_glyph\":null,\"nonselection_glyph\":{\"id\":\"f82bbcc3-e5b0-4d28-8b0f-a2884845972e\",\"type\":\"Circle\"},\"selection_glyph\":null},\"id\":\"190d1187-482f-4217-82b9-b70fe5b627e3\",\"type\":\"GlyphRenderer\"},{\"attributes\":{\"data_source\":{\"id\":\"97a5a873-9075-4011-ab54-776fd4a19ab2\",\"type\":\"ColumnDataSource\"},\"glyph\":{\"id\":\"5c91ad98-2a4f-41c0-94aa-5d028dbc9526\",\"type\":\"Quad\"},\"hover_glyph\":null,\"nonselection_glyph\":{\"id\":\"0700fc03-97e8-4a8a-9330-5ef76594304b\",\"type\":\"Quad\"},\"selection_glyph\":null},\"id\":\"8c63b444-99d2-4d97-90f6-d96df2a35b2b\",\"type\":\"GlyphRenderer\"},{\"attributes\":{\"sizing_mode\":\"scale_width\",\"toolbar_location\":\"above\"},\"id\":\"118900e7-9b6d-4b98-96f5-a28388f8fe3f\",\"type\":\"ToolbarBox\"},{\"attributes\":{},\"id\":\"28fac64c-bd39-45b0-b2fa-38f8ad27dd22\",\"type\":\"BasicTicker\"},{\"attributes\":{\"height\":250,\"width\":300},\"id\":\"6efba349-5204-4a2f-ae31-bfba956b25c8\",\"type\":\"Spacer\"},{\"attributes\":{\"axis_label\":\"k\",\"formatter\":{\"id\":\"f008d008-1f9a-44e5-8a52-5e28a84fba8e\",\"type\":\"BasicTickFormatter\"},\"plot\":{\"id\":\"2e402463-06fd-4006-893a-25f878834774\",\"subtype\":\"Figure\",\"type\":\"Plot\"},\"ticker\":{\"id\":\"62799120-3345-42f6-b828-6dda6413eb57\",\"type\":\"BasicTicker\"}},\"id\":\"60ba9307-326d-4d90-9f04-cb58dcfbb9e5\",\"type\":\"LinearAxis\"},{\"attributes\":{\"plot\":{\"id\":\"2e402463-06fd-4006-893a-25f878834774\",\"subtype\":\"Figure\",\"type\":\"Plot\"},\"ticker\":{\"id\":\"62799120-3345-42f6-b828-6dda6413eb57\",\"type\":\"BasicTicker\"}},\"id\":\"81a1d321-a51f-495e-875a-355ad767b42b\",\"type\":\"Grid\"},{\"attributes\":{\"plot\":null,\"text\":\"h[n]\"},\"id\":\"455533a0-c065-465e-94d5-bc6181d85e07\",\"type\":\"Title\"},{\"attributes\":{\"data_source\":{\"id\":\"482af33f-4110-4852-a5e2-47438bd0c1a4\",\"type\":\"ColumnDataSource\"},\"glyph\":{\"id\":\"8eb366bd-b08d-4c57-98b1-3cf1274a5cf1\",\"type\":\"Segment\"},\"hover_glyph\":null,\"nonselection_glyph\":{\"id\":\"74c1181d-0e54-4356-a31a-37c0222b2647\",\"type\":\"Segment\"},\"selection_glyph\":null},\"id\":\"d2a66941-6396-4575-96c9-07e44c75047a\",\"type\":\"GlyphRenderer\"},{\"attributes\":{},\"id\":\"8028fee0-23d1-47e3-948a-3a0551b5760f\",\"type\":\"ToolEvents\"},{\"attributes\":{\"axis_label\":\"h[n]\",\"formatter\":{\"id\":\"38ff3321-11ff-4930-85d6-2f2e6294ad20\",\"type\":\"BasicTickFormatter\"},\"plot\":{\"id\":\"a79a1879-5372-4b85-8878-064099347434\",\"subtype\":\"Figure\",\"type\":\"Plot\"},\"ticker\":{\"id\":\"28fac64c-bd39-45b0-b2fa-38f8ad27dd22\",\"type\":\"BasicTicker\"}},\"id\":\"25a1c58a-7519-4e8e-9b16-bdfb4421e631\",\"type\":\"LinearAxis\"},{\"attributes\":{\"plot\":{\"id\":\"a79a1879-5372-4b85-8878-064099347434\",\"subtype\":\"Figure\",\"type\":\"Plot\"},\"ticker\":{\"id\":\"b6cc04dc-6850-47b3-a9ee-7ac6d8ce48c8\",\"type\":\"BasicTicker\"}},\"id\":\"eadef2fb-c662-438f-a918-775bd691e7ec\",\"type\":\"Grid\"},{\"attributes\":{\"axis_label\":\"n\",\"formatter\":{\"id\":\"894e0618-1bce-47fd-b786-c24df8dd0d81\",\"type\":\"BasicTickFormatter\"},\"plot\":{\"id\":\"a79a1879-5372-4b85-8878-064099347434\",\"subtype\":\"Figure\",\"type\":\"Plot\"},\"ticker\":{\"id\":\"b6cc04dc-6850-47b3-a9ee-7ac6d8ce48c8\",\"type\":\"BasicTicker\"}},\"id\":\"fcb28e7b-58f5-4dad-be6e-b9e0f7e67bd0\",\"type\":\"LinearAxis\"},{\"attributes\":{\"data_source\":{\"id\":\"611cd799-ef35-44c1-b3be-367e59ef47ec\",\"type\":\"ColumnDataSource\"},\"glyph\":{\"id\":\"40f5c739-c009-457e-a732-824c394b4edf\",\"type\":\"Quad\"},\"hover_glyph\":null,\"nonselection_glyph\":{\"id\":\"fc3d5103-2cd6-4d1a-8abf-a7d5944e0e20\",\"type\":\"Quad\"},\"selection_glyph\":null},\"id\":\"98631430-3b04-4d2a-a2ad-0ead3d77a445\",\"type\":\"GlyphRenderer\"},{\"attributes\":{\"children\":[{\"id\":\"8bd50882-768c-450f-b7fa-9aea4a8d28b0\",\"type\":\"Row\"},{\"id\":\"8875a87d-4997-4781-8a52-7fe8d696ef02\",\"type\":\"Row\"}]},\"id\":\"0628cda0-c2e5-4c77-9b08-6488064e2aa0\",\"type\":\"Column\"},{\"attributes\":{},\"id\":\"ff048023-32a7-4030-b914-b0d6811a6c95\",\"type\":\"ToolEvents\"},{\"attributes\":{},\"id\":\"815f750e-93fb-4947-9ffa-3a885024b4f8\",\"type\":\"BasicTicker\"},{\"attributes\":{},\"id\":\"f5a1b69d-cc82-4c22-8e65-52eff3d9bbbd\",\"type\":\"BasicTickFormatter\"},{\"attributes\":{},\"id\":\"b6cc04dc-6850-47b3-a9ee-7ac6d8ce48c8\",\"type\":\"BasicTicker\"},{\"attributes\":{\"line_alpha\":{\"value\":0.1},\"line_color\":{\"value\":\"#1f77b4\"},\"line_width\":{\"value\":2},\"x0\":{\"value\":-11},\"x1\":{\"value\":16},\"y0\":{\"value\":0},\"y1\":{\"value\":0}},\"id\":\"c0afe5cf-5514-45a2-a450-8d2ee37eda16\",\"type\":\"Segment\"},{\"attributes\":{\"bottom\":{\"value\":0},\"fill_color\":{\"value\":\"black\"},\"left\":{\"field\":\"left\"},\"right\":{\"field\":\"right\"},\"top\":{\"field\":\"top\"}},\"id\":\"3675809a-504e-4ebc-af35-dc4801b01e73\",\"type\":\"Quad\"},{\"attributes\":{\"line_alpha\":{\"value\":0.5},\"line_color\":{\"value\":\"gray\"},\"line_width\":{\"value\":2},\"x0\":{\"value\":0},\"x1\":{\"value\":0},\"y0\":{\"value\":-11},\"y1\":{\"value\":16}},\"id\":\"a6179900-bcbb-4501-ae04-1b7aa7b6fd7c\",\"type\":\"Segment\"},{\"attributes\":{\"bottom\":{\"value\":0},\"fill_color\":{\"value\":\"black\"},\"left\":{\"field\":\"left\"},\"right\":{\"field\":\"right\"},\"top\":{\"field\":\"top\"}},\"id\":\"2cfa52e4-6174-4356-9c95-03c533c1fbcd\",\"type\":\"Quad\"},{\"attributes\":{},\"id\":\"bd3f2611-5075-45c6-8945-3515dcaa2c9f\",\"type\":\"BasicTickFormatter\"},{\"attributes\":{\"below\":[{\"id\":\"fcb28e7b-58f5-4dad-be6e-b9e0f7e67bd0\",\"type\":\"LinearAxis\"}],\"left\":[{\"id\":\"25a1c58a-7519-4e8e-9b16-bdfb4421e631\",\"type\":\"LinearAxis\"}],\"plot_height\":250,\"plot_width\":300,\"renderers\":[{\"id\":\"fcb28e7b-58f5-4dad-be6e-b9e0f7e67bd0\",\"type\":\"LinearAxis\"},{\"id\":\"eadef2fb-c662-438f-a918-775bd691e7ec\",\"type\":\"Grid\"},{\"id\":\"25a1c58a-7519-4e8e-9b16-bdfb4421e631\",\"type\":\"LinearAxis\"},{\"id\":\"a8464019-f90a-445d-ac0a-ba3c044e90b7\",\"type\":\"Grid\"},{\"id\":\"8c63b444-99d2-4d97-90f6-d96df2a35b2b\",\"type\":\"GlyphRenderer\"},{\"id\":\"79f5c3ec-9eeb-47f2-ab96-684741e034c6\",\"type\":\"GlyphRenderer\"},{\"id\":\"f97499ea-7b25-4c5c-a2ae-d8b765c3699e\",\"type\":\"GlyphRenderer\"},{\"id\":\"852d8a8c-0981-495a-b9d8-8b5da31d3a69\",\"type\":\"GlyphRenderer\"}],\"title\":{\"id\":\"455533a0-c065-465e-94d5-bc6181d85e07\",\"type\":\"Title\"},\"tool_events\":{\"id\":\"8028fee0-23d1-47e3-948a-3a0551b5760f\",\"type\":\"ToolEvents\"},\"toolbar\":{\"id\":\"839c4d3e-4e41-49a7-8bbb-e48aac07225f\",\"type\":\"Toolbar\"},\"toolbar_location\":null,\"x_range\":{\"id\":\"46598bf1-5290-4fe6-951d-727cc8ad2f9d\",\"type\":\"Range1d\"},\"y_range\":{\"id\":\"81c82685-beef-42ca-99f2-539f95feeae8\",\"type\":\"Range1d\"}},\"id\":\"a79a1879-5372-4b85-8878-064099347434\",\"subtype\":\"Figure\",\"type\":\"Plot\"},{\"attributes\":{\"bottom\":{\"value\":0},\"fill_alpha\":{\"value\":0.1},\"fill_color\":{\"value\":\"#1f77b4\"},\"left\":{\"field\":\"left\"},\"line_alpha\":{\"value\":0.1},\"line_color\":{\"value\":\"#1f77b4\"},\"right\":{\"field\":\"right\"},\"top\":{\"field\":\"top\"}},\"id\":\"fc3d5103-2cd6-4d1a-8abf-a7d5944e0e20\",\"type\":\"Quad\"},{\"attributes\":{\"height\":250,\"width\":300},\"id\":\"9671fba8-21a8-44a6-9f8e-09f1696cce2b\",\"type\":\"Spacer\"},{\"attributes\":{\"data_source\":{\"id\":\"63fd8b86-f4a7-4831-a8fd-1195af1cd181\",\"type\":\"ColumnDataSource\"},\"glyph\":{\"id\":\"81be0f01-a9d2-47d8-9164-91440704c431\",\"type\":\"Circle\"},\"hover_glyph\":null,\"nonselection_glyph\":{\"id\":\"8f23fd78-6b21-46c3-858b-0f4ab8e62841\",\"type\":\"Circle\"},\"selection_glyph\":null},\"id\":\"ac9b296c-61cb-4534-a49f-61a269ff649e\",\"type\":\"GlyphRenderer\"},{\"attributes\":{\"callback\":null},\"id\":\"e395f065-550d-43ee-8436-8d6aac05c6c1\",\"type\":\"ColumnDataSource\"},{\"attributes\":{},\"id\":\"8abc7ca9-4df9-476b-a68d-6be3f2a62aeb\",\"type\":\"BasicTicker\"},{\"attributes\":{\"fill_alpha\":{\"value\":0.1},\"fill_color\":{\"value\":\"#1f77b4\"},\"line_alpha\":{\"value\":0.1},\"line_color\":{\"value\":\"#1f77b4\"},\"size\":{\"units\":\"screen\",\"value\":5},\"x\":{\"field\":\"x\"},\"y\":{\"field\":\"y\"}},\"id\":\"6f75160e-576d-4ae6-9347-133374acd838\",\"type\":\"Circle\"},{\"attributes\":{\"line_alpha\":{\"value\":0.1},\"line_color\":{\"value\":\"#1f77b4\"},\"line_width\":{\"value\":2},\"x0\":{\"value\":0},\"x1\":{\"value\":0},\"y0\":{\"value\":-11},\"y1\":{\"value\":12}},\"id\":\"932ad58f-3944-47c8-9867-ec53f8a507bb\",\"type\":\"Segment\"},{\"attributes\":{\"fill_alpha\":{\"value\":0.1},\"fill_color\":{\"value\":\"#1f77b4\"},\"line_alpha\":{\"value\":0.1},\"line_color\":{\"value\":\"#1f77b4\"},\"size\":{\"units\":\"screen\",\"value\":5},\"x\":{\"field\":\"x\"},\"y\":{\"field\":\"y\"}},\"id\":\"8f23fd78-6b21-46c3-858b-0f4ab8e62841\",\"type\":\"Circle\"},{\"attributes\":{\"callback\":null},\"id\":\"d95799e2-0ede-48ff-96cb-d7a0ae00c4e6\",\"type\":\"ColumnDataSource\"},{\"attributes\":{\"callback\":null},\"id\":\"37f22a10-5e1d-4c6e-97b5-8c663fb2932f\",\"type\":\"ColumnDataSource\"},{\"attributes\":{\"bottom\":{\"value\":0},\"fill_color\":{\"value\":\"black\"},\"left\":{\"field\":\"left\"},\"right\":{\"field\":\"right\"},\"top\":{\"field\":\"top\"}},\"id\":\"40f5c739-c009-457e-a732-824c394b4edf\",\"type\":\"Quad\"},{\"attributes\":{\"active_drag\":\"auto\",\"active_scroll\":\"auto\",\"active_tap\":\"auto\",\"logo\":null},\"id\":\"839c4d3e-4e41-49a7-8bbb-e48aac07225f\",\"type\":\"Toolbar\"},{\"attributes\":{\"below\":[{\"id\":\"519d5645-acaa-49ea-b0f1-30d761ecac72\",\"type\":\"LinearAxis\"}],\"left\":[{\"id\":\"a3619a6e-df4f-4338-a82c-a926b74d9cfc\",\"type\":\"LinearAxis\"}],\"plot_height\":250,\"plot_width\":300,\"renderers\":[{\"id\":\"519d5645-acaa-49ea-b0f1-30d761ecac72\",\"type\":\"LinearAxis\"},{\"id\":\"ee2430fe-a0b7-4ed5-885f-ee80c3950825\",\"type\":\"Grid\"},{\"id\":\"a3619a6e-df4f-4338-a82c-a926b74d9cfc\",\"type\":\"LinearAxis\"},{\"id\":\"8d19937d-0796-4a81-a682-9b90d3b80fba\",\"type\":\"Grid\"},{\"id\":\"903c703c-1414-4916-a068-3497fd595c7f\",\"type\":\"GlyphRenderer\"},{\"id\":\"ac9b296c-61cb-4534-a49f-61a269ff649e\",\"type\":\"GlyphRenderer\"},{\"id\":\"60309d60-4cd1-4eaf-8b19-ce87c066a514\",\"type\":\"GlyphRenderer\"},{\"id\":\"f3e3771f-e7ad-49f8-a079-e0a5deef970b\",\"type\":\"GlyphRenderer\"}],\"title\":{\"id\":\"b36c1835-30c2-4a02-90d6-470ea2da2ae2\",\"type\":\"Title\"},\"tool_events\":{\"id\":\"ff048023-32a7-4030-b914-b0d6811a6c95\",\"type\":\"ToolEvents\"},\"toolbar\":{\"id\":\"889d94fd-6682-4bb5-ab76-6c842eb3508f\",\"type\":\"Toolbar\"},\"toolbar_location\":null,\"x_range\":{\"id\":\"46598bf1-5290-4fe6-951d-727cc8ad2f9d\",\"type\":\"Range1d\"},\"y_range\":{\"id\":\"b46beaca-28b6-49b4-b945-4fed91df5580\",\"type\":\"Range1d\"}},\"id\":\"8611efaa-63b3-40e3-9c2e-e71f2e69a087\",\"subtype\":\"Figure\",\"type\":\"Plot\"},{\"attributes\":{},\"id\":\"6f97a652-7221-4a0c-a725-1e0356b657df\",\"type\":\"BasicTicker\"},{\"attributes\":{\"active_drag\":\"auto\",\"active_scroll\":\"auto\",\"active_tap\":\"auto\",\"logo\":null},\"id\":\"b92d60d4-afb5-4a5c-a233-fd5df46b037b\",\"type\":\"Toolbar\"},{\"attributes\":{\"callback\":null,\"column_names\":[\"right\",\"top\",\"left\"],\"data\":{\"left\":[-10.02,-9.02,-8.02,-7.02,-6.02,-5.02,-4.02,-3.02,-2.02,-1.02,-0.02,0.98,1.98,2.98,3.98,4.98,5.98,6.98,7.98,8.98,9.98,10.98,11.98,12.98,13.98,14.98],\"right\":[-9.98,-8.98,-7.98,-6.98,-5.98,-4.98,-3.98,-2.98,-1.98,-0.98,0.02,1.02,2.02,3.02,4.02,5.02,6.02,7.02,8.02,9.02,10.02,11.02,12.02,13.02,14.02,15.02],\"top\":[0,0,0,0,0,0,0,0,0,0,0,0,0,0,0,0,0,0,0,0,0,0,0,0,0,0]}},\"id\":\"f43447ca-36f5-45de-af2e-aaf7ec3b9cc5\",\"type\":\"ColumnDataSource\"},{\"attributes\":{\"plot\":{\"id\":\"974244a4-ffe2-4e7e-86aa-1de7924b8878\",\"subtype\":\"Figure\",\"type\":\"Plot\"},\"ticker\":{\"id\":\"6f97a652-7221-4a0c-a725-1e0356b657df\",\"type\":\"BasicTicker\"}},\"id\":\"29975f3e-5b59-4e1e-adc9-ab07131f32a1\",\"type\":\"Grid\"},{\"attributes\":{\"bottom\":{\"value\":0},\"fill_alpha\":{\"value\":0.1},\"fill_color\":{\"value\":\"#1f77b4\"},\"left\":{\"field\":\"left\"},\"line_alpha\":{\"value\":0.1},\"line_color\":{\"value\":\"#1f77b4\"},\"right\":{\"field\":\"right\"},\"top\":{\"field\":\"top\"}},\"id\":\"9e7bffe5-e66f-46ff-9ab0-329232b7326e\",\"type\":\"Quad\"},{\"attributes\":{\"data_source\":{\"id\":\"e395f065-550d-43ee-8436-8d6aac05c6c1\",\"type\":\"ColumnDataSource\"},\"glyph\":{\"id\":\"fe39e1bd-0aae-4d67-a08b-05d060e3c3cf\",\"type\":\"Segment\"},\"hover_glyph\":null,\"nonselection_glyph\":{\"id\":\"932ad58f-3944-47c8-9867-ec53f8a507bb\",\"type\":\"Segment\"},\"selection_glyph\":null},\"id\":\"93f32929-34e8-4319-ab53-dc9b17408cd8\",\"type\":\"GlyphRenderer\"},{\"attributes\":{},\"id\":\"894e0618-1bce-47fd-b786-c24df8dd0d81\",\"type\":\"BasicTickFormatter\"},{\"attributes\":{\"data_source\":{\"id\":\"1a9eeb20-789a-4ef2-9d17-8d0c0a73f2de\",\"type\":\"ColumnDataSource\"},\"glyph\":{\"id\":\"14cdf665-a584-4f12-8114-b4a5b6ffc836\",\"type\":\"Circle\"},\"hover_glyph\":null,\"nonselection_glyph\":{\"id\":\"2bfd9d5e-ae5f-4c23-8fa7-78ab399344aa\",\"type\":\"Circle\"},\"selection_glyph\":null},\"id\":\"9fc971b9-644b-4d70-8e76-9c2f4ee32996\",\"type\":\"GlyphRenderer\"},{\"attributes\":{\"axis_label\":\"n\",\"formatter\":{\"id\":\"edab0242-880b-428a-8402-030b0938a920\",\"type\":\"BasicTickFormatter\"},\"plot\":{\"id\":\"974244a4-ffe2-4e7e-86aa-1de7924b8878\",\"subtype\":\"Figure\",\"type\":\"Plot\"},\"ticker\":{\"id\":\"6f97a652-7221-4a0c-a725-1e0356b657df\",\"type\":\"BasicTicker\"}},\"id\":\"d9e3c3a6-308e-4c25-9611-7e5468a2e196\",\"type\":\"LinearAxis\"},{\"attributes\":{\"callback\":null},\"id\":\"6dcf8030-e820-4780-b8a9-69e1603369ff\",\"type\":\"ColumnDataSource\"},{\"attributes\":{\"dimension\":1,\"plot\":{\"id\":\"a79a1879-5372-4b85-8878-064099347434\",\"subtype\":\"Figure\",\"type\":\"Plot\"},\"ticker\":{\"id\":\"28fac64c-bd39-45b0-b2fa-38f8ad27dd22\",\"type\":\"BasicTicker\"}},\"id\":\"a8464019-f90a-445d-ac0a-ba3c044e90b7\",\"type\":\"Grid\"},{\"attributes\":{\"callback\":null},\"id\":\"4fda6bee-735c-48f1-8f24-196a6cdff45b\",\"type\":\"ColumnDataSource\"},{\"attributes\":{},\"id\":\"edab0242-880b-428a-8402-030b0938a920\",\"type\":\"BasicTickFormatter\"},{\"attributes\":{\"line_alpha\":{\"value\":0.1},\"line_color\":{\"value\":\"#1f77b4\"},\"line_width\":{\"value\":2},\"x0\":{\"value\":-11},\"x1\":{\"value\":16},\"y0\":{\"value\":0},\"y1\":{\"value\":0}},\"id\":\"ccd7db26-27cf-4c3f-b0f1-c300c51df207\",\"type\":\"Segment\"},{\"attributes\":{\"axis_label\":\"y[n]\",\"formatter\":{\"id\":\"ef366fbc-cb8b-43f6-8266-2965aad9e2e2\",\"type\":\"BasicTickFormatter\"},\"plot\":{\"id\":\"974244a4-ffe2-4e7e-86aa-1de7924b8878\",\"subtype\":\"Figure\",\"type\":\"Plot\"},\"ticker\":{\"id\":\"8abc7ca9-4df9-476b-a68d-6be3f2a62aeb\",\"type\":\"BasicTicker\"}},\"id\":\"3cc715cc-19fd-4eed-bb9a-7a5828ff807d\",\"type\":\"LinearAxis\"},{\"attributes\":{\"data_source\":{\"id\":\"d95799e2-0ede-48ff-96cb-d7a0ae00c4e6\",\"type\":\"ColumnDataSource\"},\"glyph\":{\"id\":\"d078d087-a1c1-4d9b-8179-efad055aea86\",\"type\":\"Segment\"},\"hover_glyph\":null,\"nonselection_glyph\":{\"id\":\"fe696f0e-6157-4444-9b24-5e2d905c0788\",\"type\":\"Segment\"},\"selection_glyph\":null},\"id\":\"852d8a8c-0981-495a-b9d8-8b5da31d3a69\",\"type\":\"GlyphRenderer\"},{\"attributes\":{\"below\":[{\"id\":\"60ba9307-326d-4d90-9f04-cb58dcfbb9e5\",\"type\":\"LinearAxis\"}],\"left\":[{\"id\":\"ab543c32-20a8-4c8b-a00f-043c07ab1a7e\",\"type\":\"LinearAxis\"}],\"plot_height\":250,\"plot_width\":300,\"renderers\":[{\"id\":\"60ba9307-326d-4d90-9f04-cb58dcfbb9e5\",\"type\":\"LinearAxis\"},{\"id\":\"81a1d321-a51f-495e-875a-355ad767b42b\",\"type\":\"Grid\"},{\"id\":\"ab543c32-20a8-4c8b-a00f-043c07ab1a7e\",\"type\":\"LinearAxis\"},{\"id\":\"f57c5762-6623-4554-8403-cd1a1ef57de0\",\"type\":\"Grid\"},{\"id\":\"98631430-3b04-4d2a-a2ad-0ead3d77a445\",\"type\":\"GlyphRenderer\"},{\"id\":\"9fc971b9-644b-4d70-8e76-9c2f4ee32996\",\"type\":\"GlyphRenderer\"},{\"id\":\"d2a66941-6396-4575-96c9-07e44c75047a\",\"type\":\"GlyphRenderer\"},{\"id\":\"f27afb65-386c-4e7e-9064-92f41ed8e556\",\"type\":\"GlyphRenderer\"}],\"title\":{\"id\":\"d87c0158-d572-4d2d-a10a-051a0c8edb73\",\"type\":\"Title\"},\"tool_events\":{\"id\":\"f07d55c5-86a9-4f42-a431-8fc8fae398f0\",\"type\":\"ToolEvents\"},\"toolbar\":{\"id\":\"b92d60d4-afb5-4a5c-a233-fd5df46b037b\",\"type\":\"Toolbar\"},\"toolbar_location\":null,\"x_range\":{\"id\":\"46598bf1-5290-4fe6-951d-727cc8ad2f9d\",\"type\":\"Range1d\"},\"y_range\":{\"id\":\"a1bc5a7c-f4a1-4ba3-afe7-e8bfb628167a\",\"type\":\"Range1d\"}},\"id\":\"2e402463-06fd-4006-893a-25f878834774\",\"subtype\":\"Figure\",\"type\":\"Plot\"},{\"attributes\":{\"line_alpha\":{\"value\":0.5},\"line_color\":{\"value\":\"gray\"},\"line_width\":{\"value\":2},\"x0\":{\"value\":0},\"x1\":{\"value\":0},\"y0\":{\"value\":-11},\"y1\":{\"value\":16}},\"id\":\"d078d087-a1c1-4d9b-8179-efad055aea86\",\"type\":\"Segment\"},{\"attributes\":{\"callback\":null,\"column_names\":[\"x\",\"y\"],\"data\":{\"x\":[-10,-9,-8,-7,-6,-5,-4,-3,-2,-1,0,1,2,3,4,5,6,7,8,9,10,11,12,13,14,15],\"y\":[0.0,0.0,0.0,0.0,0.0,0.0,0.0,0.0,0.0,0.0,1.0,0.5,0.25,0.125,0.0625,0.03125,0.015625,0.0,0.0,0.0,0.0,0.0,0.0,0.0,0.0,0.0]}},\"id\":\"5975d9bc-fc9d-4b9e-a30a-76abf8e754fe\",\"type\":\"ColumnDataSource\"},{\"attributes\":{\"callback\":null},\"id\":\"1a85976e-da5d-4ba4-88bc-5dfaa8de063e\",\"type\":\"ColumnDataSource\"},{\"attributes\":{\"line_alpha\":{\"value\":0.5},\"line_color\":{\"value\":\"gray\"},\"line_width\":{\"value\":2},\"x0\":{\"value\":-11},\"x1\":{\"value\":16},\"y0\":{\"value\":0},\"y1\":{\"value\":0}},\"id\":\"5c8e636e-5707-4adc-a317-3428fd036345\",\"type\":\"Segment\"},{\"attributes\":{\"line_alpha\":{\"value\":0.5},\"line_color\":{\"value\":\"gray\"},\"line_width\":{\"value\":2},\"x0\":{\"value\":-11},\"x1\":{\"value\":16},\"y0\":{\"value\":0},\"y1\":{\"value\":0}},\"id\":\"3ef12090-bd21-4e69-a7d5-6854b160e4c1\",\"type\":\"Segment\"},{\"attributes\":{\"children\":[{\"id\":\"118900e7-9b6d-4b98-96f5-a28388f8fe3f\",\"type\":\"ToolbarBox\"},{\"id\":\"0628cda0-c2e5-4c77-9b08-6488064e2aa0\",\"type\":\"Column\"}]},\"id\":\"effbf893-80c1-47e5-9dd3-057b3cc3efb2\",\"type\":\"Column\"},{\"attributes\":{\"dimension\":1,\"plot\":{\"id\":\"974244a4-ffe2-4e7e-86aa-1de7924b8878\",\"subtype\":\"Figure\",\"type\":\"Plot\"},\"ticker\":{\"id\":\"8abc7ca9-4df9-476b-a68d-6be3f2a62aeb\",\"type\":\"BasicTicker\"}},\"id\":\"774c7c82-12f9-4e9b-8dd8-f062d19d5626\",\"type\":\"Grid\"},{\"attributes\":{\"plot\":null,\"text\":\"h[n-k]\"},\"id\":\"d87c0158-d572-4d2d-a10a-051a0c8edb73\",\"type\":\"Title\"},{\"attributes\":{\"active_drag\":\"auto\",\"active_scroll\":\"auto\",\"active_tap\":\"auto\",\"logo\":null},\"id\":\"889d94fd-6682-4bb5-ab76-6c842eb3508f\",\"type\":\"Toolbar\"},{\"attributes\":{\"line_alpha\":{\"value\":0.1},\"line_color\":{\"value\":\"#1f77b4\"},\"line_width\":{\"value\":2},\"x0\":{\"value\":0},\"x1\":{\"value\":0},\"y0\":{\"value\":-11},\"y1\":{\"value\":16}},\"id\":\"72ec6b2f-ccb8-4358-8aee-2256bbc21093\",\"type\":\"Segment\"},{\"attributes\":{\"callback\":null},\"id\":\"b4b1a9c7-85ba-404b-9592-2b1fc4b4308f\",\"type\":\"ColumnDataSource\"},{\"attributes\":{\"callback\":null,\"end\":16,\"start\":-11},\"id\":\"46598bf1-5290-4fe6-951d-727cc8ad2f9d\",\"type\":\"Range1d\"},{\"attributes\":{\"data_source\":{\"id\":\"f43447ca-36f5-45de-af2e-aaf7ec3b9cc5\",\"type\":\"ColumnDataSource\"},\"glyph\":{\"id\":\"2cfa52e4-6174-4356-9c95-03c533c1fbcd\",\"type\":\"Quad\"},\"hover_glyph\":null,\"nonselection_glyph\":{\"id\":\"992fee44-1755-4b48-8f84-e28d6682fbb4\",\"type\":\"Quad\"},\"selection_glyph\":null},\"id\":\"29cb7e3e-7a0a-4252-99b3-112b3c522588\",\"type\":\"GlyphRenderer\"},{\"attributes\":{\"callback\":null},\"id\":\"482af33f-4110-4852-a5e2-47438bd0c1a4\",\"type\":\"ColumnDataSource\"},{\"attributes\":{\"bottom\":{\"value\":0},\"fill_color\":{\"value\":\"black\"},\"left\":{\"field\":\"left\"},\"right\":{\"field\":\"right\"},\"top\":{\"field\":\"top\"}},\"id\":\"5c91ad98-2a4f-41c0-94aa-5d028dbc9526\",\"type\":\"Quad\"},{\"attributes\":{},\"id\":\"f07d55c5-86a9-4f42-a431-8fc8fae398f0\",\"type\":\"ToolEvents\"},{\"attributes\":{\"callback\":null,\"column_names\":[\"x\",\"y\"],\"data\":{\"x\":[-10,-9,-8,-7,-6,-5,-4,-3,-2,-1,0,1,2,3,4,5,6,7,8,9,10,11,12,13,14,15],\"y\":[0,0,0,0,0,0,0,0,0,0,1,1,1,1,1,0,0,0,0,0,0,0,0,0,0,0]}},\"id\":\"63fd8b86-f4a7-4831-a8fd-1195af1cd181\",\"type\":\"ColumnDataSource\"},{\"attributes\":{\"data_source\":{\"id\":\"4fda6bee-735c-48f1-8f24-196a6cdff45b\",\"type\":\"ColumnDataSource\"},\"glyph\":{\"id\":\"a6179900-bcbb-4501-ae04-1b7aa7b6fd7c\",\"type\":\"Segment\"},\"hover_glyph\":null,\"nonselection_glyph\":{\"id\":\"72ec6b2f-ccb8-4358-8aee-2256bbc21093\",\"type\":\"Segment\"},\"selection_glyph\":null},\"id\":\"f27afb65-386c-4e7e-9064-92f41ed8e556\",\"type\":\"GlyphRenderer\"},{\"attributes\":{},\"id\":\"38ff3321-11ff-4930-85d6-2f2e6294ad20\",\"type\":\"BasicTickFormatter\"},{\"attributes\":{},\"id\":\"78baac6a-0d95-4962-8b53-8fc8a99d41e9\",\"type\":\"ToolEvents\"},{\"attributes\":{\"fill_color\":{\"value\":\"white\"},\"size\":{\"units\":\"screen\",\"value\":5},\"x\":{\"field\":\"x\"},\"y\":{\"field\":\"y\"}},\"id\":\"f13b0d1b-6484-4cc0-8ae8-174526211bdb\",\"type\":\"Circle\"},{\"attributes\":{\"axis_label\":\"x[n]\",\"formatter\":{\"id\":\"bd3f2611-5075-45c6-8945-3515dcaa2c9f\",\"type\":\"BasicTickFormatter\"},\"plot\":{\"id\":\"8611efaa-63b3-40e3-9c2e-e71f2e69a087\",\"subtype\":\"Figure\",\"type\":\"Plot\"},\"ticker\":{\"id\":\"fecaec38-3319-4e5c-9172-5bf4018a5a51\",\"type\":\"BasicTicker\"}},\"id\":\"a3619a6e-df4f-4338-a82c-a926b74d9cfc\",\"type\":\"LinearAxis\"},{\"attributes\":{\"line_alpha\":{\"value\":0.1},\"line_color\":{\"value\":\"#1f77b4\"},\"line_width\":{\"value\":2},\"x0\":{\"value\":-11},\"x1\":{\"value\":16},\"y0\":{\"value\":0},\"y1\":{\"value\":0}},\"id\":\"42a255af-ae5e-4d0a-85b2-9f4d434c5f7e\",\"type\":\"Segment\"},{\"attributes\":{\"callback\":null,\"end\":12,\"start\":-2},\"id\":\"6dab7641-8bd4-407a-8576-85ebf7252ac4\",\"type\":\"Range1d\"},{\"attributes\":{\"active_drag\":\"auto\",\"active_scroll\":\"auto\",\"active_tap\":\"auto\",\"logo\":null},\"id\":\"545c910f-406e-4e17-81e1-be2239263b9a\",\"type\":\"Toolbar\"}],\"root_ids\":[\"effbf893-80c1-47e5-9dd3-057b3cc3efb2\"]},\"title\":\"Bokeh Application\",\"version\":\"0.12.2\"}};\n",
       "            var render_items = [{\"docid\":\"3e6475a9-dd02-4c5b-a893-c790151f8c41\",\"elementid\":\"5e1fcf47-ecf6-4e43-afa0-71c84c04257f\",\"modelid\":\"effbf893-80c1-47e5-9dd3-057b3cc3efb2\",\"notebook_comms_target\":\"9ceef500-4036-4171-81e0-7a552c4b8dbe\"}];\n",
       "            \n",
       "            Bokeh.embed.embed_items(docs_json, render_items);\n",
       "        });\n",
       "      },\n",
       "      function(Bokeh) {\n",
       "      }\n",
       "    ];\n",
       "  \n",
       "    function run_inline_js() {\n",
       "      \n",
       "      if ((window.Bokeh !== undefined) || (force === \"1\")) {\n",
       "        for (var i = 0; i < inline_js.length; i++) {\n",
       "          inline_js[i](window.Bokeh);\n",
       "        }if (force === \"1\") {\n",
       "          display_loaded();\n",
       "        }} else if (Date.now() < window._bokeh_timeout) {\n",
       "        setTimeout(run_inline_js, 100);\n",
       "      } else if (!window._bokeh_failed_load) {\n",
       "        console.log(\"Bokeh: BokehJS failed to load within specified timeout.\");\n",
       "        window._bokeh_failed_load = true;\n",
       "      } else if (!force) {\n",
       "        var cell = $(\"#5e1fcf47-ecf6-4e43-afa0-71c84c04257f\").parents('.cell').data().cell;\n",
       "        cell.output_area.append_execute_result(NB_LOAD_WARNING)\n",
       "      }\n",
       "  \n",
       "    }\n",
       "  \n",
       "    if (window._bokeh_is_loading === 0) {\n",
       "      console.log(\"Bokeh: BokehJS loaded, going straight to plotting\");\n",
       "      run_inline_js();\n",
       "    } else {\n",
       "      load_libs(js_urls, function() {\n",
       "        console.log(\"Bokeh: BokehJS plotting callback run at\", now());\n",
       "        run_inline_js();\n",
       "      });\n",
       "    }\n",
       "  }(this));\n",
       "</script>"
      ]
     },
     "metadata": {},
     "output_type": "display_data"
    },
    {
     "data": {
      "text/html": [
       "<p><code>&lt;Bokeh Notebook handle for <strong>In[9]</strong>&gt;</code></p>"
      ],
      "text/plain": [
       "<bokeh.io._CommsHandle at 0x132f2f2beb8>"
      ]
     },
     "execution_count": 9,
     "metadata": {},
     "output_type": "execute_result"
    }
   ],
   "source": [
    "grid = gridplot([[xn_p, None, None],\n",
    "                 [hn_p, hnk_p, yn_p]])\n",
    "\n",
    "show(grid, notebook_handle=True)"
   ]
  },
  {
   "cell_type": "code",
   "execution_count": 10,
   "metadata": {
    "collapsed": false,
    "nbpresent": {
     "id": "0a79834c-a189-4f83-9388-076ac998ea46"
    }
   },
   "outputs": [],
   "source": [
    "interact(update, alpha=(1,2,0.1), n=(-10,15))"
   ]
  }
 ],
 "metadata": {
  "anaconda-cloud": {},
  "kernelspec": {
   "display_name": "Python [default]",
   "language": "python",
   "name": "python3"
  },
  "language_info": {
   "codemirror_mode": {
    "name": "ipython",
    "version": 3
   },
   "file_extension": ".py",
   "mimetype": "text/x-python",
   "name": "python",
   "nbconvert_exporter": "python",
   "pygments_lexer": "ipython3",
   "version": "3.5.2"
  },
  "nbpresent": {
   "slides": {
    "1fd8bb63-b1e5-49da-9db5-9481bdf41e60": {
     "id": "1fd8bb63-b1e5-49da-9db5-9481bdf41e60",
     "prev": null,
     "regions": {
      "21c9370b-85e9-4fcd-be41-a0224eed16b6": {
       "attrs": {
        "height": 0.2,
        "width": 0.4,
        "x": 0.1,
        "y": 0.7
       },
       "content": {
        "cell": "5bf1931f-89f1-4cde-bad1-2b6900381950",
        "part": "source"
       },
       "id": "21c9370b-85e9-4fcd-be41-a0224eed16b6"
      },
      "71c3b065-03b4-4ade-8600-e310de3d7684": {
       "attrs": {
        "height": 0.2,
        "width": 0.4,
        "x": 0.5,
        "y": 0.7
       },
       "content": {
        "cell": "0a79834c-a189-4f83-9388-076ac998ea46",
        "part": "widgets"
       },
       "id": "71c3b065-03b4-4ade-8600-e310de3d7684"
      },
      "77a96c3b-fc00-45c4-8747-824f5d872080": {
       "attrs": {
        "height": 0.6,
        "width": 0.8,
        "x": 0.1,
        "y": 0.1
       },
       "content": {
        "cell": "6e8ea0d7-e635-4105-b218-f688c8d1cc11",
        "part": "outputs"
       },
       "id": "77a96c3b-fc00-45c4-8747-824f5d872080"
      }
     }
    }
   },
   "themes": {}
  },
  "widgets": {
   "state": {
    "f44bd9e4439d4d4196fd50710f873a20": {
     "views": [
      {
       "cell_index": 5
      }
     ]
    }
   },
   "version": "1.2.0"
  }
 },
 "nbformat": 4,
 "nbformat_minor": 1
}
