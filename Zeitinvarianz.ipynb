{
 "cells": [
  {
   "cell_type": "code",
   "execution_count": 1,
   "metadata": {
    "collapsed": false,
    "nbpresent": {
     "id": "105e2433-2b7e-46ea-84fc-b6508afc6136"
    }
   },
   "outputs": [
    {
     "data": {
      "text/html": [
       "\n",
       "    <div class=\"bk-root\">\n",
       "        <a href=\"http://bokeh.pydata.org\" target=\"_blank\" class=\"bk-logo bk-logo-small bk-logo-notebook\"></a>\n",
       "        <span id=\"78de3f6e-33e6-4535-b78d-a93e001eef54\">Loading BokehJS ...</span>\n",
       "    </div>"
      ]
     },
     "metadata": {},
     "output_type": "display_data"
    },
    {
     "data": {
      "application/javascript": [
       "\n",
       "(function(global) {\n",
       "  function now() {\n",
       "    return new Date();\n",
       "  }\n",
       "\n",
       "  var force = \"1\";\n",
       "\n",
       "  if (typeof (window._bokeh_onload_callbacks) === \"undefined\" || force !== \"\") {\n",
       "    window._bokeh_onload_callbacks = [];\n",
       "    window._bokeh_is_loading = undefined;\n",
       "  }\n",
       "\n",
       "\n",
       "  \n",
       "  if (typeof (window._bokeh_timeout) === \"undefined\" || force !== \"\") {\n",
       "    window._bokeh_timeout = Date.now() + 5000;\n",
       "    window._bokeh_failed_load = false;\n",
       "  }\n",
       "\n",
       "  var NB_LOAD_WARNING = {'data': {'text/html':\n",
       "     \"<div style='background-color: #fdd'>\\n\"+\n",
       "     \"<p>\\n\"+\n",
       "     \"BokehJS does not appear to have successfully loaded. If loading BokehJS from CDN, this \\n\"+\n",
       "     \"may be due to a slow or bad network connection. Possible fixes:\\n\"+\n",
       "     \"</p>\\n\"+\n",
       "     \"<ul>\\n\"+\n",
       "     \"<li>re-rerun `output_notebook()` to attempt to load from CDN again, or</li>\\n\"+\n",
       "     \"<li>use INLINE resources instead, as so:</li>\\n\"+\n",
       "     \"</ul>\\n\"+\n",
       "     \"<code>\\n\"+\n",
       "     \"from bokeh.resources import INLINE\\n\"+\n",
       "     \"output_notebook(resources=INLINE)\\n\"+\n",
       "     \"</code>\\n\"+\n",
       "     \"</div>\"}};\n",
       "\n",
       "  function display_loaded() {\n",
       "    if (window.Bokeh !== undefined) {\n",
       "      Bokeh.$(\"#78de3f6e-33e6-4535-b78d-a93e001eef54\").text(\"BokehJS successfully loaded.\");\n",
       "    } else if (Date.now() < window._bokeh_timeout) {\n",
       "      setTimeout(display_loaded, 100)\n",
       "    }\n",
       "  }\n",
       "\n",
       "  function run_callbacks() {\n",
       "    window._bokeh_onload_callbacks.forEach(function(callback) { callback() });\n",
       "    delete window._bokeh_onload_callbacks\n",
       "    console.info(\"Bokeh: all callbacks have finished\");\n",
       "  }\n",
       "\n",
       "  function load_libs(js_urls, callback) {\n",
       "    window._bokeh_onload_callbacks.push(callback);\n",
       "    if (window._bokeh_is_loading > 0) {\n",
       "      console.log(\"Bokeh: BokehJS is being loaded, scheduling callback at\", now());\n",
       "      return null;\n",
       "    }\n",
       "    if (js_urls == null || js_urls.length === 0) {\n",
       "      run_callbacks();\n",
       "      return null;\n",
       "    }\n",
       "    console.log(\"Bokeh: BokehJS not loaded, scheduling load and callback at\", now());\n",
       "    window._bokeh_is_loading = js_urls.length;\n",
       "    for (var i = 0; i < js_urls.length; i++) {\n",
       "      var url = js_urls[i];\n",
       "      var s = document.createElement('script');\n",
       "      s.src = url;\n",
       "      s.async = false;\n",
       "      s.onreadystatechange = s.onload = function() {\n",
       "        window._bokeh_is_loading--;\n",
       "        if (window._bokeh_is_loading === 0) {\n",
       "          console.log(\"Bokeh: all BokehJS libraries loaded\");\n",
       "          run_callbacks()\n",
       "        }\n",
       "      };\n",
       "      s.onerror = function() {\n",
       "        console.warn(\"failed to load library \" + url);\n",
       "      };\n",
       "      console.log(\"Bokeh: injecting script tag for BokehJS library: \", url);\n",
       "      document.getElementsByTagName(\"head\")[0].appendChild(s);\n",
       "    }\n",
       "  };var element = document.getElementById(\"78de3f6e-33e6-4535-b78d-a93e001eef54\");\n",
       "  if (element == null) {\n",
       "    console.log(\"Bokeh: ERROR: autoload.js configured with elementid '78de3f6e-33e6-4535-b78d-a93e001eef54' but no matching script tag was found. \")\n",
       "    return false;\n",
       "  }\n",
       "\n",
       "  var js_urls = ['https://cdn.pydata.org/bokeh/release/bokeh-0.12.2.min.js', 'https://cdn.pydata.org/bokeh/release/bokeh-widgets-0.12.2.min.js', 'https://cdn.pydata.org/bokeh/release/bokeh-compiler-0.12.2.min.js'];\n",
       "\n",
       "  var inline_js = [\n",
       "    function(Bokeh) {\n",
       "      Bokeh.set_log_level(\"info\");\n",
       "    },\n",
       "    \n",
       "    function(Bokeh) {\n",
       "      \n",
       "      Bokeh.$(\"#78de3f6e-33e6-4535-b78d-a93e001eef54\").text(\"BokehJS is loading...\");\n",
       "    },\n",
       "    function(Bokeh) {\n",
       "      console.log(\"Bokeh: injecting CSS: https://cdn.pydata.org/bokeh/release/bokeh-0.12.2.min.css\");\n",
       "      Bokeh.embed.inject_css(\"https://cdn.pydata.org/bokeh/release/bokeh-0.12.2.min.css\");\n",
       "      console.log(\"Bokeh: injecting CSS: https://cdn.pydata.org/bokeh/release/bokeh-widgets-0.12.2.min.css\");\n",
       "      Bokeh.embed.inject_css(\"https://cdn.pydata.org/bokeh/release/bokeh-widgets-0.12.2.min.css\");\n",
       "    }\n",
       "  ];\n",
       "\n",
       "  function run_inline_js() {\n",
       "    \n",
       "    if ((window.Bokeh !== undefined) || (force === \"1\")) {\n",
       "      for (var i = 0; i < inline_js.length; i++) {\n",
       "        inline_js[i](window.Bokeh);\n",
       "      }if (force === \"1\") {\n",
       "        display_loaded();\n",
       "      }} else if (Date.now() < window._bokeh_timeout) {\n",
       "      setTimeout(run_inline_js, 100);\n",
       "    } else if (!window._bokeh_failed_load) {\n",
       "      console.log(\"Bokeh: BokehJS failed to load within specified timeout.\");\n",
       "      window._bokeh_failed_load = true;\n",
       "    } else if (!force) {\n",
       "      var cell = $(\"#78de3f6e-33e6-4535-b78d-a93e001eef54\").parents('.cell').data().cell;\n",
       "      cell.output_area.append_execute_result(NB_LOAD_WARNING)\n",
       "    }\n",
       "\n",
       "  }\n",
       "\n",
       "  if (window._bokeh_is_loading === 0) {\n",
       "    console.log(\"Bokeh: BokehJS loaded, going straight to plotting\");\n",
       "    run_inline_js();\n",
       "  } else {\n",
       "    load_libs(js_urls, function() {\n",
       "      console.log(\"Bokeh: BokehJS plotting callback run at\", now());\n",
       "      run_inline_js();\n",
       "    });\n",
       "  }\n",
       "}(this));"
      ]
     },
     "metadata": {},
     "output_type": "display_data"
    }
   ],
   "source": [
    "from ipywidgets import interact\n",
    "\n",
    "from bokeh.plotting import figure\n",
    "from bokeh.io import push_notebook, show, output_notebook\n",
    "from bokeh.layouts import row\n",
    "from bokeh.models import Range1d\n",
    "\n",
    "output_notebook()"
   ]
  },
  {
   "cell_type": "code",
   "execution_count": 2,
   "metadata": {
    "collapsed": true,
    "nbpresent": {
     "id": "0cfe25b4-7d64-4a81-911e-d00b977504a5"
    }
   },
   "outputs": [],
   "source": [
    "# Globals\n",
    "oo = float(\"inf\")\n",
    "quad_width = 0.02\n",
    "default_plot_size = (450, 300)\n",
    "default_color = \"black\"\n",
    "\n",
    "def delete_toolbar(plot):\n",
    "    # remove the logo and the toolbar\n",
    "    plot.toolbar.logo = None\n",
    "    plot.toolbar_location = None"
   ]
  },
  {
   "cell_type": "markdown",
   "metadata": {
    "nbpresent": {
     "id": "6b49c2ac-cb90-4243-9786-e4d6b5d075f7"
    }
   },
   "source": [
    "# Zeitinvarianz\n",
    "$x[n-n_0] \\rightarrow y[n-n_0]$"
   ]
  },
  {
   "cell_type": "code",
   "execution_count": 3,
   "metadata": {
    "collapsed": false,
    "nbpresent": {
     "id": "540db0e1-612e-436c-b974-4e14c6f45bfe"
    }
   },
   "outputs": [],
   "source": [
    "n = [-2,-1,0,1,2]\n",
    "xn = [1, 2, 2, -1, 3]\n",
    "yn = [x + 1 for x in xn]\n",
    "\n",
    "# plot\n",
    "in_p = figure(width=default_plot_size[0], height=default_plot_size[1], \n",
    "              title=\"Input\", x_axis_label=\"n\", y_axis_label=\"x[n]\",tools=[])\n",
    "delete_toolbar(in_p)\n",
    "out_p = figure(width=default_plot_size[0], height=default_plot_size[1], \n",
    "               title=\"Output\", x_axis_label=\"n\", y_axis_label=\"y[n]\",tools=[])\n",
    "delete_toolbar(out_p)\n",
    "\n",
    "# ranges\n",
    "in_p.x_range = Range1d(-3,3)\n",
    "in_p.y_range = Range1d(-6,6)\n",
    "out_p.x_range = Range1d(-3,3)\n",
    "out_p.y_range = Range1d(-6,6)\n",
    "\n",
    "# axes\n",
    "in_p.segment(x0=min(n)-1, y0=0, x1=max(n)+1, y1=0, line_width = 2,color=\"black\")    # x_axis\n",
    "out_p.segment(x0=min(n)-1, y0=0, x1=max(n)+1, y1=0, line_width = 2,color=\"black\")    # x_axis\n",
    "\n",
    "# input signal\n",
    "in_color = \"blue\"\n",
    "in_quad = in_p.quad(top=xn, bottom=0, left=[i-quad_width for i in n], right=[i+quad_width for i in n], color=in_color)\n",
    "in_cir = in_p.circle(n, xn, size=10, color=in_color, fill_color=\"white\")\n",
    "\n",
    "# output signal\n",
    "out_color = \"red\"\n",
    "out_quad = out_p.quad(top=yn, bottom=0, left=[i-quad_width for i in n], right=[i+quad_width for i in n], color=out_color)\n",
    "out_cir = out_p.circle(n, yn, size=10, color=out_color, fill_color=\"white\")\n",
    "\n",
    "# update\n",
    "def update(n0):\n",
    "    # OLD\n",
    "#     new_xn = [x - n0 for x in xn]\n",
    "#     in_quad.data_source.data['top'] = new_xn\n",
    "#     in_cir.data_source.data['y'] = new_xn\n",
    "    \n",
    "#     new_yn = [y - n0 for y in yn]\n",
    "#     out_quad.data_source.data['top'] = new_yn\n",
    "#     out_cir.data_source.data['y'] = new_yn\n",
    "\n",
    "    # ----------------------------------------\n",
    "    new_n = [i + n0 for i in n]\n",
    "    in_cir.data_source.data['x'] = new_n\n",
    "    in_quad.data_source.data['left'] =  [i-quad_width for i in new_n]\n",
    "    in_quad.data_source.data['right'] = [i+quad_width for i in new_n]\n",
    "    \n",
    "    out_cir.data_source.data['x'] = new_n\n",
    "    out_quad.data_source.data['left'] =  [i-quad_width for i in new_n]\n",
    "    out_quad.data_source.data['right'] = [i+quad_width for i in new_n]\n",
    "    \n",
    "    push_notebook()"
   ]
  },
  {
   "cell_type": "markdown",
   "metadata": {
    "nbpresent": {
     "id": "98a486fa-4505-4b78-a5e6-39527dfa341f"
    }
   },
   "source": [
    "In diesem Beispiel:\n",
    "\n",
    "$x[-2] = 1 ,\\quad x[-1] = 2 ,\\quad x[0] = 2 ,\\quad x[1] = -1 ,\\quad x[2] = 3 ,\\quad x[n] = 0 \\quad \\forall n \\notin \\{-2,\\dots,2\\}$\n",
    "\n",
    "$y[n] = x[n] + 1$"
   ]
  },
  {
   "cell_type": "code",
   "execution_count": 4,
   "metadata": {
    "collapsed": false,
    "nbpresent": {
     "id": "96c96bcc-30d3-40c2-9014-cb05f3334c23"
    }
   },
   "outputs": [
    {
     "data": {
      "text/html": [
       "\n",
       "\n",
       "    <div class=\"bk-root\">\n",
       "        <div class=\"plotdiv\" id=\"2d2cd5e8-a9cf-4bb3-a251-c7e5ef6cebae\"></div>\n",
       "    </div>\n",
       "<script type=\"text/javascript\">\n",
       "  \n",
       "  (function(global) {\n",
       "    function now() {\n",
       "      return new Date();\n",
       "    }\n",
       "  \n",
       "    var force = \"\";\n",
       "  \n",
       "    if (typeof (window._bokeh_onload_callbacks) === \"undefined\" || force !== \"\") {\n",
       "      window._bokeh_onload_callbacks = [];\n",
       "      window._bokeh_is_loading = undefined;\n",
       "    }\n",
       "  \n",
       "  \n",
       "    \n",
       "    if (typeof (window._bokeh_timeout) === \"undefined\" || force !== \"\") {\n",
       "      window._bokeh_timeout = Date.now() + 0;\n",
       "      window._bokeh_failed_load = false;\n",
       "    }\n",
       "  \n",
       "    var NB_LOAD_WARNING = {'data': {'text/html':\n",
       "       \"<div style='background-color: #fdd'>\\n\"+\n",
       "       \"<p>\\n\"+\n",
       "       \"BokehJS does not appear to have successfully loaded. If loading BokehJS from CDN, this \\n\"+\n",
       "       \"may be due to a slow or bad network connection. Possible fixes:\\n\"+\n",
       "       \"</p>\\n\"+\n",
       "       \"<ul>\\n\"+\n",
       "       \"<li>re-rerun `output_notebook()` to attempt to load from CDN again, or</li>\\n\"+\n",
       "       \"<li>use INLINE resources instead, as so:</li>\\n\"+\n",
       "       \"</ul>\\n\"+\n",
       "       \"<code>\\n\"+\n",
       "       \"from bokeh.resources import INLINE\\n\"+\n",
       "       \"output_notebook(resources=INLINE)\\n\"+\n",
       "       \"</code>\\n\"+\n",
       "       \"</div>\"}};\n",
       "  \n",
       "    function display_loaded() {\n",
       "      if (window.Bokeh !== undefined) {\n",
       "        Bokeh.$(\"#2d2cd5e8-a9cf-4bb3-a251-c7e5ef6cebae\").text(\"BokehJS successfully loaded.\");\n",
       "      } else if (Date.now() < window._bokeh_timeout) {\n",
       "        setTimeout(display_loaded, 100)\n",
       "      }\n",
       "    }if ((window.Jupyter !== undefined) && Jupyter.notebook.kernel) {\n",
       "      comm_manager = Jupyter.notebook.kernel.comm_manager\n",
       "      comm_manager.register_target(\"923e02b6-0388-47df-969e-96bf074e4c53\", function () {});\n",
       "    }\n",
       "  \n",
       "    function run_callbacks() {\n",
       "      window._bokeh_onload_callbacks.forEach(function(callback) { callback() });\n",
       "      delete window._bokeh_onload_callbacks\n",
       "      console.info(\"Bokeh: all callbacks have finished\");\n",
       "    }\n",
       "  \n",
       "    function load_libs(js_urls, callback) {\n",
       "      window._bokeh_onload_callbacks.push(callback);\n",
       "      if (window._bokeh_is_loading > 0) {\n",
       "        console.log(\"Bokeh: BokehJS is being loaded, scheduling callback at\", now());\n",
       "        return null;\n",
       "      }\n",
       "      if (js_urls == null || js_urls.length === 0) {\n",
       "        run_callbacks();\n",
       "        return null;\n",
       "      }\n",
       "      console.log(\"Bokeh: BokehJS not loaded, scheduling load and callback at\", now());\n",
       "      window._bokeh_is_loading = js_urls.length;\n",
       "      for (var i = 0; i < js_urls.length; i++) {\n",
       "        var url = js_urls[i];\n",
       "        var s = document.createElement('script');\n",
       "        s.src = url;\n",
       "        s.async = false;\n",
       "        s.onreadystatechange = s.onload = function() {\n",
       "          window._bokeh_is_loading--;\n",
       "          if (window._bokeh_is_loading === 0) {\n",
       "            console.log(\"Bokeh: all BokehJS libraries loaded\");\n",
       "            run_callbacks()\n",
       "          }\n",
       "        };\n",
       "        s.onerror = function() {\n",
       "          console.warn(\"failed to load library \" + url);\n",
       "        };\n",
       "        console.log(\"Bokeh: injecting script tag for BokehJS library: \", url);\n",
       "        document.getElementsByTagName(\"head\")[0].appendChild(s);\n",
       "      }\n",
       "    };var element = document.getElementById(\"2d2cd5e8-a9cf-4bb3-a251-c7e5ef6cebae\");\n",
       "    if (element == null) {\n",
       "      console.log(\"Bokeh: ERROR: autoload.js configured with elementid '2d2cd5e8-a9cf-4bb3-a251-c7e5ef6cebae' but no matching script tag was found. \")\n",
       "      return false;\n",
       "    }\n",
       "  \n",
       "    var js_urls = [];\n",
       "  \n",
       "    var inline_js = [\n",
       "      function(Bokeh) {\n",
       "        Bokeh.$(function() {\n",
       "            var docs_json = {\"47c756e9-fda3-40f6-a581-eaf9c7b03904\":{\"roots\":{\"references\":[{\"attributes\":{\"axis_label\":\"x[n]\",\"formatter\":{\"id\":\"eded191d-fc48-42a0-a284-9fc55df60792\",\"type\":\"BasicTickFormatter\"},\"plot\":{\"id\":\"daf782c0-2e4a-4017-bc5a-893bf98b35ce\",\"subtype\":\"Figure\",\"type\":\"Plot\"},\"ticker\":{\"id\":\"e717b47e-7a0f-4b7a-b5a9-758d4128cfad\",\"type\":\"BasicTicker\"}},\"id\":\"0ee69420-a102-4bcc-b5c1-af75985a2642\",\"type\":\"LinearAxis\"},{\"attributes\":{\"below\":[{\"id\":\"c20643ce-2cff-4693-a387-521aaa0eb071\",\"type\":\"LinearAxis\"}],\"left\":[{\"id\":\"a8437cc8-a059-4bd1-8ee8-9503a0a0508d\",\"type\":\"LinearAxis\"}],\"plot_height\":300,\"plot_width\":450,\"renderers\":[{\"id\":\"c20643ce-2cff-4693-a387-521aaa0eb071\",\"type\":\"LinearAxis\"},{\"id\":\"86016784-c437-419a-8095-877e92473a6a\",\"type\":\"Grid\"},{\"id\":\"a8437cc8-a059-4bd1-8ee8-9503a0a0508d\",\"type\":\"LinearAxis\"},{\"id\":\"6fa83532-de53-45e5-ad89-6b35024e9065\",\"type\":\"Grid\"},{\"id\":\"d5bf2a8b-f895-45df-85a6-0647513d7059\",\"type\":\"GlyphRenderer\"},{\"id\":\"617118d1-6b2b-423d-8a8e-568c59451b6e\",\"type\":\"GlyphRenderer\"},{\"id\":\"618596f7-96c8-41d4-9d23-e747dc3bfe4a\",\"type\":\"GlyphRenderer\"}],\"title\":{\"id\":\"7d726499-d961-465e-999e-b58b3c37cb4c\",\"type\":\"Title\"},\"tool_events\":{\"id\":\"c81db3a8-f5ed-49a1-9174-b8901c387113\",\"type\":\"ToolEvents\"},\"toolbar\":{\"id\":\"a274d63e-52cc-401b-bc5d-e5f0b173a44a\",\"type\":\"Toolbar\"},\"toolbar_location\":null,\"x_range\":{\"id\":\"644f77a2-7a80-4276-97e9-da26a6fc2df3\",\"type\":\"Range1d\"},\"y_range\":{\"id\":\"dc43a6c6-966a-4681-b1ba-24206372d209\",\"type\":\"Range1d\"}},\"id\":\"b48e42aa-742a-4a1d-a41b-70a73ea5c7ea\",\"subtype\":\"Figure\",\"type\":\"Plot\"},{\"attributes\":{\"bottom\":{\"value\":0},\"fill_color\":{\"value\":\"blue\"},\"left\":{\"field\":\"left\"},\"line_color\":{\"value\":\"blue\"},\"right\":{\"field\":\"right\"},\"top\":{\"field\":\"top\"}},\"id\":\"ac884ddf-e6af-4d3c-bef2-78823efb0eb4\",\"type\":\"Quad\"},{\"attributes\":{\"callback\":null,\"column_names\":[\"x\",\"y\"],\"data\":{\"x\":[-2,-1,0,1,2],\"y\":[2,3,3,0,4]}},\"id\":\"01a5b07e-b655-45fe-8db6-8e32b3d5489a\",\"type\":\"ColumnDataSource\"},{\"attributes\":{\"data_source\":{\"id\":\"9ba73096-8def-4a01-b078-6268d3825305\",\"type\":\"ColumnDataSource\"},\"glyph\":{\"id\":\"e77d1245-0f43-4254-a736-0af3336efba5\",\"type\":\"Segment\"},\"hover_glyph\":null,\"nonselection_glyph\":{\"id\":\"c1d17e05-d1a2-4f35-8995-f9fe357f51b0\",\"type\":\"Segment\"},\"selection_glyph\":null},\"id\":\"65e5c125-cf56-4202-b132-e32d6e1c86f0\",\"type\":\"GlyphRenderer\"},{\"attributes\":{},\"id\":\"e9c2bac3-13ac-4b8d-aa73-4528a23f7141\",\"type\":\"BasicTicker\"},{\"attributes\":{\"plot\":null,\"text\":\"Input\"},\"id\":\"55c8f9d4-2178-4f29-b1d1-f4eb618f3035\",\"type\":\"Title\"},{\"attributes\":{\"dimension\":1,\"plot\":{\"id\":\"b48e42aa-742a-4a1d-a41b-70a73ea5c7ea\",\"subtype\":\"Figure\",\"type\":\"Plot\"},\"ticker\":{\"id\":\"7eb89145-1798-42ad-b9c2-d695677e5d09\",\"type\":\"BasicTicker\"}},\"id\":\"6fa83532-de53-45e5-ad89-6b35024e9065\",\"type\":\"Grid\"},{\"attributes\":{\"callback\":null,\"column_names\":[\"x\",\"y\"],\"data\":{\"x\":[-2,-1,0,1,2],\"y\":[1,2,2,-1,3]}},\"id\":\"7153c325-7a5d-4293-96d4-0c9ef70dd800\",\"type\":\"ColumnDataSource\"},{\"attributes\":{\"active_drag\":\"auto\",\"active_scroll\":\"auto\",\"active_tap\":\"auto\",\"logo\":null},\"id\":\"089ab716-d0f4-4a87-8b41-8e0ccae762d6\",\"type\":\"Toolbar\"},{\"attributes\":{\"axis_label\":\"n\",\"formatter\":{\"id\":\"083a4b42-2057-41cc-b988-371dc755b0e3\",\"type\":\"BasicTickFormatter\"},\"plot\":{\"id\":\"daf782c0-2e4a-4017-bc5a-893bf98b35ce\",\"subtype\":\"Figure\",\"type\":\"Plot\"},\"ticker\":{\"id\":\"cdcc042f-fbd5-4ee5-add9-94dff4bdf2e5\",\"type\":\"BasicTicker\"}},\"id\":\"e694692b-c7eb-4574-9e7d-bf794fe68ec1\",\"type\":\"LinearAxis\"},{\"attributes\":{\"line_width\":{\"value\":2},\"x0\":{\"value\":-3},\"x1\":{\"value\":3},\"y0\":{\"value\":0},\"y1\":{\"value\":0}},\"id\":\"773f61c8-da8a-4791-bce9-86ffddac0490\",\"type\":\"Segment\"},{\"attributes\":{\"active_drag\":\"auto\",\"active_scroll\":\"auto\",\"active_tap\":\"auto\",\"logo\":null},\"id\":\"a274d63e-52cc-401b-bc5d-e5f0b173a44a\",\"type\":\"Toolbar\"},{\"attributes\":{\"callback\":null,\"end\":3,\"start\":-3},\"id\":\"644f77a2-7a80-4276-97e9-da26a6fc2df3\",\"type\":\"Range1d\"},{\"attributes\":{\"callback\":null},\"id\":\"9a4d900a-9ec1-4959-b4dd-314f52ff1dca\",\"type\":\"ColumnDataSource\"},{\"attributes\":{\"dimension\":1,\"plot\":{\"id\":\"daf782c0-2e4a-4017-bc5a-893bf98b35ce\",\"subtype\":\"Figure\",\"type\":\"Plot\"},\"ticker\":{\"id\":\"e717b47e-7a0f-4b7a-b5a9-758d4128cfad\",\"type\":\"BasicTicker\"}},\"id\":\"e0f7b166-af68-4d3c-ae4b-b3f57910a1ac\",\"type\":\"Grid\"},{\"attributes\":{\"bottom\":{\"value\":0},\"fill_color\":{\"value\":\"red\"},\"left\":{\"field\":\"left\"},\"line_color\":{\"value\":\"red\"},\"right\":{\"field\":\"right\"},\"top\":{\"field\":\"top\"}},\"id\":\"e4ddfa32-83bb-420c-af54-efa6a7b863f8\",\"type\":\"Quad\"},{\"attributes\":{\"callback\":null,\"end\":3,\"start\":-3},\"id\":\"babfd85a-11a6-44d3-8965-afd591420e49\",\"type\":\"Range1d\"},{\"attributes\":{\"data_source\":{\"id\":\"9a4d900a-9ec1-4959-b4dd-314f52ff1dca\",\"type\":\"ColumnDataSource\"},\"glyph\":{\"id\":\"773f61c8-da8a-4791-bce9-86ffddac0490\",\"type\":\"Segment\"},\"hover_glyph\":null,\"nonselection_glyph\":{\"id\":\"0e71f246-51d9-4a85-8b9c-87bbd8961639\",\"type\":\"Segment\"},\"selection_glyph\":null},\"id\":\"d5bf2a8b-f895-45df-85a6-0647513d7059\",\"type\":\"GlyphRenderer\"},{\"attributes\":{\"fill_color\":{\"value\":\"white\"},\"line_color\":{\"value\":\"blue\"},\"size\":{\"units\":\"screen\",\"value\":10},\"x\":{\"field\":\"x\"},\"y\":{\"field\":\"y\"}},\"id\":\"8d9fca05-9718-49e4-ad0f-b10de3433292\",\"type\":\"Circle\"},{\"attributes\":{},\"id\":\"8bec9fac-1705-4b81-9e6e-1a8d05ae8d4c\",\"type\":\"BasicTickFormatter\"},{\"attributes\":{\"bottom\":{\"value\":0},\"fill_alpha\":{\"value\":0.1},\"fill_color\":{\"value\":\"#1f77b4\"},\"left\":{\"field\":\"left\"},\"line_alpha\":{\"value\":0.1},\"line_color\":{\"value\":\"#1f77b4\"},\"right\":{\"field\":\"right\"},\"top\":{\"field\":\"top\"}},\"id\":\"e0bd21ea-faed-4fda-8245-b9fa7b237aac\",\"type\":\"Quad\"},{\"attributes\":{},\"id\":\"c81db3a8-f5ed-49a1-9174-b8901c387113\",\"type\":\"ToolEvents\"},{\"attributes\":{\"fill_color\":{\"value\":\"white\"},\"line_color\":{\"value\":\"red\"},\"size\":{\"units\":\"screen\",\"value\":10},\"x\":{\"field\":\"x\"},\"y\":{\"field\":\"y\"}},\"id\":\"a08617bf-d884-490b-b690-4b3d131bcd48\",\"type\":\"Circle\"},{\"attributes\":{\"bottom\":{\"value\":0},\"fill_alpha\":{\"value\":0.1},\"fill_color\":{\"value\":\"#1f77b4\"},\"left\":{\"field\":\"left\"},\"line_alpha\":{\"value\":0.1},\"line_color\":{\"value\":\"#1f77b4\"},\"right\":{\"field\":\"right\"},\"top\":{\"field\":\"top\"}},\"id\":\"0c46fdf0-a7ae-45bd-bc98-0cd3850c7ade\",\"type\":\"Quad\"},{\"attributes\":{\"callback\":null},\"id\":\"9ba73096-8def-4a01-b078-6268d3825305\",\"type\":\"ColumnDataSource\"},{\"attributes\":{\"line_alpha\":{\"value\":0.1},\"line_color\":{\"value\":\"#1f77b4\"},\"line_width\":{\"value\":2},\"x0\":{\"value\":-3},\"x1\":{\"value\":3},\"y0\":{\"value\":0},\"y1\":{\"value\":0}},\"id\":\"0e71f246-51d9-4a85-8b9c-87bbd8961639\",\"type\":\"Segment\"},{\"attributes\":{\"plot\":{\"id\":\"b48e42aa-742a-4a1d-a41b-70a73ea5c7ea\",\"subtype\":\"Figure\",\"type\":\"Plot\"},\"ticker\":{\"id\":\"e9c2bac3-13ac-4b8d-aa73-4528a23f7141\",\"type\":\"BasicTicker\"}},\"id\":\"86016784-c437-419a-8095-877e92473a6a\",\"type\":\"Grid\"},{\"attributes\":{\"callback\":null,\"end\":6,\"start\":-6},\"id\":\"dc43a6c6-966a-4681-b1ba-24206372d209\",\"type\":\"Range1d\"},{\"attributes\":{\"plot\":null,\"text\":\"Output\"},\"id\":\"7d726499-d961-465e-999e-b58b3c37cb4c\",\"type\":\"Title\"},{\"attributes\":{\"callback\":null,\"column_names\":[\"top\",\"right\",\"left\"],\"data\":{\"left\":[-2.02,-1.02,-0.02,0.98,1.98],\"right\":[-1.98,-0.98,0.02,1.02,2.02],\"top\":[2,3,3,0,4]}},\"id\":\"a61af6b6-a209-45a7-a58e-75265c2ed813\",\"type\":\"ColumnDataSource\"},{\"attributes\":{\"fill_alpha\":{\"value\":0.1},\"fill_color\":{\"value\":\"#1f77b4\"},\"line_alpha\":{\"value\":0.1},\"line_color\":{\"value\":\"#1f77b4\"},\"size\":{\"units\":\"screen\",\"value\":10},\"x\":{\"field\":\"x\"},\"y\":{\"field\":\"y\"}},\"id\":\"8f2c8b49-20e4-47b2-a225-055a81c3afe2\",\"type\":\"Circle\"},{\"attributes\":{\"axis_label\":\"n\",\"formatter\":{\"id\":\"2419b23d-c52a-45c4-9c22-ae60c2b57d79\",\"type\":\"BasicTickFormatter\"},\"plot\":{\"id\":\"b48e42aa-742a-4a1d-a41b-70a73ea5c7ea\",\"subtype\":\"Figure\",\"type\":\"Plot\"},\"ticker\":{\"id\":\"e9c2bac3-13ac-4b8d-aa73-4528a23f7141\",\"type\":\"BasicTicker\"}},\"id\":\"c20643ce-2cff-4693-a387-521aaa0eb071\",\"type\":\"LinearAxis\"},{\"attributes\":{\"callback\":null,\"end\":6,\"start\":-6},\"id\":\"3a600f03-96e2-463c-9954-9452537a2d86\",\"type\":\"Range1d\"},{\"attributes\":{},\"id\":\"4c4cc624-eff0-4ff9-a78a-75254e0599f3\",\"type\":\"ToolEvents\"},{\"attributes\":{\"axis_label\":\"y[n]\",\"formatter\":{\"id\":\"8bec9fac-1705-4b81-9e6e-1a8d05ae8d4c\",\"type\":\"BasicTickFormatter\"},\"plot\":{\"id\":\"b48e42aa-742a-4a1d-a41b-70a73ea5c7ea\",\"subtype\":\"Figure\",\"type\":\"Plot\"},\"ticker\":{\"id\":\"7eb89145-1798-42ad-b9c2-d695677e5d09\",\"type\":\"BasicTicker\"}},\"id\":\"a8437cc8-a059-4bd1-8ee8-9503a0a0508d\",\"type\":\"LinearAxis\"},{\"attributes\":{\"below\":[{\"id\":\"e694692b-c7eb-4574-9e7d-bf794fe68ec1\",\"type\":\"LinearAxis\"}],\"left\":[{\"id\":\"0ee69420-a102-4bcc-b5c1-af75985a2642\",\"type\":\"LinearAxis\"}],\"plot_height\":300,\"plot_width\":450,\"renderers\":[{\"id\":\"e694692b-c7eb-4574-9e7d-bf794fe68ec1\",\"type\":\"LinearAxis\"},{\"id\":\"b5805a26-f7c2-459a-8f27-ce1297f3d98f\",\"type\":\"Grid\"},{\"id\":\"0ee69420-a102-4bcc-b5c1-af75985a2642\",\"type\":\"LinearAxis\"},{\"id\":\"e0f7b166-af68-4d3c-ae4b-b3f57910a1ac\",\"type\":\"Grid\"},{\"id\":\"65e5c125-cf56-4202-b132-e32d6e1c86f0\",\"type\":\"GlyphRenderer\"},{\"id\":\"2876ae45-9c40-4864-9dfc-2b34a9fd8a9f\",\"type\":\"GlyphRenderer\"},{\"id\":\"706ea943-6230-41c3-8d60-1cc707795bf7\",\"type\":\"GlyphRenderer\"}],\"title\":{\"id\":\"55c8f9d4-2178-4f29-b1d1-f4eb618f3035\",\"type\":\"Title\"},\"tool_events\":{\"id\":\"4c4cc624-eff0-4ff9-a78a-75254e0599f3\",\"type\":\"ToolEvents\"},\"toolbar\":{\"id\":\"089ab716-d0f4-4a87-8b41-8e0ccae762d6\",\"type\":\"Toolbar\"},\"toolbar_location\":null,\"x_range\":{\"id\":\"babfd85a-11a6-44d3-8965-afd591420e49\",\"type\":\"Range1d\"},\"y_range\":{\"id\":\"3a600f03-96e2-463c-9954-9452537a2d86\",\"type\":\"Range1d\"}},\"id\":\"daf782c0-2e4a-4017-bc5a-893bf98b35ce\",\"subtype\":\"Figure\",\"type\":\"Plot\"},{\"attributes\":{\"callback\":null,\"column_names\":[\"top\",\"right\",\"left\"],\"data\":{\"left\":[-2.02,-1.02,-0.02,0.98,1.98],\"right\":[-1.98,-0.98,0.02,1.02,2.02],\"top\":[1,2,2,-1,3]}},\"id\":\"628bc9e5-3750-49d8-ac01-5ebe67fb1456\",\"type\":\"ColumnDataSource\"},{\"attributes\":{},\"id\":\"083a4b42-2057-41cc-b988-371dc755b0e3\",\"type\":\"BasicTickFormatter\"},{\"attributes\":{\"data_source\":{\"id\":\"628bc9e5-3750-49d8-ac01-5ebe67fb1456\",\"type\":\"ColumnDataSource\"},\"glyph\":{\"id\":\"ac884ddf-e6af-4d3c-bef2-78823efb0eb4\",\"type\":\"Quad\"},\"hover_glyph\":null,\"nonselection_glyph\":{\"id\":\"e0bd21ea-faed-4fda-8245-b9fa7b237aac\",\"type\":\"Quad\"},\"selection_glyph\":null},\"id\":\"2876ae45-9c40-4864-9dfc-2b34a9fd8a9f\",\"type\":\"GlyphRenderer\"},{\"attributes\":{},\"id\":\"7eb89145-1798-42ad-b9c2-d695677e5d09\",\"type\":\"BasicTicker\"},{\"attributes\":{},\"id\":\"2419b23d-c52a-45c4-9c22-ae60c2b57d79\",\"type\":\"BasicTickFormatter\"},{\"attributes\":{\"fill_alpha\":{\"value\":0.1},\"fill_color\":{\"value\":\"#1f77b4\"},\"line_alpha\":{\"value\":0.1},\"line_color\":{\"value\":\"#1f77b4\"},\"size\":{\"units\":\"screen\",\"value\":10},\"x\":{\"field\":\"x\"},\"y\":{\"field\":\"y\"}},\"id\":\"dcd8d6e1-379b-4a26-bcba-3285863e4706\",\"type\":\"Circle\"},{\"attributes\":{\"line_alpha\":{\"value\":0.1},\"line_color\":{\"value\":\"#1f77b4\"},\"line_width\":{\"value\":2},\"x0\":{\"value\":-3},\"x1\":{\"value\":3},\"y0\":{\"value\":0},\"y1\":{\"value\":0}},\"id\":\"c1d17e05-d1a2-4f35-8995-f9fe357f51b0\",\"type\":\"Segment\"},{\"attributes\":{},\"id\":\"cdcc042f-fbd5-4ee5-add9-94dff4bdf2e5\",\"type\":\"BasicTicker\"},{\"attributes\":{\"plot\":{\"id\":\"daf782c0-2e4a-4017-bc5a-893bf98b35ce\",\"subtype\":\"Figure\",\"type\":\"Plot\"},\"ticker\":{\"id\":\"cdcc042f-fbd5-4ee5-add9-94dff4bdf2e5\",\"type\":\"BasicTicker\"}},\"id\":\"b5805a26-f7c2-459a-8f27-ce1297f3d98f\",\"type\":\"Grid\"},{\"attributes\":{\"data_source\":{\"id\":\"7153c325-7a5d-4293-96d4-0c9ef70dd800\",\"type\":\"ColumnDataSource\"},\"glyph\":{\"id\":\"8d9fca05-9718-49e4-ad0f-b10de3433292\",\"type\":\"Circle\"},\"hover_glyph\":null,\"nonselection_glyph\":{\"id\":\"8f2c8b49-20e4-47b2-a225-055a81c3afe2\",\"type\":\"Circle\"},\"selection_glyph\":null},\"id\":\"706ea943-6230-41c3-8d60-1cc707795bf7\",\"type\":\"GlyphRenderer\"},{\"attributes\":{\"data_source\":{\"id\":\"01a5b07e-b655-45fe-8db6-8e32b3d5489a\",\"type\":\"ColumnDataSource\"},\"glyph\":{\"id\":\"a08617bf-d884-490b-b690-4b3d131bcd48\",\"type\":\"Circle\"},\"hover_glyph\":null,\"nonselection_glyph\":{\"id\":\"dcd8d6e1-379b-4a26-bcba-3285863e4706\",\"type\":\"Circle\"},\"selection_glyph\":null},\"id\":\"618596f7-96c8-41d4-9d23-e747dc3bfe4a\",\"type\":\"GlyphRenderer\"},{\"attributes\":{},\"id\":\"eded191d-fc48-42a0-a284-9fc55df60792\",\"type\":\"BasicTickFormatter\"},{\"attributes\":{},\"id\":\"e717b47e-7a0f-4b7a-b5a9-758d4128cfad\",\"type\":\"BasicTicker\"},{\"attributes\":{\"children\":[{\"id\":\"daf782c0-2e4a-4017-bc5a-893bf98b35ce\",\"subtype\":\"Figure\",\"type\":\"Plot\"},{\"id\":\"b48e42aa-742a-4a1d-a41b-70a73ea5c7ea\",\"subtype\":\"Figure\",\"type\":\"Plot\"}]},\"id\":\"8bb83b17-889a-432c-bfe3-96927c651719\",\"type\":\"Row\"},{\"attributes\":{\"line_width\":{\"value\":2},\"x0\":{\"value\":-3},\"x1\":{\"value\":3},\"y0\":{\"value\":0},\"y1\":{\"value\":0}},\"id\":\"e77d1245-0f43-4254-a736-0af3336efba5\",\"type\":\"Segment\"},{\"attributes\":{\"data_source\":{\"id\":\"a61af6b6-a209-45a7-a58e-75265c2ed813\",\"type\":\"ColumnDataSource\"},\"glyph\":{\"id\":\"e4ddfa32-83bb-420c-af54-efa6a7b863f8\",\"type\":\"Quad\"},\"hover_glyph\":null,\"nonselection_glyph\":{\"id\":\"0c46fdf0-a7ae-45bd-bc98-0cd3850c7ade\",\"type\":\"Quad\"},\"selection_glyph\":null},\"id\":\"617118d1-6b2b-423d-8a8e-568c59451b6e\",\"type\":\"GlyphRenderer\"}],\"root_ids\":[\"8bb83b17-889a-432c-bfe3-96927c651719\"]},\"title\":\"Bokeh Application\",\"version\":\"0.12.2\"}};\n",
       "            var render_items = [{\"docid\":\"47c756e9-fda3-40f6-a581-eaf9c7b03904\",\"elementid\":\"2d2cd5e8-a9cf-4bb3-a251-c7e5ef6cebae\",\"modelid\":\"8bb83b17-889a-432c-bfe3-96927c651719\",\"notebook_comms_target\":\"923e02b6-0388-47df-969e-96bf074e4c53\"}];\n",
       "            \n",
       "            Bokeh.embed.embed_items(docs_json, render_items);\n",
       "        });\n",
       "      },\n",
       "      function(Bokeh) {\n",
       "      }\n",
       "    ];\n",
       "  \n",
       "    function run_inline_js() {\n",
       "      \n",
       "      if ((window.Bokeh !== undefined) || (force === \"1\")) {\n",
       "        for (var i = 0; i < inline_js.length; i++) {\n",
       "          inline_js[i](window.Bokeh);\n",
       "        }if (force === \"1\") {\n",
       "          display_loaded();\n",
       "        }} else if (Date.now() < window._bokeh_timeout) {\n",
       "        setTimeout(run_inline_js, 100);\n",
       "      } else if (!window._bokeh_failed_load) {\n",
       "        console.log(\"Bokeh: BokehJS failed to load within specified timeout.\");\n",
       "        window._bokeh_failed_load = true;\n",
       "      } else if (!force) {\n",
       "        var cell = $(\"#2d2cd5e8-a9cf-4bb3-a251-c7e5ef6cebae\").parents('.cell').data().cell;\n",
       "        cell.output_area.append_execute_result(NB_LOAD_WARNING)\n",
       "      }\n",
       "  \n",
       "    }\n",
       "  \n",
       "    if (window._bokeh_is_loading === 0) {\n",
       "      console.log(\"Bokeh: BokehJS loaded, going straight to plotting\");\n",
       "      run_inline_js();\n",
       "    } else {\n",
       "      load_libs(js_urls, function() {\n",
       "        console.log(\"Bokeh: BokehJS plotting callback run at\", now());\n",
       "        run_inline_js();\n",
       "      });\n",
       "    }\n",
       "  }(this));\n",
       "</script>"
      ]
     },
     "metadata": {},
     "output_type": "display_data"
    },
    {
     "data": {
      "text/html": [
       "<p><code>&lt;Bokeh Notebook handle for <strong>In[5]</strong>&gt;</code></p>"
      ],
      "text/plain": [
       "<bokeh.io._CommsHandle at 0x16e9c0ea828>"
      ]
     },
     "execution_count": 4,
     "metadata": {},
     "output_type": "execute_result"
    }
   ],
   "source": [
    "show(row(in_p, out_p), notebook_handle=True) "
   ]
  },
  {
   "cell_type": "code",
   "execution_count": 5,
   "metadata": {
    "collapsed": false,
    "nbpresent": {
     "id": "2f26dd85-86ea-428d-b842-cdfcc1fcd085"
    }
   },
   "outputs": [],
   "source": [
    "interact(update, n0=(-5,5))"
   ]
  }
 ],
 "metadata": {
  "anaconda-cloud": {},
  "kernelspec": {
   "display_name": "Python [default]",
   "language": "python",
   "name": "python3"
  },
  "language_info": {
   "codemirror_mode": {
    "name": "ipython",
    "version": 3
   },
   "file_extension": ".py",
   "mimetype": "text/x-python",
   "name": "python",
   "nbconvert_exporter": "python",
   "pygments_lexer": "ipython3",
   "version": "3.5.2"
  },
  "nbpresent": {
   "slides": {
    "3dd2825c-00f9-4ead-b432-6c9c0fee131d": {
     "id": "3dd2825c-00f9-4ead-b432-6c9c0fee131d",
     "prev": null,
     "regions": {
      "72e8fae6-4561-4206-b233-f07c830b06fb": {
       "attrs": {
        "height": 0.2,
        "width": 0.4,
        "x": 0.5,
        "y": 0.7
       },
       "content": {
        "cell": "2f26dd85-86ea-428d-b842-cdfcc1fcd085",
        "part": "widgets"
       },
       "id": "72e8fae6-4561-4206-b233-f07c830b06fb"
      },
      "80ab32d9-5be6-4b33-a186-885029106534": {
       "attrs": {
        "height": 0.2,
        "width": 0.4,
        "x": 0.1,
        "y": 0.7
       },
       "content": {
        "cell": "6b49c2ac-cb90-4243-9786-e4d6b5d075f7",
        "part": "source"
       },
       "id": "80ab32d9-5be6-4b33-a186-885029106534"
      },
      "c5aed336-3c2c-4541-b21e-93d75d141a13": {
       "attrs": {
        "height": 0.6,
        "width": 0.8,
        "x": 0.1,
        "y": 0.1
       },
       "content": {
        "cell": "96c96bcc-30d3-40c2-9014-cb05f3334c23",
        "part": "outputs"
       },
       "id": "c5aed336-3c2c-4541-b21e-93d75d141a13"
      }
     }
    }
   },
   "themes": {}
  },
  "widgets": {
   "state": {
    "82a7beb98ce942bdb7c1e53056a3a95e": {
     "views": [
      {
       "cell_index": 6
      }
     ]
    }
   },
   "version": "1.2.0"
  }
 },
 "nbformat": 4,
 "nbformat_minor": 0
}
