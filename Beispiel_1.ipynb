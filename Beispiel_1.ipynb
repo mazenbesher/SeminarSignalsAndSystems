{
 "cells": [
  {
   "cell_type": "code",
   "execution_count": 1,
   "metadata": {
    "collapsed": false,
    "nbpresent": {
     "id": "e0735e51-9633-41ef-ac69-c04e54f37f50"
    }
   },
   "outputs": [
    {
     "data": {
      "text/html": [
       "\n",
       "    <div class=\"bk-root\">\n",
       "        <a href=\"http://bokeh.pydata.org\" target=\"_blank\" class=\"bk-logo bk-logo-small bk-logo-notebook\"></a>\n",
       "        <span id=\"45f08ec5-8749-4135-a809-c1e044ccc2d3\">Loading BokehJS ...</span>\n",
       "    </div>"
      ]
     },
     "metadata": {},
     "output_type": "display_data"
    },
    {
     "data": {
      "application/javascript": [
       "\n",
       "(function(global) {\n",
       "  function now() {\n",
       "    return new Date();\n",
       "  }\n",
       "\n",
       "  var force = \"1\";\n",
       "\n",
       "  if (typeof (window._bokeh_onload_callbacks) === \"undefined\" || force !== \"\") {\n",
       "    window._bokeh_onload_callbacks = [];\n",
       "    window._bokeh_is_loading = undefined;\n",
       "  }\n",
       "\n",
       "\n",
       "  \n",
       "  if (typeof (window._bokeh_timeout) === \"undefined\" || force !== \"\") {\n",
       "    window._bokeh_timeout = Date.now() + 5000;\n",
       "    window._bokeh_failed_load = false;\n",
       "  }\n",
       "\n",
       "  var NB_LOAD_WARNING = {'data': {'text/html':\n",
       "     \"<div style='background-color: #fdd'>\\n\"+\n",
       "     \"<p>\\n\"+\n",
       "     \"BokehJS does not appear to have successfully loaded. If loading BokehJS from CDN, this \\n\"+\n",
       "     \"may be due to a slow or bad network connection. Possible fixes:\\n\"+\n",
       "     \"</p>\\n\"+\n",
       "     \"<ul>\\n\"+\n",
       "     \"<li>re-rerun `output_notebook()` to attempt to load from CDN again, or</li>\\n\"+\n",
       "     \"<li>use INLINE resources instead, as so:</li>\\n\"+\n",
       "     \"</ul>\\n\"+\n",
       "     \"<code>\\n\"+\n",
       "     \"from bokeh.resources import INLINE\\n\"+\n",
       "     \"output_notebook(resources=INLINE)\\n\"+\n",
       "     \"</code>\\n\"+\n",
       "     \"</div>\"}};\n",
       "\n",
       "  function display_loaded() {\n",
       "    if (window.Bokeh !== undefined) {\n",
       "      Bokeh.$(\"#45f08ec5-8749-4135-a809-c1e044ccc2d3\").text(\"BokehJS successfully loaded.\");\n",
       "    } else if (Date.now() < window._bokeh_timeout) {\n",
       "      setTimeout(display_loaded, 100)\n",
       "    }\n",
       "  }\n",
       "\n",
       "  function run_callbacks() {\n",
       "    window._bokeh_onload_callbacks.forEach(function(callback) { callback() });\n",
       "    delete window._bokeh_onload_callbacks\n",
       "    console.info(\"Bokeh: all callbacks have finished\");\n",
       "  }\n",
       "\n",
       "  function load_libs(js_urls, callback) {\n",
       "    window._bokeh_onload_callbacks.push(callback);\n",
       "    if (window._bokeh_is_loading > 0) {\n",
       "      console.log(\"Bokeh: BokehJS is being loaded, scheduling callback at\", now());\n",
       "      return null;\n",
       "    }\n",
       "    if (js_urls == null || js_urls.length === 0) {\n",
       "      run_callbacks();\n",
       "      return null;\n",
       "    }\n",
       "    console.log(\"Bokeh: BokehJS not loaded, scheduling load and callback at\", now());\n",
       "    window._bokeh_is_loading = js_urls.length;\n",
       "    for (var i = 0; i < js_urls.length; i++) {\n",
       "      var url = js_urls[i];\n",
       "      var s = document.createElement('script');\n",
       "      s.src = url;\n",
       "      s.async = false;\n",
       "      s.onreadystatechange = s.onload = function() {\n",
       "        window._bokeh_is_loading--;\n",
       "        if (window._bokeh_is_loading === 0) {\n",
       "          console.log(\"Bokeh: all BokehJS libraries loaded\");\n",
       "          run_callbacks()\n",
       "        }\n",
       "      };\n",
       "      s.onerror = function() {\n",
       "        console.warn(\"failed to load library \" + url);\n",
       "      };\n",
       "      console.log(\"Bokeh: injecting script tag for BokehJS library: \", url);\n",
       "      document.getElementsByTagName(\"head\")[0].appendChild(s);\n",
       "    }\n",
       "  };var element = document.getElementById(\"45f08ec5-8749-4135-a809-c1e044ccc2d3\");\n",
       "  if (element == null) {\n",
       "    console.log(\"Bokeh: ERROR: autoload.js configured with elementid '45f08ec5-8749-4135-a809-c1e044ccc2d3' but no matching script tag was found. \")\n",
       "    return false;\n",
       "  }\n",
       "\n",
       "  var js_urls = ['https://cdn.pydata.org/bokeh/release/bokeh-0.12.2.min.js', 'https://cdn.pydata.org/bokeh/release/bokeh-widgets-0.12.2.min.js', 'https://cdn.pydata.org/bokeh/release/bokeh-compiler-0.12.2.min.js'];\n",
       "\n",
       "  var inline_js = [\n",
       "    function(Bokeh) {\n",
       "      Bokeh.set_log_level(\"info\");\n",
       "    },\n",
       "    \n",
       "    function(Bokeh) {\n",
       "      \n",
       "      Bokeh.$(\"#45f08ec5-8749-4135-a809-c1e044ccc2d3\").text(\"BokehJS is loading...\");\n",
       "    },\n",
       "    function(Bokeh) {\n",
       "      console.log(\"Bokeh: injecting CSS: https://cdn.pydata.org/bokeh/release/bokeh-0.12.2.min.css\");\n",
       "      Bokeh.embed.inject_css(\"https://cdn.pydata.org/bokeh/release/bokeh-0.12.2.min.css\");\n",
       "      console.log(\"Bokeh: injecting CSS: https://cdn.pydata.org/bokeh/release/bokeh-widgets-0.12.2.min.css\");\n",
       "      Bokeh.embed.inject_css(\"https://cdn.pydata.org/bokeh/release/bokeh-widgets-0.12.2.min.css\");\n",
       "    }\n",
       "  ];\n",
       "\n",
       "  function run_inline_js() {\n",
       "    \n",
       "    if ((window.Bokeh !== undefined) || (force === \"1\")) {\n",
       "      for (var i = 0; i < inline_js.length; i++) {\n",
       "        inline_js[i](window.Bokeh);\n",
       "      }if (force === \"1\") {\n",
       "        display_loaded();\n",
       "      }} else if (Date.now() < window._bokeh_timeout) {\n",
       "      setTimeout(run_inline_js, 100);\n",
       "    } else if (!window._bokeh_failed_load) {\n",
       "      console.log(\"Bokeh: BokehJS failed to load within specified timeout.\");\n",
       "      window._bokeh_failed_load = true;\n",
       "    } else if (!force) {\n",
       "      var cell = $(\"#45f08ec5-8749-4135-a809-c1e044ccc2d3\").parents('.cell').data().cell;\n",
       "      cell.output_area.append_execute_result(NB_LOAD_WARNING)\n",
       "    }\n",
       "\n",
       "  }\n",
       "\n",
       "  if (window._bokeh_is_loading === 0) {\n",
       "    console.log(\"Bokeh: BokehJS loaded, going straight to plotting\");\n",
       "    run_inline_js();\n",
       "  } else {\n",
       "    load_libs(js_urls, function() {\n",
       "      console.log(\"Bokeh: BokehJS plotting callback run at\", now());\n",
       "      run_inline_js();\n",
       "    });\n",
       "  }\n",
       "}(this));"
      ]
     },
     "metadata": {},
     "output_type": "display_data"
    }
   ],
   "source": [
    "from ipywidgets import interact\n",
    "\n",
    "from bokeh.plotting import figure\n",
    "from bokeh.io import push_notebook, show, output_notebook\n",
    "from bokeh.layouts import row, gridplot\n",
    "from bokeh.models import Range1d\n",
    "\n",
    "output_notebook()"
   ]
  },
  {
   "cell_type": "code",
   "execution_count": 2,
   "metadata": {
    "collapsed": true,
    "nbpresent": {
     "id": "65c44a69-32fa-4826-8774-1f507412f8f7"
    }
   },
   "outputs": [],
   "source": [
    "# Globals\n",
    "oo = float(\"inf\")\n",
    "quad_width = 0.02\n",
    "default_plot_size = (300, 300)\n",
    "default_color = \"black\"\n",
    "default_y_range = Range1d(-1.5, 1.5)\n",
    "\n",
    "def delete_toolbar(plot):\n",
    "    # remove the logo and the toolbar\n",
    "    plot.toolbar.logo = None\n",
    "    plot.toolbar_location = None"
   ]
  },
  {
   "cell_type": "markdown",
   "metadata": {
    "nbpresent": {
     "id": "f4570264-8ef5-42fb-a3a4-f6dc3dcd52a7"
    }
   },
   "source": [
    "# Beipsiel 1"
   ]
  },
  {
   "cell_type": "code",
   "execution_count": 3,
   "metadata": {
    "collapsed": false,
    "nbpresent": {
     "id": "584fa6c7-3563-492f-950c-38fe44ff24fe"
    }
   },
   "outputs": [],
   "source": [
    "n = [-3, -2,   -1, 0,   1, 2, 3]\n",
    "default_x_range = Range1d(n[0]-1, n[-1]+1)\n",
    "\n",
    "# x[n]\n",
    "#    [-3, -2,   -1, 0,   1, 2, 3]\n",
    "xn = [0,  0, -1, 0.6, 1.2, 0, 0]\n",
    "xn_p = figure(width=default_plot_size[0], height=default_plot_size[1], \n",
    "              title=\"x[n]\", x_axis_label=\"n\", y_axis_label=\"x[n]\",tools=[])\n",
    "\n",
    "# input signal\n",
    "xn_color = \"black\"\n",
    "xn_quad = xn_p.quad(top=xn, bottom=0, left=[i-quad_width for i in n], right=[i+quad_width for i in n], color=xn_color)\n",
    "xn_cir = xn_p.circle(n, xn, size=10, color=xn_color, fill_color=\"white\")\n",
    "\n",
    "# -------------------------------------------------------------------------------\n",
    "# x[k] delta[n-k]\n",
    "xd = [0 for _ in n]\n",
    "xd_p = figure(width=default_plot_size[0], height=default_plot_size[1], \n",
    "              title=\"x[k] delta[n-k]\", x_axis_label=\"n\", y_axis_label=\"x[k] delta[n-k]\",tools=[])\n",
    "\n",
    "# input signal\n",
    "xd_color = \"black\"\n",
    "xd_quad = xd_p.quad(top=xd, bottom=0, left=[i-quad_width for i in n], right=[i+quad_width for i in n], color=xd_color)\n",
    "xd_cir = xd_p.circle(n, xd, size=10, color=xd_color, fill_color=\"white\")\n",
    "\n",
    "# -------------------------------------------------------------------------------\n",
    "# h_k[n]\n",
    "h = [0 for _ in n]\n",
    "h_p = figure(width=default_plot_size[0], height=default_plot_size[1], \n",
    "              title=\"h_k[n]\", x_axis_label=\"n\", y_axis_label=\"h_k[n]\",tools=[])\n",
    "\n",
    "# input signal\n",
    "h_color = \"black\"\n",
    "h_quad = h_p.quad(top=h, bottom=0, left=[i-quad_width for i in n], right=[i+quad_width for i in n], color=h_color)\n",
    "h_cir = h_p.circle(n, h, size=10, color=h_color, fill_color=\"white\")\n",
    "\n",
    "# -------------------------------------------------------------------------------\n",
    "# x[k] h_k[n]\n",
    "xh = [0 for _ in n]\n",
    "xh_p = figure(width=default_plot_size[0], height=default_plot_size[1], \n",
    "              title=\"x[k] h_k[n]\", x_axis_label=\"n\", y_axis_label=\"x[k] h_k[n]\",tools=[])\n",
    "\n",
    "# input signal\n",
    "xh_color = \"black\"\n",
    "xh_quad = xh_p.quad(top=xh, bottom=0, left=[i-quad_width for i in n], right=[i+quad_width for i in n], color=xh_color)\n",
    "xh_cir = xh_p.circle(n, xh, size=10, color=xh_color, fill_color=\"white\")\n",
    "\n",
    "# -------------------------------------------------------------------------------\n",
    "# y[n]\n",
    "# y = [0,0,-2.2, 0, -2.2, -3.3, 0.7]\n",
    "y = [0 for _ in n]\n",
    "y_p = figure(width=default_plot_size[0], height=default_plot_size[1], \n",
    "              title=\"y[n]\", x_axis_label=\"n\", y_axis_label=\"y[n]\",tools=[])\n",
    "\n",
    "# input signal\n",
    "y_color = \"black\"\n",
    "y_quad = y_p.quad(top=y, bottom=0, left=[i-quad_width for i in n], right=[i+quad_width for i in n], color=y_color)\n",
    "y_cir = y_p.circle(n, y, size=10, color=y_color, fill_color=\"white\")\n",
    "# -------------------------------------------------------------------------------\n",
    "all_p = [xn_p, xd_p, h_p, xh_p, y_p]\n",
    "for p in all_p:\n",
    "    delete_toolbar(p)\n",
    "    \n",
    "    # ranges\n",
    "    p.x_range = default_x_range\n",
    "    p.y_range = default_y_range\n",
    "    \n",
    "    # axes\n",
    "    p.segment(x0=min(n)-1, y0=0, x1=max(n)+1, y1=0, line_width = 2,color=\"gray\", line_alpha=0.5)    # x_axis\n",
    "    p.segment(x0=0, y0=min(n)-1, x1=0, y1=max(n)+1, line_width = 2,color=\"gray\", line_alpha=0.5)    # y_axis\n",
    "\n",
    "\n",
    "# ranges\n",
    "# y_p.y_range = Range1d(-2.5, 2.5)\n",
    "    \n",
    "# -------------------------------------------------------------------------------\n",
    "# update\n",
    "k_ls = []\n",
    "def update(k = -3):\n",
    "    new_k = len(n) // 2 + k\n",
    "    \n",
    "    new_xd = [0 for _ in n]\n",
    "    new_xd[new_k] = xn[new_k]\n",
    "    xd_quad.data_source.data['top'] = new_xd\n",
    "    xd_cir.data_source.data['y'] = new_xd\n",
    "    xd_p.title.text = \"x[{}] delta[n-{}]\".format(k, -k)\n",
    "    \n",
    "    if k == -1:   new_h = [0, 0, 1, 0.7, -0.3, 0.7, 0]\n",
    "    elif k == 0:  new_h = [0, 0, -0.3, 1, 0.3, 0, 0.3]\n",
    "    elif k == 1:  new_h = [0, 0, 0.3, 0, -1, -0.3, 0]\n",
    "    else:         new_h = [0] * len(n)\n",
    "    h_quad.data_source.data['top'] = new_h\n",
    "    h_cir.data_source.data['y'] = new_h\n",
    "    h_p.title.text = \"h_{}[n]\".format(k)\n",
    "    \n",
    "    new_xh = [xn[new_k] * new_h[i] for i in range(len(new_h))]\n",
    "    xh_quad.data_source.data['top'] = new_xh\n",
    "    xh_cir.data_source.data['y'] = new_xh\n",
    "    xh_p.title.text = \"x[{}] h_{}[n]\".format(k, k)\n",
    "    \n",
    "    if k not in k_ls:\n",
    "        k_ls.append(k)\n",
    "        for i in range(len(y)):\n",
    "            y[i] += new_xh[i]\n",
    "        y_quad.data_source.data['top'] = y\n",
    "        y_cir.data_source.data['y'] = y\n",
    "    \n",
    "    push_notebook()"
   ]
  },
  {
   "cell_type": "code",
   "execution_count": 4,
   "metadata": {
    "collapsed": false,
    "nbpresent": {
     "id": "0b1d8916-2be2-4f01-9fa9-7d51c813c0d0"
    }
   },
   "outputs": [
    {
     "data": {
      "text/html": [
       "\n",
       "\n",
       "    <div class=\"bk-root\">\n",
       "        <div class=\"plotdiv\" id=\"b42fac65-a280-496d-9394-403370241acf\"></div>\n",
       "    </div>\n",
       "<script type=\"text/javascript\">\n",
       "  \n",
       "  (function(global) {\n",
       "    function now() {\n",
       "      return new Date();\n",
       "    }\n",
       "  \n",
       "    var force = \"\";\n",
       "  \n",
       "    if (typeof (window._bokeh_onload_callbacks) === \"undefined\" || force !== \"\") {\n",
       "      window._bokeh_onload_callbacks = [];\n",
       "      window._bokeh_is_loading = undefined;\n",
       "    }\n",
       "  \n",
       "  \n",
       "    \n",
       "    if (typeof (window._bokeh_timeout) === \"undefined\" || force !== \"\") {\n",
       "      window._bokeh_timeout = Date.now() + 0;\n",
       "      window._bokeh_failed_load = false;\n",
       "    }\n",
       "  \n",
       "    var NB_LOAD_WARNING = {'data': {'text/html':\n",
       "       \"<div style='background-color: #fdd'>\\n\"+\n",
       "       \"<p>\\n\"+\n",
       "       \"BokehJS does not appear to have successfully loaded. If loading BokehJS from CDN, this \\n\"+\n",
       "       \"may be due to a slow or bad network connection. Possible fixes:\\n\"+\n",
       "       \"</p>\\n\"+\n",
       "       \"<ul>\\n\"+\n",
       "       \"<li>re-rerun `output_notebook()` to attempt to load from CDN again, or</li>\\n\"+\n",
       "       \"<li>use INLINE resources instead, as so:</li>\\n\"+\n",
       "       \"</ul>\\n\"+\n",
       "       \"<code>\\n\"+\n",
       "       \"from bokeh.resources import INLINE\\n\"+\n",
       "       \"output_notebook(resources=INLINE)\\n\"+\n",
       "       \"</code>\\n\"+\n",
       "       \"</div>\"}};\n",
       "  \n",
       "    function display_loaded() {\n",
       "      if (window.Bokeh !== undefined) {\n",
       "        Bokeh.$(\"#b42fac65-a280-496d-9394-403370241acf\").text(\"BokehJS successfully loaded.\");\n",
       "      } else if (Date.now() < window._bokeh_timeout) {\n",
       "        setTimeout(display_loaded, 100)\n",
       "      }\n",
       "    }if ((window.Jupyter !== undefined) && Jupyter.notebook.kernel) {\n",
       "      comm_manager = Jupyter.notebook.kernel.comm_manager\n",
       "      comm_manager.register_target(\"ddff6ac0-7c02-4ce0-804a-a79e4de34883\", function () {});\n",
       "    }\n",
       "  \n",
       "    function run_callbacks() {\n",
       "      window._bokeh_onload_callbacks.forEach(function(callback) { callback() });\n",
       "      delete window._bokeh_onload_callbacks\n",
       "      console.info(\"Bokeh: all callbacks have finished\");\n",
       "    }\n",
       "  \n",
       "    function load_libs(js_urls, callback) {\n",
       "      window._bokeh_onload_callbacks.push(callback);\n",
       "      if (window._bokeh_is_loading > 0) {\n",
       "        console.log(\"Bokeh: BokehJS is being loaded, scheduling callback at\", now());\n",
       "        return null;\n",
       "      }\n",
       "      if (js_urls == null || js_urls.length === 0) {\n",
       "        run_callbacks();\n",
       "        return null;\n",
       "      }\n",
       "      console.log(\"Bokeh: BokehJS not loaded, scheduling load and callback at\", now());\n",
       "      window._bokeh_is_loading = js_urls.length;\n",
       "      for (var i = 0; i < js_urls.length; i++) {\n",
       "        var url = js_urls[i];\n",
       "        var s = document.createElement('script');\n",
       "        s.src = url;\n",
       "        s.async = false;\n",
       "        s.onreadystatechange = s.onload = function() {\n",
       "          window._bokeh_is_loading--;\n",
       "          if (window._bokeh_is_loading === 0) {\n",
       "            console.log(\"Bokeh: all BokehJS libraries loaded\");\n",
       "            run_callbacks()\n",
       "          }\n",
       "        };\n",
       "        s.onerror = function() {\n",
       "          console.warn(\"failed to load library \" + url);\n",
       "        };\n",
       "        console.log(\"Bokeh: injecting script tag for BokehJS library: \", url);\n",
       "        document.getElementsByTagName(\"head\")[0].appendChild(s);\n",
       "      }\n",
       "    };var element = document.getElementById(\"b42fac65-a280-496d-9394-403370241acf\");\n",
       "    if (element == null) {\n",
       "      console.log(\"Bokeh: ERROR: autoload.js configured with elementid 'b42fac65-a280-496d-9394-403370241acf' but no matching script tag was found. \")\n",
       "      return false;\n",
       "    }\n",
       "  \n",
       "    var js_urls = [];\n",
       "  \n",
       "    var inline_js = [\n",
       "      function(Bokeh) {\n",
       "        Bokeh.$(function() {\n",
       "            var docs_json = {\"4fda5a7e-8db2-45a1-bfe0-4531c22c52a6\":{\"roots\":{\"references\":[{\"attributes\":{},\"id\":\"3065b665-0a06-4e54-8dd9-3f05140c24e7\",\"type\":\"BasicTicker\"},{\"attributes\":{\"line_alpha\":{\"value\":0.5},\"line_color\":{\"value\":\"gray\"},\"line_width\":{\"value\":2},\"x0\":{\"value\":0},\"x1\":{\"value\":0},\"y0\":{\"value\":-4},\"y1\":{\"value\":4}},\"id\":\"f82c8a25-65d2-4cf7-b7a6-c5b5d1bd76e0\",\"type\":\"Segment\"},{\"attributes\":{},\"id\":\"f04064c4-dac3-4f1f-995c-b7524753e1b1\",\"type\":\"BasicTickFormatter\"},{\"attributes\":{\"data_source\":{\"id\":\"f7cebecb-0104-4e6a-aa6d-5e2a43cdc96b\",\"type\":\"ColumnDataSource\"},\"glyph\":{\"id\":\"d715531d-79c0-481a-8a93-62077fb36ace\",\"type\":\"Circle\"},\"hover_glyph\":null,\"nonselection_glyph\":{\"id\":\"52b32d28-e463-40f9-aa3f-ae98ec6f04ec\",\"type\":\"Circle\"},\"selection_glyph\":null},\"id\":\"9a7189b5-ac47-47be-a1fb-eb1c530a7417\",\"type\":\"GlyphRenderer\"},{\"attributes\":{\"data_source\":{\"id\":\"78052409-692b-4405-84c0-c4f4e07d984f\",\"type\":\"ColumnDataSource\"},\"glyph\":{\"id\":\"53ad2a66-70e9-434e-8037-143bf2bf4f0b\",\"type\":\"Quad\"},\"hover_glyph\":null,\"nonselection_glyph\":{\"id\":\"4203ed13-210c-4d0b-af62-3cdd9a180f5b\",\"type\":\"Quad\"},\"selection_glyph\":null},\"id\":\"87772124-1a32-4d7a-bf41-152d6aa5946f\",\"type\":\"GlyphRenderer\"},{\"attributes\":{\"active_drag\":\"auto\",\"active_scroll\":\"auto\",\"active_tap\":\"auto\",\"logo\":null},\"id\":\"43381dbf-b365-4893-8132-efa69f9eb664\",\"type\":\"Toolbar\"},{\"attributes\":{\"plot\":null,\"text\":\"y[n]\"},\"id\":\"02283b61-e572-4053-804a-1b8018f0fd90\",\"type\":\"Title\"},{\"attributes\":{\"line_alpha\":{\"value\":0.1},\"line_color\":{\"value\":\"#1f77b4\"},\"line_width\":{\"value\":2},\"x0\":{\"value\":-4},\"x1\":{\"value\":4},\"y0\":{\"value\":0},\"y1\":{\"value\":0}},\"id\":\"bce0335d-3f3b-470f-860e-ad704bc40a3c\",\"type\":\"Segment\"},{\"attributes\":{\"data_source\":{\"id\":\"6a6f57ba-dc82-4eb6-b592-0cb52533c92c\",\"type\":\"ColumnDataSource\"},\"glyph\":{\"id\":\"453d30ec-2329-483c-aa9d-84c54b40e37a\",\"type\":\"Segment\"},\"hover_glyph\":null,\"nonselection_glyph\":{\"id\":\"3308cf26-6d3a-4345-bb75-5c080b549a0b\",\"type\":\"Segment\"},\"selection_glyph\":null},\"id\":\"0286b01d-64e1-4b75-847f-45ca11862243\",\"type\":\"GlyphRenderer\"},{\"attributes\":{\"data_source\":{\"id\":\"f3653a46-bda1-4e79-b473-47fc20fdad87\",\"type\":\"ColumnDataSource\"},\"glyph\":{\"id\":\"95e1942b-5d68-4357-9320-8820200cc5e9\",\"type\":\"Segment\"},\"hover_glyph\":null,\"nonselection_glyph\":{\"id\":\"922ad8c0-20ba-4802-bb4b-26c6a80ebb9d\",\"type\":\"Segment\"},\"selection_glyph\":null},\"id\":\"0159c92d-4076-4699-98b3-c129e70505b2\",\"type\":\"GlyphRenderer\"},{\"attributes\":{\"callback\":null},\"id\":\"6a6f57ba-dc82-4eb6-b592-0cb52533c92c\",\"type\":\"ColumnDataSource\"},{\"attributes\":{\"active_drag\":\"auto\",\"active_scroll\":\"auto\",\"active_tap\":\"auto\",\"logo\":null},\"id\":\"592ee21f-9f7b-43e7-b74f-ad36a491b640\",\"type\":\"Toolbar\"},{\"attributes\":{\"children\":[{\"id\":\"59f298d7-73ce-429e-9d1d-543d74b1332c\",\"type\":\"ToolbarBox\"},{\"id\":\"7131c513-4b51-4d7e-8084-a015d9c41924\",\"type\":\"Column\"}]},\"id\":\"bdfd2613-9e1a-4bf9-a2be-d511dac19f40\",\"type\":\"Column\"},{\"attributes\":{},\"id\":\"c65185d3-c2a5-4db0-a8a0-1926e62beb36\",\"type\":\"BasicTicker\"},{\"attributes\":{\"line_alpha\":{\"value\":0.1},\"line_color\":{\"value\":\"#1f77b4\"},\"line_width\":{\"value\":2},\"x0\":{\"value\":-4},\"x1\":{\"value\":4},\"y0\":{\"value\":0},\"y1\":{\"value\":0}},\"id\":\"3a40ea61-1ca1-4543-9c7c-0a35bfc41fc2\",\"type\":\"Segment\"},{\"attributes\":{},\"id\":\"ec712982-3855-4578-82f5-d4ee17a6d57b\",\"type\":\"BasicTicker\"},{\"attributes\":{},\"id\":\"87c262f6-f876-4525-a956-b9461d92b953\",\"type\":\"BasicTicker\"},{\"attributes\":{},\"id\":\"8bff57a5-491c-4320-989e-1d7bae267ab9\",\"type\":\"ToolEvents\"},{\"attributes\":{\"bottom\":{\"value\":0},\"fill_color\":{\"value\":\"black\"},\"left\":{\"field\":\"left\"},\"right\":{\"field\":\"right\"},\"top\":{\"field\":\"top\"}},\"id\":\"53ad2a66-70e9-434e-8037-143bf2bf4f0b\",\"type\":\"Quad\"},{\"attributes\":{\"dimension\":1,\"plot\":{\"id\":\"d3c0f4ae-5000-4a75-8927-7190a6773f35\",\"subtype\":\"Figure\",\"type\":\"Plot\"},\"ticker\":{\"id\":\"b09b3b9c-0345-43f8-9f60-4cc6614f9b1b\",\"type\":\"BasicTicker\"}},\"id\":\"6413a6bd-f03b-42c7-8ab7-5e850de165a8\",\"type\":\"Grid\"},{\"attributes\":{\"callback\":null,\"column_names\":[\"x\",\"y\"],\"data\":{\"x\":[-3,-2,-1,0,1,2,3],\"y\":[0,0,0,0,0,0,0]}},\"id\":\"483cf5e1-bac4-4860-ba69-99a3573e97fd\",\"type\":\"ColumnDataSource\"},{\"attributes\":{\"line_alpha\":{\"value\":0.5},\"line_color\":{\"value\":\"gray\"},\"line_width\":{\"value\":2},\"x0\":{\"value\":-4},\"x1\":{\"value\":4},\"y0\":{\"value\":0},\"y1\":{\"value\":0}},\"id\":\"5c3a3b7a-38db-44f1-9fa0-5dd13c3a1f9e\",\"type\":\"Segment\"},{\"attributes\":{\"data_source\":{\"id\":\"b3d3c08a-b7fd-4ce5-af22-126d6f5353bf\",\"type\":\"ColumnDataSource\"},\"glyph\":{\"id\":\"1f6e1bfc-b650-4dee-ad8c-ea302c837731\",\"type\":\"Circle\"},\"hover_glyph\":null,\"nonselection_glyph\":{\"id\":\"b59861a7-fc8a-4e7b-8dbb-2400aca23d76\",\"type\":\"Circle\"},\"selection_glyph\":null},\"id\":\"e983f259-2f54-4f1b-a083-4303e0f487cd\",\"type\":\"GlyphRenderer\"},{\"attributes\":{},\"id\":\"c7615891-c2a2-4a29-8946-adb29f33c89f\",\"type\":\"BasicTicker\"},{\"attributes\":{\"plot\":{\"id\":\"e1e5f0e9-03a3-4581-a906-a8e771585244\",\"subtype\":\"Figure\",\"type\":\"Plot\"},\"ticker\":{\"id\":\"23ef5aec-8017-46b0-8e5c-3c4ddb7dc86d\",\"type\":\"BasicTicker\"}},\"id\":\"73fa8bf4-6a61-4460-b978-7b982aeb9d71\",\"type\":\"Grid\"},{\"attributes\":{},\"id\":\"5257f00a-25a5-4cb0-bef4-8c6b00ae3ab4\",\"type\":\"BasicTicker\"},{\"attributes\":{\"callback\":null},\"id\":\"e2f60721-a496-412f-8b2b-fe1e3c4b8e47\",\"type\":\"ColumnDataSource\"},{\"attributes\":{\"line_alpha\":{\"value\":0.5},\"line_color\":{\"value\":\"gray\"},\"line_width\":{\"value\":2},\"x0\":{\"value\":-4},\"x1\":{\"value\":4},\"y0\":{\"value\":0},\"y1\":{\"value\":0}},\"id\":\"b616b0a1-ebd0-4281-9a67-fd7490705e1b\",\"type\":\"Segment\"},{\"attributes\":{\"active_drag\":\"auto\",\"active_scroll\":\"auto\",\"active_tap\":\"auto\",\"logo\":null},\"id\":\"feaaa232-295c-4b5f-b1a3-00a9b93e3a2e\",\"type\":\"Toolbar\"},{\"attributes\":{\"data_source\":{\"id\":\"d1bf64f2-7160-4ee5-8835-8ec1c3e2e843\",\"type\":\"ColumnDataSource\"},\"glyph\":{\"id\":\"a53a9885-62cd-41cc-907a-fdabfe99ea77\",\"type\":\"Circle\"},\"hover_glyph\":null,\"nonselection_glyph\":{\"id\":\"f33f55ca-b338-4d00-907f-e8620a4f982f\",\"type\":\"Circle\"},\"selection_glyph\":null},\"id\":\"a0710363-9cc0-4c76-a9dd-25f0bf3fd67e\",\"type\":\"GlyphRenderer\"},{\"attributes\":{},\"id\":\"0a8f9714-2986-4f68-89e2-6e8aec26e73a\",\"type\":\"BasicTickFormatter\"},{\"attributes\":{},\"id\":\"364e17a6-9b1e-4510-8a85-74a7936b3c79\",\"type\":\"BasicTickFormatter\"},{\"attributes\":{\"bottom\":{\"value\":0},\"fill_alpha\":{\"value\":0.1},\"fill_color\":{\"value\":\"#1f77b4\"},\"left\":{\"field\":\"left\"},\"line_alpha\":{\"value\":0.1},\"line_color\":{\"value\":\"#1f77b4\"},\"right\":{\"field\":\"right\"},\"top\":{\"field\":\"top\"}},\"id\":\"f6453084-da3c-4267-a2a7-d83c469e872a\",\"type\":\"Quad\"},{\"attributes\":{\"below\":[{\"id\":\"62f7b6e2-5c96-42d0-ad95-a6071ba0957a\",\"type\":\"LinearAxis\"}],\"left\":[{\"id\":\"b157edc3-d954-4af9-94bf-33c0a15af6bc\",\"type\":\"LinearAxis\"}],\"plot_height\":300,\"plot_width\":300,\"renderers\":[{\"id\":\"62f7b6e2-5c96-42d0-ad95-a6071ba0957a\",\"type\":\"LinearAxis\"},{\"id\":\"0ba57999-7af5-476d-8bb2-ca0cd18f6576\",\"type\":\"Grid\"},{\"id\":\"b157edc3-d954-4af9-94bf-33c0a15af6bc\",\"type\":\"LinearAxis\"},{\"id\":\"8440b732-4326-45f9-80f4-1b1c8562b07c\",\"type\":\"Grid\"},{\"id\":\"306c0124-7265-424e-aeff-87d1694b7d6b\",\"type\":\"GlyphRenderer\"},{\"id\":\"01b085ae-59d3-4046-a38b-ecc7cc0e4dfb\",\"type\":\"GlyphRenderer\"},{\"id\":\"b69888cc-6d57-4fd7-97c4-1469879e4f06\",\"type\":\"GlyphRenderer\"},{\"id\":\"0159c92d-4076-4699-98b3-c129e70505b2\",\"type\":\"GlyphRenderer\"}],\"title\":{\"id\":\"02283b61-e572-4053-804a-1b8018f0fd90\",\"type\":\"Title\"},\"tool_events\":{\"id\":\"7569c82b-a297-4127-9b25-6bca1b567aff\",\"type\":\"ToolEvents\"},\"toolbar\":{\"id\":\"cc0c9c26-d0bc-4243-8ff0-d8302b6fb514\",\"type\":\"Toolbar\"},\"toolbar_location\":null,\"x_range\":{\"id\":\"c3228d98-648a-47c8-8a32-e9dcf4c3bbbc\",\"type\":\"Range1d\"},\"y_range\":{\"id\":\"389c141a-1352-4782-9109-45bfcad252a9\",\"type\":\"Range1d\"}},\"id\":\"9faff7b8-409e-4075-a7b0-291f6b58e191\",\"subtype\":\"Figure\",\"type\":\"Plot\"},{\"attributes\":{\"fill_alpha\":{\"value\":0.1},\"fill_color\":{\"value\":\"#1f77b4\"},\"line_alpha\":{\"value\":0.1},\"line_color\":{\"value\":\"#1f77b4\"},\"size\":{\"units\":\"screen\",\"value\":10},\"x\":{\"field\":\"x\"},\"y\":{\"field\":\"y\"}},\"id\":\"5bfa949e-a1f7-4731-b691-24cbef4c5b4b\",\"type\":\"Circle\"},{\"attributes\":{\"children\":[{\"id\":\"e1e5f0e9-03a3-4581-a906-a8e771585244\",\"subtype\":\"Figure\",\"type\":\"Plot\"},{\"id\":\"fc8fae16-364a-47ad-9e0e-1791f64ab3cc\",\"subtype\":\"Figure\",\"type\":\"Plot\"},{\"id\":\"d3c0f4ae-5000-4a75-8927-7190a6773f35\",\"subtype\":\"Figure\",\"type\":\"Plot\"}]},\"id\":\"534e666e-d23e-427e-90de-14e4b9290cae\",\"type\":\"Row\"},{\"attributes\":{\"below\":[{\"id\":\"727e0178-cac1-4400-8545-6aeeef84f4d5\",\"type\":\"LinearAxis\"}],\"left\":[{\"id\":\"2c111d34-6e6e-45a7-a878-255a1389e0b2\",\"type\":\"LinearAxis\"}],\"plot_height\":300,\"plot_width\":300,\"renderers\":[{\"id\":\"727e0178-cac1-4400-8545-6aeeef84f4d5\",\"type\":\"LinearAxis\"},{\"id\":\"73fa8bf4-6a61-4460-b978-7b982aeb9d71\",\"type\":\"Grid\"},{\"id\":\"2c111d34-6e6e-45a7-a878-255a1389e0b2\",\"type\":\"LinearAxis\"},{\"id\":\"0642ce4a-397f-4f38-b942-29b7754dc8de\",\"type\":\"Grid\"},{\"id\":\"e0b8d8a8-92de-435f-b151-e3f5340a1a3c\",\"type\":\"GlyphRenderer\"},{\"id\":\"e983f259-2f54-4f1b-a083-4303e0f487cd\",\"type\":\"GlyphRenderer\"},{\"id\":\"c4bd064c-df4a-4952-9526-447439c17c01\",\"type\":\"GlyphRenderer\"},{\"id\":\"c9f40809-86c2-4018-ae26-0f0eed26f322\",\"type\":\"GlyphRenderer\"}],\"title\":{\"id\":\"0759a2a3-72b0-4b9a-82fa-ed5a3932487e\",\"type\":\"Title\"},\"tool_events\":{\"id\":\"1313e91e-a1c4-43e8-a3a0-8accbff5fd8b\",\"type\":\"ToolEvents\"},\"toolbar\":{\"id\":\"6bea862e-8ac5-4d04-926d-ee678c83211f\",\"type\":\"Toolbar\"},\"toolbar_location\":null,\"x_range\":{\"id\":\"c3228d98-648a-47c8-8a32-e9dcf4c3bbbc\",\"type\":\"Range1d\"},\"y_range\":{\"id\":\"389c141a-1352-4782-9109-45bfcad252a9\",\"type\":\"Range1d\"}},\"id\":\"e1e5f0e9-03a3-4581-a906-a8e771585244\",\"subtype\":\"Figure\",\"type\":\"Plot\"},{\"attributes\":{\"fill_alpha\":{\"value\":0.1},\"fill_color\":{\"value\":\"#1f77b4\"},\"line_alpha\":{\"value\":0.1},\"line_color\":{\"value\":\"#1f77b4\"},\"size\":{\"units\":\"screen\",\"value\":10},\"x\":{\"field\":\"x\"},\"y\":{\"field\":\"y\"}},\"id\":\"b59861a7-fc8a-4e7b-8dbb-2400aca23d76\",\"type\":\"Circle\"},{\"attributes\":{\"axis_label\":\"n\",\"formatter\":{\"id\":\"6de2e9ed-4840-4068-8fac-3402e4f2179a\",\"type\":\"BasicTickFormatter\"},\"plot\":{\"id\":\"d3c0f4ae-5000-4a75-8927-7190a6773f35\",\"subtype\":\"Figure\",\"type\":\"Plot\"},\"ticker\":{\"id\":\"469dd7f8-9e30-48ea-b6d0-e3b67365b8be\",\"type\":\"BasicTicker\"}},\"id\":\"e6ca5e83-c0bf-4423-ae67-e56aa51729f4\",\"type\":\"LinearAxis\"},{\"attributes\":{\"dimension\":1,\"plot\":{\"id\":\"fc8fae16-364a-47ad-9e0e-1791f64ab3cc\",\"subtype\":\"Figure\",\"type\":\"Plot\"},\"ticker\":{\"id\":\"73f3b313-ecba-424d-bf9b-f95f1c44933d\",\"type\":\"BasicTicker\"}},\"id\":\"d0dc5476-0158-416f-b002-b1a3bd91625d\",\"type\":\"Grid\"},{\"attributes\":{\"plot\":{\"id\":\"00a5a0cf-ce87-47d9-be1f-9cd5d51ac68d\",\"subtype\":\"Figure\",\"type\":\"Plot\"},\"ticker\":{\"id\":\"ec712982-3855-4578-82f5-d4ee17a6d57b\",\"type\":\"BasicTicker\"}},\"id\":\"31fdb0b4-7db1-4f85-8e54-4b35a6b99946\",\"type\":\"Grid\"},{\"attributes\":{},\"id\":\"0bbfe5aa-0cc7-4c5d-b9bf-184f9797f97d\",\"type\":\"BasicTickFormatter\"},{\"attributes\":{\"line_alpha\":{\"value\":0.5},\"line_color\":{\"value\":\"gray\"},\"line_width\":{\"value\":2},\"x0\":{\"value\":-4},\"x1\":{\"value\":4},\"y0\":{\"value\":0},\"y1\":{\"value\":0}},\"id\":\"79130df3-9372-403e-80fe-d894b2e191de\",\"type\":\"Segment\"},{\"attributes\":{\"data_source\":{\"id\":\"268a90cc-38eb-4478-9485-9314eef7643d\",\"type\":\"ColumnDataSource\"},\"glyph\":{\"id\":\"79130df3-9372-403e-80fe-d894b2e191de\",\"type\":\"Segment\"},\"hover_glyph\":null,\"nonselection_glyph\":{\"id\":\"bce0335d-3f3b-470f-860e-ad704bc40a3c\",\"type\":\"Segment\"},\"selection_glyph\":null},\"id\":\"b69888cc-6d57-4fd7-97c4-1469879e4f06\",\"type\":\"GlyphRenderer\"},{\"attributes\":{\"data_source\":{\"id\":\"6e5d1653-b453-4b31-945a-9b400e6759dc\",\"type\":\"ColumnDataSource\"},\"glyph\":{\"id\":\"9c4022c6-3d37-4a50-aea0-7ff9d8fb00e9\",\"type\":\"Quad\"},\"hover_glyph\":null,\"nonselection_glyph\":{\"id\":\"f6453084-da3c-4267-a2a7-d83c469e872a\",\"type\":\"Quad\"},\"selection_glyph\":null},\"id\":\"e0b8d8a8-92de-435f-b151-e3f5340a1a3c\",\"type\":\"GlyphRenderer\"},{\"attributes\":{\"bottom\":{\"value\":0},\"fill_alpha\":{\"value\":0.1},\"fill_color\":{\"value\":\"#1f77b4\"},\"left\":{\"field\":\"left\"},\"line_alpha\":{\"value\":0.1},\"line_color\":{\"value\":\"#1f77b4\"},\"right\":{\"field\":\"right\"},\"top\":{\"field\":\"top\"}},\"id\":\"0b155c2b-5947-4c06-bb2f-01c8320dd1b3\",\"type\":\"Quad\"},{\"attributes\":{\"line_alpha\":{\"value\":0.1},\"line_color\":{\"value\":\"#1f77b4\"},\"line_width\":{\"value\":2},\"x0\":{\"value\":0},\"x1\":{\"value\":0},\"y0\":{\"value\":-4},\"y1\":{\"value\":4}},\"id\":\"3308cf26-6d3a-4345-bb75-5c080b549a0b\",\"type\":\"Segment\"},{\"attributes\":{\"data_source\":{\"id\":\"a66fa39d-f291-40b6-8f0b-fa714bd32398\",\"type\":\"ColumnDataSource\"},\"glyph\":{\"id\":\"3683b5be-f7cb-48bf-997d-88cbda6b09eb\",\"type\":\"Quad\"},\"hover_glyph\":null,\"nonselection_glyph\":{\"id\":\"0b155c2b-5947-4c06-bb2f-01c8320dd1b3\",\"type\":\"Quad\"},\"selection_glyph\":null},\"id\":\"38b7b9a4-9e0f-40ba-ae35-e95e96e4e6b1\",\"type\":\"GlyphRenderer\"},{\"attributes\":{},\"id\":\"eb64c747-73ab-49bc-8b14-912f899e9bff\",\"type\":\"BasicTickFormatter\"},{\"attributes\":{\"callback\":null},\"id\":\"ccb7ff6e-6085-4c7b-a32d-ebf67e317b41\",\"type\":\"ColumnDataSource\"},{\"attributes\":{},\"id\":\"8cf3ce7b-b6ec-4511-9d6a-2641e6cf81e1\",\"type\":\"BasicTickFormatter\"},{\"attributes\":{\"plot\":null,\"text\":\"x[k] delta[n-k]\"},\"id\":\"0759a2a3-72b0-4b9a-82fa-ed5a3932487e\",\"type\":\"Title\"},{\"attributes\":{\"line_alpha\":{\"value\":0.1},\"line_color\":{\"value\":\"#1f77b4\"},\"line_width\":{\"value\":2},\"x0\":{\"value\":-4},\"x1\":{\"value\":4},\"y0\":{\"value\":0},\"y1\":{\"value\":0}},\"id\":\"8d644c13-915b-4ab6-997e-6b5521aed88a\",\"type\":\"Segment\"},{\"attributes\":{\"dimension\":1,\"plot\":{\"id\":\"00a5a0cf-ce87-47d9-be1f-9cd5d51ac68d\",\"subtype\":\"Figure\",\"type\":\"Plot\"},\"ticker\":{\"id\":\"87c262f6-f876-4525-a956-b9461d92b953\",\"type\":\"BasicTicker\"}},\"id\":\"3195848e-e60e-43c0-9ed0-1824aa64e7d4\",\"type\":\"Grid\"},{\"attributes\":{\"axis_label\":\"n\",\"formatter\":{\"id\":\"143b07b5-374a-4d03-bb46-6f59e0d2fc3e\",\"type\":\"BasicTickFormatter\"},\"plot\":{\"id\":\"e1e5f0e9-03a3-4581-a906-a8e771585244\",\"subtype\":\"Figure\",\"type\":\"Plot\"},\"ticker\":{\"id\":\"23ef5aec-8017-46b0-8e5c-3c4ddb7dc86d\",\"type\":\"BasicTicker\"}},\"id\":\"727e0178-cac1-4400-8545-6aeeef84f4d5\",\"type\":\"LinearAxis\"},{\"attributes\":{\"fill_alpha\":{\"value\":0.1},\"fill_color\":{\"value\":\"#1f77b4\"},\"line_alpha\":{\"value\":0.1},\"line_color\":{\"value\":\"#1f77b4\"},\"size\":{\"units\":\"screen\",\"value\":10},\"x\":{\"field\":\"x\"},\"y\":{\"field\":\"y\"}},\"id\":\"f33f55ca-b338-4d00-907f-e8620a4f982f\",\"type\":\"Circle\"},{\"attributes\":{},\"id\":\"469dd7f8-9e30-48ea-b6d0-e3b67365b8be\",\"type\":\"BasicTicker\"},{\"attributes\":{\"callback\":null},\"id\":\"f3653a46-bda1-4e79-b473-47fc20fdad87\",\"type\":\"ColumnDataSource\"},{\"attributes\":{\"callback\":null,\"column_names\":[\"left\",\"top\",\"right\"],\"data\":{\"left\":[-3.02,-2.02,-1.02,-0.02,0.98,1.98,2.98],\"right\":[-2.98,-1.98,-0.98,0.02,1.02,2.02,3.02],\"top\":[0,0,0,0,0,0,0]}},\"id\":\"8a341347-1ca2-4a26-ae9b-b1cdbccd1480\",\"type\":\"ColumnDataSource\"},{\"attributes\":{\"callback\":null,\"end\":1.5,\"start\":-1.5},\"id\":\"389c141a-1352-4782-9109-45bfcad252a9\",\"type\":\"Range1d\"},{\"attributes\":{\"bottom\":{\"value\":0},\"fill_color\":{\"value\":\"black\"},\"left\":{\"field\":\"left\"},\"right\":{\"field\":\"right\"},\"top\":{\"field\":\"top\"}},\"id\":\"6e71292e-3693-4f11-b784-d953ee406e73\",\"type\":\"Quad\"},{\"attributes\":{\"axis_label\":\"n\",\"formatter\":{\"id\":\"eb64c747-73ab-49bc-8b14-912f899e9bff\",\"type\":\"BasicTickFormatter\"},\"plot\":{\"id\":\"00a5a0cf-ce87-47d9-be1f-9cd5d51ac68d\",\"subtype\":\"Figure\",\"type\":\"Plot\"},\"ticker\":{\"id\":\"ec712982-3855-4578-82f5-d4ee17a6d57b\",\"type\":\"BasicTicker\"}},\"id\":\"05b15cb1-57db-4175-926a-e8a085c31b7a\",\"type\":\"LinearAxis\"},{\"attributes\":{\"bottom\":{\"value\":0},\"fill_color\":{\"value\":\"black\"},\"left\":{\"field\":\"left\"},\"right\":{\"field\":\"right\"},\"top\":{\"field\":\"top\"}},\"id\":\"46b66e2c-69ae-4967-aaa3-a2b4a1ecb01c\",\"type\":\"Quad\"},{\"attributes\":{\"height\":300,\"width\":300},\"id\":\"77de7670-bf0b-4c7c-a2be-1ba22231582d\",\"type\":\"Spacer\"},{\"attributes\":{\"callback\":null,\"column_names\":[\"left\",\"top\",\"right\"],\"data\":{\"left\":[-3.02,-2.02,-1.02,-0.02,0.98,1.98,2.98],\"right\":[-2.98,-1.98,-0.98,0.02,1.02,2.02,3.02],\"top\":[0,0,0,0,0,0,0]}},\"id\":\"78052409-692b-4405-84c0-c4f4e07d984f\",\"type\":\"ColumnDataSource\"},{\"attributes\":{\"callback\":null,\"column_names\":[\"left\",\"top\",\"right\"],\"data\":{\"left\":[-3.02,-2.02,-1.02,-0.02,0.98,1.98,2.98],\"right\":[-2.98,-1.98,-0.98,0.02,1.02,2.02,3.02],\"top\":[0,0,0,0,0,0,0]}},\"id\":\"a66fa39d-f291-40b6-8f0b-fa714bd32398\",\"type\":\"ColumnDataSource\"},{\"attributes\":{\"line_alpha\":{\"value\":0.1},\"line_color\":{\"value\":\"#1f77b4\"},\"line_width\":{\"value\":2},\"x0\":{\"value\":0},\"x1\":{\"value\":0},\"y0\":{\"value\":-4},\"y1\":{\"value\":4}},\"id\":\"b73b0291-82d8-45a8-8192-e8345342863e\",\"type\":\"Segment\"},{\"attributes\":{\"below\":[{\"id\":\"33bd6e66-c5de-470c-843c-a6d8479223d0\",\"type\":\"LinearAxis\"}],\"left\":[{\"id\":\"21a34103-a98d-4731-8455-0e1a29e3fac6\",\"type\":\"LinearAxis\"}],\"plot_height\":300,\"plot_width\":300,\"renderers\":[{\"id\":\"33bd6e66-c5de-470c-843c-a6d8479223d0\",\"type\":\"LinearAxis\"},{\"id\":\"125af95e-bc05-4f88-9f1d-0a1a2bbe3de5\",\"type\":\"Grid\"},{\"id\":\"21a34103-a98d-4731-8455-0e1a29e3fac6\",\"type\":\"LinearAxis\"},{\"id\":\"d0dc5476-0158-416f-b002-b1a3bd91625d\",\"type\":\"Grid\"},{\"id\":\"38b7b9a4-9e0f-40ba-ae35-e95e96e4e6b1\",\"type\":\"GlyphRenderer\"},{\"id\":\"d08c1553-ed17-46c0-b504-1ff0bb9ab4d8\",\"type\":\"GlyphRenderer\"},{\"id\":\"4074d024-bdb6-4342-af14-c284fdd52c97\",\"type\":\"GlyphRenderer\"},{\"id\":\"b5ca18c8-77b7-4531-b5cd-fd247088356c\",\"type\":\"GlyphRenderer\"}],\"title\":{\"id\":\"612a9738-fafd-4542-bac9-b569b935876f\",\"type\":\"Title\"},\"tool_events\":{\"id\":\"8bff57a5-491c-4320-989e-1d7bae267ab9\",\"type\":\"ToolEvents\"},\"toolbar\":{\"id\":\"592ee21f-9f7b-43e7-b74f-ad36a491b640\",\"type\":\"Toolbar\"},\"toolbar_location\":null,\"x_range\":{\"id\":\"c3228d98-648a-47c8-8a32-e9dcf4c3bbbc\",\"type\":\"Range1d\"},\"y_range\":{\"id\":\"389c141a-1352-4782-9109-45bfcad252a9\",\"type\":\"Range1d\"}},\"id\":\"fc8fae16-364a-47ad-9e0e-1791f64ab3cc\",\"subtype\":\"Figure\",\"type\":\"Plot\"},{\"attributes\":{},\"id\":\"23ef5aec-8017-46b0-8e5c-3c4ddb7dc86d\",\"type\":\"BasicTicker\"},{\"attributes\":{\"plot\":{\"id\":\"9faff7b8-409e-4075-a7b0-291f6b58e191\",\"subtype\":\"Figure\",\"type\":\"Plot\"},\"ticker\":{\"id\":\"c7615891-c2a2-4a29-8946-adb29f33c89f\",\"type\":\"BasicTicker\"}},\"id\":\"0ba57999-7af5-476d-8bb2-ca0cd18f6576\",\"type\":\"Grid\"},{\"attributes\":{\"axis_label\":\"n\",\"formatter\":{\"id\":\"8cf3ce7b-b6ec-4511-9d6a-2641e6cf81e1\",\"type\":\"BasicTickFormatter\"},\"plot\":{\"id\":\"fc8fae16-364a-47ad-9e0e-1791f64ab3cc\",\"subtype\":\"Figure\",\"type\":\"Plot\"},\"ticker\":{\"id\":\"5257f00a-25a5-4cb0-bef4-8c6b00ae3ab4\",\"type\":\"BasicTicker\"}},\"id\":\"33bd6e66-c5de-470c-843c-a6d8479223d0\",\"type\":\"LinearAxis\"},{\"attributes\":{\"fill_alpha\":{\"value\":0.1},\"fill_color\":{\"value\":\"#1f77b4\"},\"line_alpha\":{\"value\":0.1},\"line_color\":{\"value\":\"#1f77b4\"},\"size\":{\"units\":\"screen\",\"value\":10},\"x\":{\"field\":\"x\"},\"y\":{\"field\":\"y\"}},\"id\":\"510f5e03-c346-406c-9682-9bd3b0ce3a29\",\"type\":\"Circle\"},{\"attributes\":{\"dimension\":1,\"plot\":{\"id\":\"e1e5f0e9-03a3-4581-a906-a8e771585244\",\"subtype\":\"Figure\",\"type\":\"Plot\"},\"ticker\":{\"id\":\"c65185d3-c2a5-4db0-a8a0-1926e62beb36\",\"type\":\"BasicTicker\"}},\"id\":\"0642ce4a-397f-4f38-b942-29b7754dc8de\",\"type\":\"Grid\"},{\"attributes\":{\"active_drag\":\"auto\",\"active_scroll\":\"auto\",\"active_tap\":\"auto\",\"logo\":null},\"id\":\"cc0c9c26-d0bc-4243-8ff0-d8302b6fb514\",\"type\":\"Toolbar\"},{\"attributes\":{\"callback\":null,\"column_names\":[\"x\",\"y\"],\"data\":{\"x\":[-3,-2,-1,0,1,2,3],\"y\":[0,0,0,0,0,0,0]}},\"id\":\"d1bf64f2-7160-4ee5-8835-8ec1c3e2e843\",\"type\":\"ColumnDataSource\"},{\"attributes\":{},\"id\":\"02d0a582-29cf-4caa-8930-a9c434479499\",\"type\":\"ToolEvents\"},{\"attributes\":{\"data_source\":{\"id\":\"82777fe3-73c4-4c2a-bd92-6ca6ef8cd62d\",\"type\":\"ColumnDataSource\"},\"glyph\":{\"id\":\"b6b9a0d7-adf1-4e4b-ad4d-f5bcb89e0e4b\",\"type\":\"Segment\"},\"hover_glyph\":null,\"nonselection_glyph\":{\"id\":\"3a40ea61-1ca1-4543-9c7c-0a35bfc41fc2\",\"type\":\"Segment\"},\"selection_glyph\":null},\"id\":\"c4bd064c-df4a-4952-9526-447439c17c01\",\"type\":\"GlyphRenderer\"},{\"attributes\":{\"callback\":null,\"column_names\":[\"left\",\"top\",\"right\"],\"data\":{\"left\":[-3.02,-2.02,-1.02,-0.02,0.98,1.98,2.98],\"right\":[-2.98,-1.98,-0.98,0.02,1.02,2.02,3.02],\"top\":[0,0,0,0,0,0,0]}},\"id\":\"6e5d1653-b453-4b31-945a-9b400e6759dc\",\"type\":\"ColumnDataSource\"},{\"attributes\":{\"callback\":null},\"id\":\"268a90cc-38eb-4478-9485-9314eef7643d\",\"type\":\"ColumnDataSource\"},{\"attributes\":{\"fill_color\":{\"value\":\"white\"},\"size\":{\"units\":\"screen\",\"value\":10},\"x\":{\"field\":\"x\"},\"y\":{\"field\":\"y\"}},\"id\":\"a53a9885-62cd-41cc-907a-fdabfe99ea77\",\"type\":\"Circle\"},{\"attributes\":{\"data_source\":{\"id\":\"d38a7d19-f82c-4ac7-9657-157a196b8c58\",\"type\":\"ColumnDataSource\"},\"glyph\":{\"id\":\"b616b0a1-ebd0-4281-9a67-fd7490705e1b\",\"type\":\"Segment\"},\"hover_glyph\":null,\"nonselection_glyph\":{\"id\":\"b5477554-efbe-4d45-bf5f-f05bc197d223\",\"type\":\"Segment\"},\"selection_glyph\":null},\"id\":\"f940b67d-de0a-43b0-b635-299eb8bcc6d0\",\"type\":\"GlyphRenderer\"},{\"attributes\":{},\"id\":\"b09b3b9c-0345-43f8-9f60-4cc6614f9b1b\",\"type\":\"BasicTicker\"},{\"attributes\":{\"fill_color\":{\"value\":\"white\"},\"size\":{\"units\":\"screen\",\"value\":10},\"x\":{\"field\":\"x\"},\"y\":{\"field\":\"y\"}},\"id\":\"474b7763-0c6f-4263-9a76-3dc6f44f8914\",\"type\":\"Circle\"},{\"attributes\":{\"plot\":null,\"text\":\"x[n]\"},\"id\":\"fc5be836-c2b9-4613-9475-88a08c37674c\",\"type\":\"Title\"},{\"attributes\":{\"plot\":null,\"text\":\"h_k[n]\"},\"id\":\"612a9738-fafd-4542-bac9-b569b935876f\",\"type\":\"Title\"},{\"attributes\":{\"children\":[{\"id\":\"00a5a0cf-ce87-47d9-be1f-9cd5d51ac68d\",\"subtype\":\"Figure\",\"type\":\"Plot\"},{\"id\":\"77de7670-bf0b-4c7c-a2be-1ba22231582d\",\"type\":\"Spacer\"},{\"id\":\"9faff7b8-409e-4075-a7b0-291f6b58e191\",\"subtype\":\"Figure\",\"type\":\"Plot\"}]},\"id\":\"43ca0b3d-aee2-4d73-8e44-1757fa52466f\",\"type\":\"Row\"},{\"attributes\":{\"data_source\":{\"id\":\"62da1546-3866-4b6f-a99e-413de2f7b847\",\"type\":\"ColumnDataSource\"},\"glyph\":{\"id\":\"076984d2-5274-4d6e-aa93-c858f5c033cb\",\"type\":\"Segment\"},\"hover_glyph\":null,\"nonselection_glyph\":{\"id\":\"35716721-1eec-494d-88e0-51b80bbfc37d\",\"type\":\"Segment\"},\"selection_glyph\":null},\"id\":\"4074d024-bdb6-4342-af14-c284fdd52c97\",\"type\":\"GlyphRenderer\"},{\"attributes\":{\"data_source\":{\"id\":\"52e1cdd3-4131-4f95-aa07-bb2969154f7c\",\"type\":\"ColumnDataSource\"},\"glyph\":{\"id\":\"bbe4ad24-4a18-4304-8062-3d5ec55c7b7f\",\"type\":\"Circle\"},\"hover_glyph\":null,\"nonselection_glyph\":{\"id\":\"510f5e03-c346-406c-9682-9bd3b0ce3a29\",\"type\":\"Circle\"},\"selection_glyph\":null},\"id\":\"01b085ae-59d3-4046-a38b-ecc7cc0e4dfb\",\"type\":\"GlyphRenderer\"},{\"attributes\":{\"line_alpha\":{\"value\":0.5},\"line_color\":{\"value\":\"gray\"},\"line_width\":{\"value\":2},\"x0\":{\"value\":0},\"x1\":{\"value\":0},\"y0\":{\"value\":-4},\"y1\":{\"value\":4}},\"id\":\"453d30ec-2329-483c-aa9d-84c54b40e37a\",\"type\":\"Segment\"},{\"attributes\":{\"data_source\":{\"id\":\"b382e809-1add-48ef-a934-e574127dc309\",\"type\":\"ColumnDataSource\"},\"glyph\":{\"id\":\"2805459a-2098-415e-af63-ef655287764c\",\"type\":\"Segment\"},\"hover_glyph\":null,\"nonselection_glyph\":{\"id\":\"b951d8f4-e0c3-4437-90cd-0f8c15b8c8be\",\"type\":\"Segment\"},\"selection_glyph\":null},\"id\":\"7136d4f7-fa14-4dab-9d8f-dcec57af6a59\",\"type\":\"GlyphRenderer\"},{\"attributes\":{},\"id\":\"018ed84a-d513-4a9a-b5f7-53771a53bcdb\",\"type\":\"BasicTickFormatter\"},{\"attributes\":{\"dimension\":1,\"plot\":{\"id\":\"9faff7b8-409e-4075-a7b0-291f6b58e191\",\"subtype\":\"Figure\",\"type\":\"Plot\"},\"ticker\":{\"id\":\"3065b665-0a06-4e54-8dd9-3f05140c24e7\",\"type\":\"BasicTicker\"}},\"id\":\"8440b732-4326-45f9-80f4-1b1c8562b07c\",\"type\":\"Grid\"},{\"attributes\":{\"callback\":null},\"id\":\"82777fe3-73c4-4c2a-bd92-6ca6ef8cd62d\",\"type\":\"ColumnDataSource\"},{\"attributes\":{\"data_source\":{\"id\":\"e2f60721-a496-412f-8b2b-fe1e3c4b8e47\",\"type\":\"ColumnDataSource\"},\"glyph\":{\"id\":\"5c3a3b7a-38db-44f1-9fa0-5dd13c3a1f9e\",\"type\":\"Segment\"},\"hover_glyph\":null,\"nonselection_glyph\":{\"id\":\"8d644c13-915b-4ab6-997e-6b5521aed88a\",\"type\":\"Segment\"},\"selection_glyph\":null},\"id\":\"7d42bfde-3f1a-4ac4-a652-fe59b1d36a6e\",\"type\":\"GlyphRenderer\"},{\"attributes\":{\"axis_label\":\"x[k] h_k[n]\",\"formatter\":{\"id\":\"f04064c4-dac3-4f1f-995c-b7524753e1b1\",\"type\":\"BasicTickFormatter\"},\"plot\":{\"id\":\"d3c0f4ae-5000-4a75-8927-7190a6773f35\",\"subtype\":\"Figure\",\"type\":\"Plot\"},\"ticker\":{\"id\":\"b09b3b9c-0345-43f8-9f60-4cc6614f9b1b\",\"type\":\"BasicTicker\"}},\"id\":\"328415d3-b605-46be-837c-e30efdffc44e\",\"type\":\"LinearAxis\"},{\"attributes\":{},\"id\":\"6de2e9ed-4840-4068-8fac-3402e4f2179a\",\"type\":\"BasicTickFormatter\"},{\"attributes\":{\"plot\":{\"id\":\"d3c0f4ae-5000-4a75-8927-7190a6773f35\",\"subtype\":\"Figure\",\"type\":\"Plot\"},\"ticker\":{\"id\":\"469dd7f8-9e30-48ea-b6d0-e3b67365b8be\",\"type\":\"BasicTicker\"}},\"id\":\"7b1a7154-411e-4523-a122-0756907da83e\",\"type\":\"Grid\"},{\"attributes\":{},\"id\":\"07ec0fe1-995e-459d-885d-5700f6c6f55c\",\"type\":\"BasicTickFormatter\"},{\"attributes\":{\"callback\":null,\"end\":4,\"start\":-4},\"id\":\"c3228d98-648a-47c8-8a32-e9dcf4c3bbbc\",\"type\":\"Range1d\"},{\"attributes\":{},\"id\":\"73f3b313-ecba-424d-bf9b-f95f1c44933d\",\"type\":\"BasicTicker\"},{\"attributes\":{\"children\":[{\"id\":\"43ca0b3d-aee2-4d73-8e44-1757fa52466f\",\"type\":\"Row\"},{\"id\":\"534e666e-d23e-427e-90de-14e4b9290cae\",\"type\":\"Row\"}]},\"id\":\"7131c513-4b51-4d7e-8084-a015d9c41924\",\"type\":\"Column\"},{\"attributes\":{\"fill_alpha\":{\"value\":0.1},\"fill_color\":{\"value\":\"#1f77b4\"},\"line_alpha\":{\"value\":0.1},\"line_color\":{\"value\":\"#1f77b4\"},\"size\":{\"units\":\"screen\",\"value\":10},\"x\":{\"field\":\"x\"},\"y\":{\"field\":\"y\"}},\"id\":\"52b32d28-e463-40f9-aa3f-ae98ec6f04ec\",\"type\":\"Circle\"},{\"attributes\":{\"axis_label\":\"x[n]\",\"formatter\":{\"id\":\"364e17a6-9b1e-4510-8a85-74a7936b3c79\",\"type\":\"BasicTickFormatter\"},\"plot\":{\"id\":\"00a5a0cf-ce87-47d9-be1f-9cd5d51ac68d\",\"subtype\":\"Figure\",\"type\":\"Plot\"},\"ticker\":{\"id\":\"87c262f6-f876-4525-a956-b9461d92b953\",\"type\":\"BasicTicker\"}},\"id\":\"598a2d55-1e97-48ab-9d00-767d1bdde3e6\",\"type\":\"LinearAxis\"},{\"attributes\":{\"callback\":null,\"column_names\":[\"x\",\"y\"],\"data\":{\"x\":[-3,-2,-1,0,1,2,3],\"y\":[0.0,0.0,-1.0,0.6,1.2,0.0,0.0]}},\"id\":\"f7cebecb-0104-4e6a-aa6d-5e2a43cdc96b\",\"type\":\"ColumnDataSource\"},{\"attributes\":{\"data_source\":{\"id\":\"080879bb-cb86-4c38-bd1a-180725e91834\",\"type\":\"ColumnDataSource\"},\"glyph\":{\"id\":\"27feb2ce-69d1-4d3e-b304-35d1de78e801\",\"type\":\"Segment\"},\"hover_glyph\":null,\"nonselection_glyph\":{\"id\":\"b73b0291-82d8-45a8-8192-e8345342863e\",\"type\":\"Segment\"},\"selection_glyph\":null},\"id\":\"b5ca18c8-77b7-4531-b5cd-fd247088356c\",\"type\":\"GlyphRenderer\"},{\"attributes\":{\"fill_color\":{\"value\":\"white\"},\"size\":{\"units\":\"screen\",\"value\":10},\"x\":{\"field\":\"x\"},\"y\":{\"field\":\"y\"}},\"id\":\"1f6e1bfc-b650-4dee-ad8c-ea302c837731\",\"type\":\"Circle\"},{\"attributes\":{\"callback\":null,\"column_names\":[\"x\",\"y\"],\"data\":{\"x\":[-3,-2,-1,0,1,2,3],\"y\":[0,0,0,0,0,0,0]}},\"id\":\"b3d3c08a-b7fd-4ce5-af22-126d6f5353bf\",\"type\":\"ColumnDataSource\"},{\"attributes\":{\"line_alpha\":{\"value\":0.1},\"line_color\":{\"value\":\"#1f77b4\"},\"line_width\":{\"value\":2},\"x0\":{\"value\":0},\"x1\":{\"value\":0},\"y0\":{\"value\":-4},\"y1\":{\"value\":4}},\"id\":\"922ad8c0-20ba-4802-bb4b-26c6a80ebb9d\",\"type\":\"Segment\"},{\"attributes\":{\"data_source\":{\"id\":\"ccb7ff6e-6085-4c7b-a32d-ebf67e317b41\",\"type\":\"ColumnDataSource\"},\"glyph\":{\"id\":\"f82c8a25-65d2-4cf7-b7a6-c5b5d1bd76e0\",\"type\":\"Segment\"},\"hover_glyph\":null,\"nonselection_glyph\":{\"id\":\"f3f1d1d2-b982-493b-be69-9542dc4cf212\",\"type\":\"Segment\"},\"selection_glyph\":null},\"id\":\"c9f40809-86c2-4018-ae26-0f0eed26f322\",\"type\":\"GlyphRenderer\"},{\"attributes\":{\"line_alpha\":{\"value\":0.5},\"line_color\":{\"value\":\"gray\"},\"line_width\":{\"value\":2},\"x0\":{\"value\":0},\"x1\":{\"value\":0},\"y0\":{\"value\":-4},\"y1\":{\"value\":4}},\"id\":\"2805459a-2098-415e-af63-ef655287764c\",\"type\":\"Segment\"},{\"attributes\":{\"plot\":null,\"text\":\"x[k] h_k[n]\"},\"id\":\"1df1e4dd-d5ac-4a88-9b43-5496f858d32c\",\"type\":\"Title\"},{\"attributes\":{\"line_alpha\":{\"value\":0.1},\"line_color\":{\"value\":\"#1f77b4\"},\"line_width\":{\"value\":2},\"x0\":{\"value\":-4},\"x1\":{\"value\":4},\"y0\":{\"value\":0},\"y1\":{\"value\":0}},\"id\":\"35716721-1eec-494d-88e0-51b80bbfc37d\",\"type\":\"Segment\"},{\"attributes\":{\"data_source\":{\"id\":\"483cf5e1-bac4-4860-ba69-99a3573e97fd\",\"type\":\"ColumnDataSource\"},\"glyph\":{\"id\":\"474b7763-0c6f-4263-9a76-3dc6f44f8914\",\"type\":\"Circle\"},\"hover_glyph\":null,\"nonselection_glyph\":{\"id\":\"5bfa949e-a1f7-4731-b691-24cbef4c5b4b\",\"type\":\"Circle\"},\"selection_glyph\":null},\"id\":\"d08c1553-ed17-46c0-b504-1ff0bb9ab4d8\",\"type\":\"GlyphRenderer\"},{\"attributes\":{\"below\":[{\"id\":\"e6ca5e83-c0bf-4423-ae67-e56aa51729f4\",\"type\":\"LinearAxis\"}],\"left\":[{\"id\":\"328415d3-b605-46be-837c-e30efdffc44e\",\"type\":\"LinearAxis\"}],\"plot_height\":300,\"plot_width\":300,\"renderers\":[{\"id\":\"e6ca5e83-c0bf-4423-ae67-e56aa51729f4\",\"type\":\"LinearAxis\"},{\"id\":\"7b1a7154-411e-4523-a122-0756907da83e\",\"type\":\"Grid\"},{\"id\":\"328415d3-b605-46be-837c-e30efdffc44e\",\"type\":\"LinearAxis\"},{\"id\":\"6413a6bd-f03b-42c7-8ab7-5e850de165a8\",\"type\":\"Grid\"},{\"id\":\"87772124-1a32-4d7a-bf41-152d6aa5946f\",\"type\":\"GlyphRenderer\"},{\"id\":\"a0710363-9cc0-4c76-a9dd-25f0bf3fd67e\",\"type\":\"GlyphRenderer\"},{\"id\":\"7d42bfde-3f1a-4ac4-a652-fe59b1d36a6e\",\"type\":\"GlyphRenderer\"},{\"id\":\"0286b01d-64e1-4b75-847f-45ca11862243\",\"type\":\"GlyphRenderer\"}],\"title\":{\"id\":\"1df1e4dd-d5ac-4a88-9b43-5496f858d32c\",\"type\":\"Title\"},\"tool_events\":{\"id\":\"f775d018-99a2-4b94-963d-415c712fd841\",\"type\":\"ToolEvents\"},\"toolbar\":{\"id\":\"feaaa232-295c-4b5f-b1a3-00a9b93e3a2e\",\"type\":\"Toolbar\"},\"toolbar_location\":null,\"x_range\":{\"id\":\"c3228d98-648a-47c8-8a32-e9dcf4c3bbbc\",\"type\":\"Range1d\"},\"y_range\":{\"id\":\"389c141a-1352-4782-9109-45bfcad252a9\",\"type\":\"Range1d\"}},\"id\":\"d3c0f4ae-5000-4a75-8927-7190a6773f35\",\"subtype\":\"Figure\",\"type\":\"Plot\"},{\"attributes\":{\"fill_color\":{\"value\":\"white\"},\"size\":{\"units\":\"screen\",\"value\":10},\"x\":{\"field\":\"x\"},\"y\":{\"field\":\"y\"}},\"id\":\"d715531d-79c0-481a-8a93-62077fb36ace\",\"type\":\"Circle\"},{\"attributes\":{\"data_source\":{\"id\":\"8a341347-1ca2-4a26-ae9b-b1cdbccd1480\",\"type\":\"ColumnDataSource\"},\"glyph\":{\"id\":\"46b66e2c-69ae-4967-aaa3-a2b4a1ecb01c\",\"type\":\"Quad\"},\"hover_glyph\":null,\"nonselection_glyph\":{\"id\":\"717d8a1c-d4f4-4057-a751-42e1117bc806\",\"type\":\"Quad\"},\"selection_glyph\":null},\"id\":\"306c0124-7265-424e-aeff-87d1694b7d6b\",\"type\":\"GlyphRenderer\"},{\"attributes\":{\"sizing_mode\":\"scale_width\",\"toolbar_location\":\"above\"},\"id\":\"59f298d7-73ce-429e-9d1d-543d74b1332c\",\"type\":\"ToolbarBox\"},{\"attributes\":{\"line_alpha\":{\"value\":0.1},\"line_color\":{\"value\":\"#1f77b4\"},\"line_width\":{\"value\":2},\"x0\":{\"value\":0},\"x1\":{\"value\":0},\"y0\":{\"value\":-4},\"y1\":{\"value\":4}},\"id\":\"b951d8f4-e0c3-4437-90cd-0f8c15b8c8be\",\"type\":\"Segment\"},{\"attributes\":{},\"id\":\"143b07b5-374a-4d03-bb46-6f59e0d2fc3e\",\"type\":\"BasicTickFormatter\"},{\"attributes\":{\"callback\":null},\"id\":\"080879bb-cb86-4c38-bd1a-180725e91834\",\"type\":\"ColumnDataSource\"},{\"attributes\":{\"axis_label\":\"x[k] delta[n-k]\",\"formatter\":{\"id\":\"018ed84a-d513-4a9a-b5f7-53771a53bcdb\",\"type\":\"BasicTickFormatter\"},\"plot\":{\"id\":\"e1e5f0e9-03a3-4581-a906-a8e771585244\",\"subtype\":\"Figure\",\"type\":\"Plot\"},\"ticker\":{\"id\":\"c65185d3-c2a5-4db0-a8a0-1926e62beb36\",\"type\":\"BasicTicker\"}},\"id\":\"2c111d34-6e6e-45a7-a878-255a1389e0b2\",\"type\":\"LinearAxis\"},{\"attributes\":{\"callback\":null},\"id\":\"b382e809-1add-48ef-a934-e574127dc309\",\"type\":\"ColumnDataSource\"},{\"attributes\":{\"bottom\":{\"value\":0},\"fill_color\":{\"value\":\"black\"},\"left\":{\"field\":\"left\"},\"right\":{\"field\":\"right\"},\"top\":{\"field\":\"top\"}},\"id\":\"9c4022c6-3d37-4a50-aea0-7ff9d8fb00e9\",\"type\":\"Quad\"},{\"attributes\":{\"callback\":null},\"id\":\"62da1546-3866-4b6f-a99e-413de2f7b847\",\"type\":\"ColumnDataSource\"},{\"attributes\":{\"line_alpha\":{\"value\":0.5},\"line_color\":{\"value\":\"gray\"},\"line_width\":{\"value\":2},\"x0\":{\"value\":-4},\"x1\":{\"value\":4},\"y0\":{\"value\":0},\"y1\":{\"value\":0}},\"id\":\"076984d2-5274-4d6e-aa93-c858f5c033cb\",\"type\":\"Segment\"},{\"attributes\":{\"active_drag\":\"auto\",\"active_scroll\":\"auto\",\"active_tap\":\"auto\",\"logo\":null},\"id\":\"6bea862e-8ac5-4d04-926d-ee678c83211f\",\"type\":\"Toolbar\"},{\"attributes\":{\"axis_label\":\"n\",\"formatter\":{\"id\":\"0bbfe5aa-0cc7-4c5d-b9bf-184f9797f97d\",\"type\":\"BasicTickFormatter\"},\"plot\":{\"id\":\"9faff7b8-409e-4075-a7b0-291f6b58e191\",\"subtype\":\"Figure\",\"type\":\"Plot\"},\"ticker\":{\"id\":\"c7615891-c2a2-4a29-8946-adb29f33c89f\",\"type\":\"BasicTicker\"}},\"id\":\"62f7b6e2-5c96-42d0-ad95-a6071ba0957a\",\"type\":\"LinearAxis\"},{\"attributes\":{\"bottom\":{\"value\":0},\"fill_alpha\":{\"value\":0.1},\"fill_color\":{\"value\":\"#1f77b4\"},\"left\":{\"field\":\"left\"},\"line_alpha\":{\"value\":0.1},\"line_color\":{\"value\":\"#1f77b4\"},\"right\":{\"field\":\"right\"},\"top\":{\"field\":\"top\"}},\"id\":\"4203ed13-210c-4d0b-af62-3cdd9a180f5b\",\"type\":\"Quad\"},{\"attributes\":{\"line_alpha\":{\"value\":0.1},\"line_color\":{\"value\":\"#1f77b4\"},\"line_width\":{\"value\":2},\"x0\":{\"value\":0},\"x1\":{\"value\":0},\"y0\":{\"value\":-4},\"y1\":{\"value\":4}},\"id\":\"f3f1d1d2-b982-493b-be69-9542dc4cf212\",\"type\":\"Segment\"},{\"attributes\":{\"line_alpha\":{\"value\":0.5},\"line_color\":{\"value\":\"gray\"},\"line_width\":{\"value\":2},\"x0\":{\"value\":0},\"x1\":{\"value\":0},\"y0\":{\"value\":-4},\"y1\":{\"value\":4}},\"id\":\"95e1942b-5d68-4357-9320-8820200cc5e9\",\"type\":\"Segment\"},{\"attributes\":{\"below\":[{\"id\":\"05b15cb1-57db-4175-926a-e8a085c31b7a\",\"type\":\"LinearAxis\"}],\"left\":[{\"id\":\"598a2d55-1e97-48ab-9d00-767d1bdde3e6\",\"type\":\"LinearAxis\"}],\"plot_height\":300,\"plot_width\":300,\"renderers\":[{\"id\":\"05b15cb1-57db-4175-926a-e8a085c31b7a\",\"type\":\"LinearAxis\"},{\"id\":\"31fdb0b4-7db1-4f85-8e54-4b35a6b99946\",\"type\":\"Grid\"},{\"id\":\"598a2d55-1e97-48ab-9d00-767d1bdde3e6\",\"type\":\"LinearAxis\"},{\"id\":\"3195848e-e60e-43c0-9ed0-1824aa64e7d4\",\"type\":\"Grid\"},{\"id\":\"b30c07b7-72e8-4e26-91d7-9b214c0cc506\",\"type\":\"GlyphRenderer\"},{\"id\":\"9a7189b5-ac47-47be-a1fb-eb1c530a7417\",\"type\":\"GlyphRenderer\"},{\"id\":\"f940b67d-de0a-43b0-b635-299eb8bcc6d0\",\"type\":\"GlyphRenderer\"},{\"id\":\"7136d4f7-fa14-4dab-9d8f-dcec57af6a59\",\"type\":\"GlyphRenderer\"}],\"title\":{\"id\":\"fc5be836-c2b9-4613-9475-88a08c37674c\",\"type\":\"Title\"},\"tool_events\":{\"id\":\"02d0a582-29cf-4caa-8930-a9c434479499\",\"type\":\"ToolEvents\"},\"toolbar\":{\"id\":\"43381dbf-b365-4893-8132-efa69f9eb664\",\"type\":\"Toolbar\"},\"toolbar_location\":null,\"x_range\":{\"id\":\"c3228d98-648a-47c8-8a32-e9dcf4c3bbbc\",\"type\":\"Range1d\"},\"y_range\":{\"id\":\"389c141a-1352-4782-9109-45bfcad252a9\",\"type\":\"Range1d\"}},\"id\":\"00a5a0cf-ce87-47d9-be1f-9cd5d51ac68d\",\"subtype\":\"Figure\",\"type\":\"Plot\"},{\"attributes\":{\"data_source\":{\"id\":\"a7cfc246-2869-40fb-b2a0-058c13759c93\",\"type\":\"ColumnDataSource\"},\"glyph\":{\"id\":\"6e71292e-3693-4f11-b784-d953ee406e73\",\"type\":\"Quad\"},\"hover_glyph\":null,\"nonselection_glyph\":{\"id\":\"b900f0b2-ab04-4eb6-987b-62c5d799c944\",\"type\":\"Quad\"},\"selection_glyph\":null},\"id\":\"b30c07b7-72e8-4e26-91d7-9b214c0cc506\",\"type\":\"GlyphRenderer\"},{\"attributes\":{\"line_alpha\":{\"value\":0.5},\"line_color\":{\"value\":\"gray\"},\"line_width\":{\"value\":2},\"x0\":{\"value\":0},\"x1\":{\"value\":0},\"y0\":{\"value\":-4},\"y1\":{\"value\":4}},\"id\":\"27feb2ce-69d1-4d3e-b304-35d1de78e801\",\"type\":\"Segment\"},{\"attributes\":{\"callback\":null,\"column_names\":[\"x\",\"y\"],\"data\":{\"x\":[-3,-2,-1,0,1,2,3],\"y\":[0,0,0,0,0,0,0]}},\"id\":\"52e1cdd3-4131-4f95-aa07-bb2969154f7c\",\"type\":\"ColumnDataSource\"},{\"attributes\":{\"bottom\":{\"value\":0},\"fill_color\":{\"value\":\"black\"},\"left\":{\"field\":\"left\"},\"right\":{\"field\":\"right\"},\"top\":{\"field\":\"top\"}},\"id\":\"3683b5be-f7cb-48bf-997d-88cbda6b09eb\",\"type\":\"Quad\"},{\"attributes\":{\"callback\":null},\"id\":\"d38a7d19-f82c-4ac7-9657-157a196b8c58\",\"type\":\"ColumnDataSource\"},{\"attributes\":{},\"id\":\"f775d018-99a2-4b94-963d-415c712fd841\",\"type\":\"ToolEvents\"},{\"attributes\":{\"fill_color\":{\"value\":\"white\"},\"size\":{\"units\":\"screen\",\"value\":10},\"x\":{\"field\":\"x\"},\"y\":{\"field\":\"y\"}},\"id\":\"bbe4ad24-4a18-4304-8062-3d5ec55c7b7f\",\"type\":\"Circle\"},{\"attributes\":{\"axis_label\":\"h_k[n]\",\"formatter\":{\"id\":\"07ec0fe1-995e-459d-885d-5700f6c6f55c\",\"type\":\"BasicTickFormatter\"},\"plot\":{\"id\":\"fc8fae16-364a-47ad-9e0e-1791f64ab3cc\",\"subtype\":\"Figure\",\"type\":\"Plot\"},\"ticker\":{\"id\":\"73f3b313-ecba-424d-bf9b-f95f1c44933d\",\"type\":\"BasicTicker\"}},\"id\":\"21a34103-a98d-4731-8455-0e1a29e3fac6\",\"type\":\"LinearAxis\"},{\"attributes\":{\"plot\":{\"id\":\"fc8fae16-364a-47ad-9e0e-1791f64ab3cc\",\"subtype\":\"Figure\",\"type\":\"Plot\"},\"ticker\":{\"id\":\"5257f00a-25a5-4cb0-bef4-8c6b00ae3ab4\",\"type\":\"BasicTicker\"}},\"id\":\"125af95e-bc05-4f88-9f1d-0a1a2bbe3de5\",\"type\":\"Grid\"},{\"attributes\":{\"bottom\":{\"value\":0},\"fill_alpha\":{\"value\":0.1},\"fill_color\":{\"value\":\"#1f77b4\"},\"left\":{\"field\":\"left\"},\"line_alpha\":{\"value\":0.1},\"line_color\":{\"value\":\"#1f77b4\"},\"right\":{\"field\":\"right\"},\"top\":{\"field\":\"top\"}},\"id\":\"717d8a1c-d4f4-4057-a751-42e1117bc806\",\"type\":\"Quad\"},{\"attributes\":{\"callback\":null,\"column_names\":[\"left\",\"top\",\"right\"],\"data\":{\"left\":[-3.02,-2.02,-1.02,-0.02,0.98,1.98,2.98],\"right\":[-2.98,-1.98,-0.98,0.02,1.02,2.02,3.02],\"top\":[0.0,0.0,-1.0,0.6,1.2,0.0,0.0]}},\"id\":\"a7cfc246-2869-40fb-b2a0-058c13759c93\",\"type\":\"ColumnDataSource\"},{\"attributes\":{},\"id\":\"1313e91e-a1c4-43e8-a3a0-8accbff5fd8b\",\"type\":\"ToolEvents\"},{\"attributes\":{},\"id\":\"7569c82b-a297-4127-9b25-6bca1b567aff\",\"type\":\"ToolEvents\"},{\"attributes\":{\"line_alpha\":{\"value\":0.1},\"line_color\":{\"value\":\"#1f77b4\"},\"line_width\":{\"value\":2},\"x0\":{\"value\":-4},\"x1\":{\"value\":4},\"y0\":{\"value\":0},\"y1\":{\"value\":0}},\"id\":\"b5477554-efbe-4d45-bf5f-f05bc197d223\",\"type\":\"Segment\"},{\"attributes\":{\"bottom\":{\"value\":0},\"fill_alpha\":{\"value\":0.1},\"fill_color\":{\"value\":\"#1f77b4\"},\"left\":{\"field\":\"left\"},\"line_alpha\":{\"value\":0.1},\"line_color\":{\"value\":\"#1f77b4\"},\"right\":{\"field\":\"right\"},\"top\":{\"field\":\"top\"}},\"id\":\"b900f0b2-ab04-4eb6-987b-62c5d799c944\",\"type\":\"Quad\"},{\"attributes\":{\"axis_label\":\"y[n]\",\"formatter\":{\"id\":\"0a8f9714-2986-4f68-89e2-6e8aec26e73a\",\"type\":\"BasicTickFormatter\"},\"plot\":{\"id\":\"9faff7b8-409e-4075-a7b0-291f6b58e191\",\"subtype\":\"Figure\",\"type\":\"Plot\"},\"ticker\":{\"id\":\"3065b665-0a06-4e54-8dd9-3f05140c24e7\",\"type\":\"BasicTicker\"}},\"id\":\"b157edc3-d954-4af9-94bf-33c0a15af6bc\",\"type\":\"LinearAxis\"},{\"attributes\":{\"line_alpha\":{\"value\":0.5},\"line_color\":{\"value\":\"gray\"},\"line_width\":{\"value\":2},\"x0\":{\"value\":-4},\"x1\":{\"value\":4},\"y0\":{\"value\":0},\"y1\":{\"value\":0}},\"id\":\"b6b9a0d7-adf1-4e4b-ad4d-f5bcb89e0e4b\",\"type\":\"Segment\"}],\"root_ids\":[\"bdfd2613-9e1a-4bf9-a2be-d511dac19f40\"]},\"title\":\"Bokeh Application\",\"version\":\"0.12.2\"}};\n",
       "            var render_items = [{\"docid\":\"4fda5a7e-8db2-45a1-bfe0-4531c22c52a6\",\"elementid\":\"b42fac65-a280-496d-9394-403370241acf\",\"modelid\":\"bdfd2613-9e1a-4bf9-a2be-d511dac19f40\",\"notebook_comms_target\":\"ddff6ac0-7c02-4ce0-804a-a79e4de34883\"}];\n",
       "            \n",
       "            Bokeh.embed.embed_items(docs_json, render_items);\n",
       "        });\n",
       "      },\n",
       "      function(Bokeh) {\n",
       "      }\n",
       "    ];\n",
       "  \n",
       "    function run_inline_js() {\n",
       "      \n",
       "      if ((window.Bokeh !== undefined) || (force === \"1\")) {\n",
       "        for (var i = 0; i < inline_js.length; i++) {\n",
       "          inline_js[i](window.Bokeh);\n",
       "        }if (force === \"1\") {\n",
       "          display_loaded();\n",
       "        }} else if (Date.now() < window._bokeh_timeout) {\n",
       "        setTimeout(run_inline_js, 100);\n",
       "      } else if (!window._bokeh_failed_load) {\n",
       "        console.log(\"Bokeh: BokehJS failed to load within specified timeout.\");\n",
       "        window._bokeh_failed_load = true;\n",
       "      } else if (!force) {\n",
       "        var cell = $(\"#b42fac65-a280-496d-9394-403370241acf\").parents('.cell').data().cell;\n",
       "        cell.output_area.append_execute_result(NB_LOAD_WARNING)\n",
       "      }\n",
       "  \n",
       "    }\n",
       "  \n",
       "    if (window._bokeh_is_loading === 0) {\n",
       "      console.log(\"Bokeh: BokehJS loaded, going straight to plotting\");\n",
       "      run_inline_js();\n",
       "    } else {\n",
       "      load_libs(js_urls, function() {\n",
       "        console.log(\"Bokeh: BokehJS plotting callback run at\", now());\n",
       "        run_inline_js();\n",
       "      });\n",
       "    }\n",
       "  }(this));\n",
       "</script>"
      ]
     },
     "metadata": {},
     "output_type": "display_data"
    },
    {
     "data": {
      "text/html": [
       "<p><code>&lt;Bokeh Notebook handle for <strong>In[5]</strong>&gt;</code></p>"
      ],
      "text/plain": [
       "<bokeh.io._CommsHandle at 0x11621c98ac8>"
      ]
     },
     "execution_count": 4,
     "metadata": {},
     "output_type": "execute_result"
    }
   ],
   "source": [
    "grid = gridplot([[xn_p, None, y_p ],\n",
    "                 [xd_p, h_p, xh_p]])\n",
    "\n",
    "show(grid, notebook_handle=True)"
   ]
  },
  {
   "cell_type": "code",
   "execution_count": 5,
   "metadata": {
    "collapsed": false,
    "nbpresent": {
     "id": "bcd992d2-1628-4c7b-8399-a87ef9cb1cdb"
    }
   },
   "outputs": [],
   "source": [
    "interact(update, k=(-3,3))"
   ]
  }
 ],
 "metadata": {
  "anaconda-cloud": {},
  "kernelspec": {
   "display_name": "Python [default]",
   "language": "python",
   "name": "python3"
  },
  "language_info": {
   "codemirror_mode": {
    "name": "ipython",
    "version": 3
   },
   "file_extension": ".py",
   "mimetype": "text/x-python",
   "name": "python",
   "nbconvert_exporter": "python",
   "pygments_lexer": "ipython3",
   "version": "3.5.2"
  },
  "nbpresent": {
   "slides": {
    "bc2ab54a-2b34-4323-aea2-877400d3c120": {
     "id": "bc2ab54a-2b34-4323-aea2-877400d3c120",
     "prev": null,
     "regions": {
      "3df7a07c-d951-4461-b008-84be83fd9065": {
       "attrs": {
        "height": 0.2,
        "width": 0.4,
        "x": 0.1,
        "y": 0.7
       },
       "content": {
        "cell": "f4570264-8ef5-42fb-a3a4-f6dc3dcd52a7",
        "part": "source"
       },
       "id": "3df7a07c-d951-4461-b008-84be83fd9065"
      },
      "c3b27fda-adeb-408b-898a-7f26316d8df3": {
       "attrs": {
        "height": 0.2,
        "width": 0.4,
        "x": 0.5,
        "y": 0.7
       },
       "content": {
        "cell": "bcd992d2-1628-4c7b-8399-a87ef9cb1cdb",
        "part": "widgets"
       },
       "id": "c3b27fda-adeb-408b-898a-7f26316d8df3"
      },
      "eef66eb3-b7d3-4caa-83dc-ea9c7e0c0159": {
       "attrs": {
        "height": 0.6,
        "width": 0.8,
        "x": 0.1,
        "y": 0.1
       },
       "content": {
        "cell": "0b1d8916-2be2-4f01-9fa9-7d51c813c0d0",
        "part": "outputs"
       },
       "id": "eef66eb3-b7d3-4caa-83dc-ea9c7e0c0159"
      }
     }
    }
   },
   "themes": {}
  },
  "widgets": {
   "state": {
    "15756428360e491b95b4a37accdaeca3": {
     "views": [
      {
       "cell_index": 5
      }
     ]
    }
   },
   "version": "1.2.0"
  }
 },
 "nbformat": 4,
 "nbformat_minor": 1
}
