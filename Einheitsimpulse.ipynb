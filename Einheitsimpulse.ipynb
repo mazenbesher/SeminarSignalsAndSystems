{
 "cells": [
  {
   "cell_type": "code",
   "execution_count": 6,
   "metadata": {
    "collapsed": false,
    "nbpresent": {
     "id": "002f4cbf-64e5-494e-afcf-ad7d70d964a9"
    }
   },
   "outputs": [
    {
     "data": {
      "text/html": [
       "\n",
       "    <div class=\"bk-root\">\n",
       "        <a href=\"http://bokeh.pydata.org\" target=\"_blank\" class=\"bk-logo bk-logo-small bk-logo-notebook\"></a>\n",
       "        <span id=\"1bd5dcc6-b2bc-4b7f-bd83-356de29115ca\">Loading BokehJS ...</span>\n",
       "    </div>"
      ]
     },
     "metadata": {},
     "output_type": "display_data"
    },
    {
     "data": {
      "application/javascript": [
       "\n",
       "(function(global) {\n",
       "  function now() {\n",
       "    return new Date();\n",
       "  }\n",
       "\n",
       "  var force = true;\n",
       "\n",
       "  if (typeof (window._bokeh_onload_callbacks) === \"undefined\" || force === true) {\n",
       "    window._bokeh_onload_callbacks = [];\n",
       "    window._bokeh_is_loading = undefined;\n",
       "  }\n",
       "\n",
       "\n",
       "  \n",
       "  if (typeof (window._bokeh_timeout) === \"undefined\" || force === true) {\n",
       "    window._bokeh_timeout = Date.now() + 5000;\n",
       "    window._bokeh_failed_load = false;\n",
       "  }\n",
       "\n",
       "  var NB_LOAD_WARNING = {'data': {'text/html':\n",
       "     \"<div style='background-color: #fdd'>\\n\"+\n",
       "     \"<p>\\n\"+\n",
       "     \"BokehJS does not appear to have successfully loaded. If loading BokehJS from CDN, this \\n\"+\n",
       "     \"may be due to a slow or bad network connection. Possible fixes:\\n\"+\n",
       "     \"</p>\\n\"+\n",
       "     \"<ul>\\n\"+\n",
       "     \"<li>re-rerun `output_notebook()` to attempt to load from CDN again, or</li>\\n\"+\n",
       "     \"<li>use INLINE resources instead, as so:</li>\\n\"+\n",
       "     \"</ul>\\n\"+\n",
       "     \"<code>\\n\"+\n",
       "     \"from bokeh.resources import INLINE\\n\"+\n",
       "     \"output_notebook(resources=INLINE)\\n\"+\n",
       "     \"</code>\\n\"+\n",
       "     \"</div>\"}};\n",
       "\n",
       "  function display_loaded() {\n",
       "    if (window.Bokeh !== undefined) {\n",
       "      document.getElementById(\"1bd5dcc6-b2bc-4b7f-bd83-356de29115ca\").textContent = \"BokehJS successfully loaded.\";\n",
       "    } else if (Date.now() < window._bokeh_timeout) {\n",
       "      setTimeout(display_loaded, 100)\n",
       "    }\n",
       "  }\n",
       "\n",
       "  function run_callbacks() {\n",
       "    window._bokeh_onload_callbacks.forEach(function(callback) { callback() });\n",
       "    delete window._bokeh_onload_callbacks\n",
       "    console.info(\"Bokeh: all callbacks have finished\");\n",
       "  }\n",
       "\n",
       "  function load_libs(js_urls, callback) {\n",
       "    window._bokeh_onload_callbacks.push(callback);\n",
       "    if (window._bokeh_is_loading > 0) {\n",
       "      console.log(\"Bokeh: BokehJS is being loaded, scheduling callback at\", now());\n",
       "      return null;\n",
       "    }\n",
       "    if (js_urls == null || js_urls.length === 0) {\n",
       "      run_callbacks();\n",
       "      return null;\n",
       "    }\n",
       "    console.log(\"Bokeh: BokehJS not loaded, scheduling load and callback at\", now());\n",
       "    window._bokeh_is_loading = js_urls.length;\n",
       "    for (var i = 0; i < js_urls.length; i++) {\n",
       "      var url = js_urls[i];\n",
       "      var s = document.createElement('script');\n",
       "      s.src = url;\n",
       "      s.async = false;\n",
       "      s.onreadystatechange = s.onload = function() {\n",
       "        window._bokeh_is_loading--;\n",
       "        if (window._bokeh_is_loading === 0) {\n",
       "          console.log(\"Bokeh: all BokehJS libraries loaded\");\n",
       "          run_callbacks()\n",
       "        }\n",
       "      };\n",
       "      s.onerror = function() {\n",
       "        console.warn(\"failed to load library \" + url);\n",
       "      };\n",
       "      console.log(\"Bokeh: injecting script tag for BokehJS library: \", url);\n",
       "      document.getElementsByTagName(\"head\")[0].appendChild(s);\n",
       "    }\n",
       "  };var element = document.getElementById(\"1bd5dcc6-b2bc-4b7f-bd83-356de29115ca\");\n",
       "  if (element == null) {\n",
       "    console.log(\"Bokeh: ERROR: autoload.js configured with elementid '1bd5dcc6-b2bc-4b7f-bd83-356de29115ca' but no matching script tag was found. \")\n",
       "    return false;\n",
       "  }\n",
       "\n",
       "  var js_urls = [\"https://cdn.pydata.org/bokeh/release/bokeh-0.12.4.min.js\", \"https://cdn.pydata.org/bokeh/release/bokeh-widgets-0.12.4.min.js\"];\n",
       "\n",
       "  var inline_js = [\n",
       "    function(Bokeh) {\n",
       "      Bokeh.set_log_level(\"info\");\n",
       "    },\n",
       "    \n",
       "    function(Bokeh) {\n",
       "      \n",
       "      document.getElementById(\"1bd5dcc6-b2bc-4b7f-bd83-356de29115ca\").textContent = \"BokehJS is loading...\";\n",
       "    },\n",
       "    function(Bokeh) {\n",
       "      console.log(\"Bokeh: injecting CSS: https://cdn.pydata.org/bokeh/release/bokeh-0.12.4.min.css\");\n",
       "      Bokeh.embed.inject_css(\"https://cdn.pydata.org/bokeh/release/bokeh-0.12.4.min.css\");\n",
       "      console.log(\"Bokeh: injecting CSS: https://cdn.pydata.org/bokeh/release/bokeh-widgets-0.12.4.min.css\");\n",
       "      Bokeh.embed.inject_css(\"https://cdn.pydata.org/bokeh/release/bokeh-widgets-0.12.4.min.css\");\n",
       "    }\n",
       "  ];\n",
       "\n",
       "  function run_inline_js() {\n",
       "    \n",
       "    if ((window.Bokeh !== undefined) || (force === true)) {\n",
       "      for (var i = 0; i < inline_js.length; i++) {\n",
       "        inline_js[i](window.Bokeh);\n",
       "      }if (force === true) {\n",
       "        display_loaded();\n",
       "      }} else if (Date.now() < window._bokeh_timeout) {\n",
       "      setTimeout(run_inline_js, 100);\n",
       "    } else if (!window._bokeh_failed_load) {\n",
       "      console.log(\"Bokeh: BokehJS failed to load within specified timeout.\");\n",
       "      window._bokeh_failed_load = true;\n",
       "    } else if (force !== true) {\n",
       "      var cell = $(document.getElementById(\"1bd5dcc6-b2bc-4b7f-bd83-356de29115ca\")).parents('.cell').data().cell;\n",
       "      cell.output_area.append_execute_result(NB_LOAD_WARNING)\n",
       "    }\n",
       "\n",
       "  }\n",
       "\n",
       "  if (window._bokeh_is_loading === 0) {\n",
       "    console.log(\"Bokeh: BokehJS loaded, going straight to plotting\");\n",
       "    run_inline_js();\n",
       "  } else {\n",
       "    load_libs(js_urls, function() {\n",
       "      console.log(\"Bokeh: BokehJS plotting callback run at\", now());\n",
       "      run_inline_js();\n",
       "    });\n",
       "  }\n",
       "}(this));"
      ]
     },
     "metadata": {},
     "output_type": "display_data"
    }
   ],
   "source": [
    "from ipywidgets import interact\n",
    "\n",
    "from bokeh.plotting import figure\n",
    "from bokeh.io import push_notebook, show, output_notebook\n",
    "from bokeh.layouts import row\n",
    "from bokeh.models import Range1d\n",
    "\n",
    "output_notebook()"
   ]
  },
  {
   "cell_type": "code",
   "execution_count": 7,
   "metadata": {
    "collapsed": true,
    "nbpresent": {
     "id": "3c4ac720-1792-4486-b0e6-90c74a7a5ee5"
    }
   },
   "outputs": [],
   "source": [
    "# Globals\n",
    "oo = float(\"inf\")\n",
    "quad_width = 0.02\n",
    "default_plot_size = (450, 300)\n",
    "default_color = \"black\"\n",
    "\n",
    "def delete_toolbar(plot):\n",
    "    # remove the logo and the toolbar\n",
    "    plot.toolbar.logo = None\n",
    "    plot.toolbar_location = None"
   ]
  },
  {
   "cell_type": "markdown",
   "metadata": {
    "nbpresent": {
     "id": "54de3b19-917c-4998-8334-578e8baca542"
    }
   },
   "source": [
    "# Einheitsimpulse\n",
    "$\\delta[n]$"
   ]
  },
  {
   "cell_type": "code",
   "execution_count": 8,
   "metadata": {
    "collapsed": false,
    "nbpresent": {
     "id": "f16dc263-f14d-45e1-99a3-8f5550461099"
    }
   },
   "outputs": [],
   "source": [
    "n = range(-3,3+1)\n",
    "xn = [0 for _ in n]; xn[len(n)//2] = 1\n",
    "\n",
    "in_p = figure(width=default_plot_size[0], height=default_plot_size[1], \n",
    "              title=\"Einheitsimpulse\", x_axis_label=\"n\", y_axis_label=\"delta[n]\",tools=['save'])\n",
    "delete_toolbar(in_p)\n",
    "\n",
    "# ranges\n",
    "in_p.x_range = Range1d(n[0]-1, n[-1]+1)\n",
    "in_p.y_range = Range1d(-1,2)\n",
    "\n",
    "# axes\n",
    "in_p.segment(x0=min(n)-1, y0=0, x1=max(n)+1, y1=0, line_width = 2,color=\"black\")    # x_axis\n",
    "\n",
    "# input signal\n",
    "in_color = \"black\"\n",
    "in_quad = in_p.quad(top=xn, bottom=0, left=[i-quad_width for i in n], right=[i+quad_width for i in n], color=in_color)\n",
    "in_cir = in_p.circle(n, xn, size=10, color=in_color, fill_color=\"white\")\n",
    "\n",
    "# update\n",
    "def update(k):\n",
    "    new_xn = [0 for _ in xn]\n",
    "    new_xn[len(n) // 2 + k] = 1\n",
    "    in_quad.data_source.data['top'] = new_xn\n",
    "    in_cir.data_source.data['y'] = new_xn\n",
    "    in_p.title.text = \"Einheitsimpulse delta[n-{}]\".format(k)\n",
    "    \n",
    "    push_notebook()"
   ]
  },
  {
   "cell_type": "markdown",
   "metadata": {
    "nbpresent": {
     "id": "3790149e-78ac-4a0c-8bbe-2676107d03a3"
    }
   },
   "source": [
    "$\\delta[n-k]$"
   ]
  },
  {
   "cell_type": "code",
   "execution_count": 9,
   "metadata": {
    "collapsed": false,
    "nbpresent": {
     "id": "d114d685-323b-488e-bb80-e34b39c76518"
    }
   },
   "outputs": [
    {
     "data": {
      "text/html": [
       "\n",
       "\n",
       "    <div class=\"bk-root\">\n",
       "        <div class=\"bk-plotdiv\" id=\"47248c95-b3b2-4928-89a1-e2da344bbd34\"></div>\n",
       "    </div>\n",
       "<script type=\"text/javascript\">\n",
       "  \n",
       "  (function(global) {\n",
       "    function now() {\n",
       "      return new Date();\n",
       "    }\n",
       "  \n",
       "    var force = false;\n",
       "  \n",
       "    if (typeof (window._bokeh_onload_callbacks) === \"undefined\" || force === true) {\n",
       "      window._bokeh_onload_callbacks = [];\n",
       "      window._bokeh_is_loading = undefined;\n",
       "    }\n",
       "  \n",
       "  \n",
       "    \n",
       "    if (typeof (window._bokeh_timeout) === \"undefined\" || force === true) {\n",
       "      window._bokeh_timeout = Date.now() + 0;\n",
       "      window._bokeh_failed_load = false;\n",
       "    }\n",
       "  \n",
       "    var NB_LOAD_WARNING = {'data': {'text/html':\n",
       "       \"<div style='background-color: #fdd'>\\n\"+\n",
       "       \"<p>\\n\"+\n",
       "       \"BokehJS does not appear to have successfully loaded. If loading BokehJS from CDN, this \\n\"+\n",
       "       \"may be due to a slow or bad network connection. Possible fixes:\\n\"+\n",
       "       \"</p>\\n\"+\n",
       "       \"<ul>\\n\"+\n",
       "       \"<li>re-rerun `output_notebook()` to attempt to load from CDN again, or</li>\\n\"+\n",
       "       \"<li>use INLINE resources instead, as so:</li>\\n\"+\n",
       "       \"</ul>\\n\"+\n",
       "       \"<code>\\n\"+\n",
       "       \"from bokeh.resources import INLINE\\n\"+\n",
       "       \"output_notebook(resources=INLINE)\\n\"+\n",
       "       \"</code>\\n\"+\n",
       "       \"</div>\"}};\n",
       "  \n",
       "    function display_loaded() {\n",
       "      if (window.Bokeh !== undefined) {\n",
       "        document.getElementById(\"47248c95-b3b2-4928-89a1-e2da344bbd34\").textContent = \"BokehJS successfully loaded.\";\n",
       "      } else if (Date.now() < window._bokeh_timeout) {\n",
       "        setTimeout(display_loaded, 100)\n",
       "      }\n",
       "    }if ((window.Jupyter !== undefined) && Jupyter.notebook.kernel) {\n",
       "      comm_manager = Jupyter.notebook.kernel.comm_manager\n",
       "      comm_manager.register_target(\"6cb8eedf-24e3-417a-b22f-7829cc39dd7b\", function () {});\n",
       "    }\n",
       "  \n",
       "    function run_callbacks() {\n",
       "      window._bokeh_onload_callbacks.forEach(function(callback) { callback() });\n",
       "      delete window._bokeh_onload_callbacks\n",
       "      console.info(\"Bokeh: all callbacks have finished\");\n",
       "    }\n",
       "  \n",
       "    function load_libs(js_urls, callback) {\n",
       "      window._bokeh_onload_callbacks.push(callback);\n",
       "      if (window._bokeh_is_loading > 0) {\n",
       "        console.log(\"Bokeh: BokehJS is being loaded, scheduling callback at\", now());\n",
       "        return null;\n",
       "      }\n",
       "      if (js_urls == null || js_urls.length === 0) {\n",
       "        run_callbacks();\n",
       "        return null;\n",
       "      }\n",
       "      console.log(\"Bokeh: BokehJS not loaded, scheduling load and callback at\", now());\n",
       "      window._bokeh_is_loading = js_urls.length;\n",
       "      for (var i = 0; i < js_urls.length; i++) {\n",
       "        var url = js_urls[i];\n",
       "        var s = document.createElement('script');\n",
       "        s.src = url;\n",
       "        s.async = false;\n",
       "        s.onreadystatechange = s.onload = function() {\n",
       "          window._bokeh_is_loading--;\n",
       "          if (window._bokeh_is_loading === 0) {\n",
       "            console.log(\"Bokeh: all BokehJS libraries loaded\");\n",
       "            run_callbacks()\n",
       "          }\n",
       "        };\n",
       "        s.onerror = function() {\n",
       "          console.warn(\"failed to load library \" + url);\n",
       "        };\n",
       "        console.log(\"Bokeh: injecting script tag for BokehJS library: \", url);\n",
       "        document.getElementsByTagName(\"head\")[0].appendChild(s);\n",
       "      }\n",
       "    };var element = document.getElementById(\"47248c95-b3b2-4928-89a1-e2da344bbd34\");\n",
       "    if (element == null) {\n",
       "      console.log(\"Bokeh: ERROR: autoload.js configured with elementid '47248c95-b3b2-4928-89a1-e2da344bbd34' but no matching script tag was found. \")\n",
       "      return false;\n",
       "    }\n",
       "  \n",
       "    var js_urls = [];\n",
       "  \n",
       "    var inline_js = [\n",
       "      function(Bokeh) {\n",
       "        (function() {\n",
       "          var fn = function() {\n",
       "            var docs_json = {\"55111522-06cb-42ab-b5e5-850657ba2a6c\":{\"roots\":{\"references\":[{\"attributes\":{},\"id\":\"941b1b35-eee6-4a95-a197-f538218a820e\",\"type\":\"ToolEvents\"},{\"attributes\":{\"bottom\":{\"value\":0},\"fill_alpha\":{\"value\":0.1},\"fill_color\":{\"value\":\"#1f77b4\"},\"left\":{\"field\":\"left\"},\"line_alpha\":{\"value\":0.1},\"line_color\":{\"value\":\"#1f77b4\"},\"right\":{\"field\":\"right\"},\"top\":{\"field\":\"top\"}},\"id\":\"ee312ce8-a3fc-4d6c-aac9-a5629b9c388f\",\"type\":\"Quad\"},{\"attributes\":{\"callback\":null,\"column_names\":[\"top\",\"right\",\"left\"],\"data\":{\"left\":[-3.02,-2.02,-1.02,-0.02,0.98,1.98,2.98],\"right\":[-2.98,-1.98,-0.98,0.02,1.02,2.02,3.02],\"top\":[0,0,0,1,0,0,0]}},\"id\":\"1fed3b16-2ef0-4c9c-a70e-c8258b1b13de\",\"type\":\"ColumnDataSource\"},{\"attributes\":{\"callback\":null,\"end\":2,\"start\":-1},\"id\":\"2ca3d6af-4ca2-46ee-9ee1-74d07f73e343\",\"type\":\"Range1d\"},{\"attributes\":{\"data_source\":{\"id\":\"cb44128d-5d49-494a-a7ea-4edd883cebd4\",\"type\":\"ColumnDataSource\"},\"glyph\":{\"id\":\"be92464b-8f64-4271-b06c-4c53f3851375\",\"type\":\"Circle\"},\"hover_glyph\":null,\"nonselection_glyph\":{\"id\":\"3497b418-a360-43b4-a4f9-5b6a0ef6d161\",\"type\":\"Circle\"},\"selection_glyph\":null},\"id\":\"d213fc72-9b71-4c44-85da-8c5419e4d56d\",\"type\":\"GlyphRenderer\"},{\"attributes\":{\"plot\":null,\"text\":\"Einheitsimpulse\"},\"id\":\"cfe8c6a8-42fe-426d-95ae-c4021bc5cb85\",\"type\":\"Title\"},{\"attributes\":{\"callback\":null,\"end\":4,\"start\":-4},\"id\":\"ccf9a616-8bdc-451c-b091-c0fb478d02ee\",\"type\":\"Range1d\"},{\"attributes\":{\"bottom\":{\"value\":0},\"fill_color\":{\"value\":\"black\"},\"left\":{\"field\":\"left\"},\"right\":{\"field\":\"right\"},\"top\":{\"field\":\"top\"}},\"id\":\"1a92419d-8305-40c3-aa9e-63fa9a5cd6e6\",\"type\":\"Quad\"},{\"attributes\":{\"callback\":null,\"column_names\":[\"y\",\"x\"],\"data\":{\"x\":[-3,-2,-1,0,1,2,3],\"y\":[0,0,0,1,0,0,0]}},\"id\":\"cb44128d-5d49-494a-a7ea-4edd883cebd4\",\"type\":\"ColumnDataSource\"},{\"attributes\":{\"active_drag\":\"auto\",\"active_scroll\":\"auto\",\"active_tap\":\"auto\",\"logo\":null,\"tools\":[{\"id\":\"4539730d-c67d-4cac-bd80-61339c7a8774\",\"type\":\"SaveTool\"}]},\"id\":\"f7bc278f-e52d-4a22-8bfe-867c0a31a527\",\"type\":\"Toolbar\"},{\"attributes\":{},\"id\":\"64b01b71-0dd3-4039-a14a-892bf50fafb5\",\"type\":\"BasicTickFormatter\"},{\"attributes\":{\"axis_label\":\"delta[n]\",\"formatter\":{\"id\":\"64b01b71-0dd3-4039-a14a-892bf50fafb5\",\"type\":\"BasicTickFormatter\"},\"plot\":{\"id\":\"66a8095e-3921-4c77-85df-4677cc4d4a3b\",\"subtype\":\"Figure\",\"type\":\"Plot\"},\"ticker\":{\"id\":\"d02f5866-8b4c-4136-bd41-bcfafea53b02\",\"type\":\"BasicTicker\"}},\"id\":\"b8d57ed9-453f-453c-926d-70df3e073bbf\",\"type\":\"LinearAxis\"},{\"attributes\":{\"callback\":null},\"id\":\"989c5f45-a7a1-4bfb-ba7a-c1367963c5e0\",\"type\":\"ColumnDataSource\"},{\"attributes\":{\"line_alpha\":{\"value\":0.1},\"line_color\":{\"value\":\"#1f77b4\"},\"line_width\":{\"value\":2},\"x0\":{\"value\":-4},\"x1\":{\"value\":4},\"y0\":{\"value\":0},\"y1\":{\"value\":0}},\"id\":\"dd52465d-a59a-4f5e-8843-14ced488f22c\",\"type\":\"Segment\"},{\"attributes\":{\"axis_label\":\"n\",\"formatter\":{\"id\":\"a8be489c-08e6-4605-a632-349eafd0078e\",\"type\":\"BasicTickFormatter\"},\"plot\":{\"id\":\"66a8095e-3921-4c77-85df-4677cc4d4a3b\",\"subtype\":\"Figure\",\"type\":\"Plot\"},\"ticker\":{\"id\":\"22d35a59-02e4-4800-8995-4614d4c363c4\",\"type\":\"BasicTicker\"}},\"id\":\"b13238a0-cfa9-4278-b5a5-dc3e69ed5c3a\",\"type\":\"LinearAxis\"},{\"attributes\":{},\"id\":\"22d35a59-02e4-4800-8995-4614d4c363c4\",\"type\":\"BasicTicker\"},{\"attributes\":{},\"id\":\"a8be489c-08e6-4605-a632-349eafd0078e\",\"type\":\"BasicTickFormatter\"},{\"attributes\":{\"dimension\":1,\"plot\":{\"id\":\"66a8095e-3921-4c77-85df-4677cc4d4a3b\",\"subtype\":\"Figure\",\"type\":\"Plot\"},\"ticker\":{\"id\":\"d02f5866-8b4c-4136-bd41-bcfafea53b02\",\"type\":\"BasicTicker\"}},\"id\":\"380bc75d-c660-436a-9fd5-6d4a32d7852f\",\"type\":\"Grid\"},{\"attributes\":{\"plot\":{\"id\":\"66a8095e-3921-4c77-85df-4677cc4d4a3b\",\"subtype\":\"Figure\",\"type\":\"Plot\"}},\"id\":\"4539730d-c67d-4cac-bd80-61339c7a8774\",\"type\":\"SaveTool\"},{\"attributes\":{\"fill_color\":{\"value\":\"white\"},\"size\":{\"units\":\"screen\",\"value\":10},\"x\":{\"field\":\"x\"},\"y\":{\"field\":\"y\"}},\"id\":\"be92464b-8f64-4271-b06c-4c53f3851375\",\"type\":\"Circle\"},{\"attributes\":{\"fill_alpha\":{\"value\":0.1},\"fill_color\":{\"value\":\"#1f77b4\"},\"line_alpha\":{\"value\":0.1},\"line_color\":{\"value\":\"#1f77b4\"},\"size\":{\"units\":\"screen\",\"value\":10},\"x\":{\"field\":\"x\"},\"y\":{\"field\":\"y\"}},\"id\":\"3497b418-a360-43b4-a4f9-5b6a0ef6d161\",\"type\":\"Circle\"},{\"attributes\":{\"line_width\":{\"value\":2},\"x0\":{\"value\":-4},\"x1\":{\"value\":4},\"y0\":{\"value\":0},\"y1\":{\"value\":0}},\"id\":\"89512135-4c48-4a87-b15f-5f759c8f6873\",\"type\":\"Segment\"},{\"attributes\":{},\"id\":\"d02f5866-8b4c-4136-bd41-bcfafea53b02\",\"type\":\"BasicTicker\"},{\"attributes\":{\"below\":[{\"id\":\"b13238a0-cfa9-4278-b5a5-dc3e69ed5c3a\",\"type\":\"LinearAxis\"}],\"left\":[{\"id\":\"b8d57ed9-453f-453c-926d-70df3e073bbf\",\"type\":\"LinearAxis\"}],\"plot_height\":300,\"plot_width\":450,\"renderers\":[{\"id\":\"b13238a0-cfa9-4278-b5a5-dc3e69ed5c3a\",\"type\":\"LinearAxis\"},{\"id\":\"ce8eb014-88df-44e1-9253-0461e3254980\",\"type\":\"Grid\"},{\"id\":\"b8d57ed9-453f-453c-926d-70df3e073bbf\",\"type\":\"LinearAxis\"},{\"id\":\"380bc75d-c660-436a-9fd5-6d4a32d7852f\",\"type\":\"Grid\"},{\"id\":\"b2618dcf-8db1-480c-ba70-9c842c58b591\",\"type\":\"GlyphRenderer\"},{\"id\":\"c3fa0dc9-9565-401c-b63f-047ee2ccdc04\",\"type\":\"GlyphRenderer\"},{\"id\":\"d213fc72-9b71-4c44-85da-8c5419e4d56d\",\"type\":\"GlyphRenderer\"}],\"title\":{\"id\":\"cfe8c6a8-42fe-426d-95ae-c4021bc5cb85\",\"type\":\"Title\"},\"tool_events\":{\"id\":\"941b1b35-eee6-4a95-a197-f538218a820e\",\"type\":\"ToolEvents\"},\"toolbar\":{\"id\":\"f7bc278f-e52d-4a22-8bfe-867c0a31a527\",\"type\":\"Toolbar\"},\"toolbar_location\":null,\"x_range\":{\"id\":\"ccf9a616-8bdc-451c-b091-c0fb478d02ee\",\"type\":\"Range1d\"},\"y_range\":{\"id\":\"2ca3d6af-4ca2-46ee-9ee1-74d07f73e343\",\"type\":\"Range1d\"}},\"id\":\"66a8095e-3921-4c77-85df-4677cc4d4a3b\",\"subtype\":\"Figure\",\"type\":\"Plot\"},{\"attributes\":{\"plot\":{\"id\":\"66a8095e-3921-4c77-85df-4677cc4d4a3b\",\"subtype\":\"Figure\",\"type\":\"Plot\"},\"ticker\":{\"id\":\"22d35a59-02e4-4800-8995-4614d4c363c4\",\"type\":\"BasicTicker\"}},\"id\":\"ce8eb014-88df-44e1-9253-0461e3254980\",\"type\":\"Grid\"},{\"attributes\":{\"data_source\":{\"id\":\"989c5f45-a7a1-4bfb-ba7a-c1367963c5e0\",\"type\":\"ColumnDataSource\"},\"glyph\":{\"id\":\"89512135-4c48-4a87-b15f-5f759c8f6873\",\"type\":\"Segment\"},\"hover_glyph\":null,\"nonselection_glyph\":{\"id\":\"dd52465d-a59a-4f5e-8843-14ced488f22c\",\"type\":\"Segment\"},\"selection_glyph\":null},\"id\":\"b2618dcf-8db1-480c-ba70-9c842c58b591\",\"type\":\"GlyphRenderer\"},{\"attributes\":{\"data_source\":{\"id\":\"1fed3b16-2ef0-4c9c-a70e-c8258b1b13de\",\"type\":\"ColumnDataSource\"},\"glyph\":{\"id\":\"1a92419d-8305-40c3-aa9e-63fa9a5cd6e6\",\"type\":\"Quad\"},\"hover_glyph\":null,\"nonselection_glyph\":{\"id\":\"ee312ce8-a3fc-4d6c-aac9-a5629b9c388f\",\"type\":\"Quad\"},\"selection_glyph\":null},\"id\":\"c3fa0dc9-9565-401c-b63f-047ee2ccdc04\",\"type\":\"GlyphRenderer\"}],\"root_ids\":[\"66a8095e-3921-4c77-85df-4677cc4d4a3b\"]},\"title\":\"Bokeh Application\",\"version\":\"0.12.4\"}};\n",
       "            var render_items = [{\"docid\":\"55111522-06cb-42ab-b5e5-850657ba2a6c\",\"elementid\":\"47248c95-b3b2-4928-89a1-e2da344bbd34\",\"modelid\":\"66a8095e-3921-4c77-85df-4677cc4d4a3b\",\"notebook_comms_target\":\"6cb8eedf-24e3-417a-b22f-7829cc39dd7b\"}];\n",
       "            \n",
       "            Bokeh.embed.embed_items(docs_json, render_items);\n",
       "          };\n",
       "          if (document.readyState != \"loading\") fn();\n",
       "          else document.addEventListener(\"DOMContentLoaded\", fn);\n",
       "        })();\n",
       "      },\n",
       "      function(Bokeh) {\n",
       "      }\n",
       "    ];\n",
       "  \n",
       "    function run_inline_js() {\n",
       "      \n",
       "      if ((window.Bokeh !== undefined) || (force === true)) {\n",
       "        for (var i = 0; i < inline_js.length; i++) {\n",
       "          inline_js[i](window.Bokeh);\n",
       "        }if (force === true) {\n",
       "          display_loaded();\n",
       "        }} else if (Date.now() < window._bokeh_timeout) {\n",
       "        setTimeout(run_inline_js, 100);\n",
       "      } else if (!window._bokeh_failed_load) {\n",
       "        console.log(\"Bokeh: BokehJS failed to load within specified timeout.\");\n",
       "        window._bokeh_failed_load = true;\n",
       "      } else if (force !== true) {\n",
       "        var cell = $(document.getElementById(\"47248c95-b3b2-4928-89a1-e2da344bbd34\")).parents('.cell').data().cell;\n",
       "        cell.output_area.append_execute_result(NB_LOAD_WARNING)\n",
       "      }\n",
       "  \n",
       "    }\n",
       "  \n",
       "    if (window._bokeh_is_loading === 0) {\n",
       "      console.log(\"Bokeh: BokehJS loaded, going straight to plotting\");\n",
       "      run_inline_js();\n",
       "    } else {\n",
       "      load_libs(js_urls, function() {\n",
       "        console.log(\"Bokeh: BokehJS plotting callback run at\", now());\n",
       "        run_inline_js();\n",
       "      });\n",
       "    }\n",
       "  }(this));\n",
       "</script>"
      ]
     },
     "metadata": {},
     "output_type": "display_data"
    },
    {
     "data": {
      "text/html": [
       "<p><code>&lt;Bokeh Notebook handle for <strong>In[34]</strong>&gt;</code></p>"
      ],
      "text/plain": [
       "<bokeh.io._CommsHandle at 0x180a0a2d860>"
      ]
     },
     "execution_count": 9,
     "metadata": {},
     "output_type": "execute_result"
    }
   ],
   "source": [
    "show(in_p, notebook_handle=True)"
   ]
  },
  {
   "cell_type": "code",
   "execution_count": 10,
   "metadata": {
    "collapsed": false,
    "nbpresent": {
     "id": "4ceb58bd-4c9b-4aab-98b4-505ac3cd940a"
    }
   },
   "outputs": [],
   "source": [
    "interact(update, k=(-3,3))"
   ]
  }
 ],
 "metadata": {
  "anaconda-cloud": {},
  "kernelspec": {
   "display_name": "Python [default]",
   "language": "python",
   "name": "python3"
  },
  "language_info": {
   "codemirror_mode": {
    "name": "ipython",
    "version": 3
   },
   "file_extension": ".py",
   "mimetype": "text/x-python",
   "name": "python",
   "nbconvert_exporter": "python",
   "pygments_lexer": "ipython3",
   "version": "3.5.2"
  },
  "nbpresent": {
   "slides": {
    "45ebb781-7165-49b9-89b9-d1cc5ab843e2": {
     "id": "45ebb781-7165-49b9-89b9-d1cc5ab843e2",
     "prev": null,
     "regions": {
      "5260e91f-0464-4eb6-ba38-de0d2b29aa24": {
       "attrs": {
        "height": 0.2,
        "width": 0.4,
        "x": 0.1,
        "y": 0.7
       },
       "content": {
        "cell": "54de3b19-917c-4998-8334-578e8baca542",
        "part": "source"
       },
       "id": "5260e91f-0464-4eb6-ba38-de0d2b29aa24"
      },
      "68c3b904-31e4-4807-8045-2e50c46857f6": {
       "attrs": {
        "height": 0.2,
        "width": 0.4,
        "x": 0.5,
        "y": 0.7
       },
       "content": {
        "cell": "4ceb58bd-4c9b-4aab-98b4-505ac3cd940a",
        "part": "widgets"
       },
       "id": "68c3b904-31e4-4807-8045-2e50c46857f6"
      },
      "aadba2d0-d55f-4798-8d36-2911d443c197": {
       "attrs": {
        "height": 0.6,
        "width": 0.8,
        "x": 0.1,
        "y": 0.1
       },
       "content": {
        "cell": "d114d685-323b-488e-bb80-e34b39c76518",
        "part": "outputs"
       },
       "id": "aadba2d0-d55f-4798-8d36-2911d443c197"
      }
     }
    }
   },
   "themes": {}
  },
  "widgets": {
   "state": {
    "0b218897d7614e18850e8db2a94e1caf": {
     "views": [
      {
       "cell_index": 6
      }
     ]
    }
   },
   "version": "1.2.0"
  }
 },
 "nbformat": 4,
 "nbformat_minor": 1
}
